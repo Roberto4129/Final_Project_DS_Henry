{
 "cells": [
  {
   "cell_type": "code",
   "execution_count": 23,
   "metadata": {},
   "outputs": [],
   "source": [
    "from googleapiclient.discovery import build\n",
    "from google.oauth2 import service_account\n",
    "from googleapiclient.http import MediaIoBaseDownload\n",
    "from googleapiclient.errors import HttpError\n",
    "import io\n",
    "import os"
   ]
  },
  {
   "cell_type": "code",
   "execution_count": null,
   "metadata": {},
   "outputs": [],
   "source": [
    "# Ruta al archivo JSON de credenciales de la cuenta de servicio\n",
    "credentials_path = 'credentials.json'\n",
    "\n",
    "# Lista de IDs de las carpetas de las que deseas obtener los IDs de archivos\n",
    "folder_ids = ['1TWOg-xL4yMX263fDHYEHavJenhyoGWUd', '1rxLt6yC8RCiZpw_8iT9wTtYz61X26tDu', '1F5Hi3irsEu2zBWrEliBzb5Y6Z7sJjR85','1TCd7e5G1maersqqBZtSDEhkZRJfY_UMK']\n",
    "\n",
    "# Carga las credenciales desde el archivo JSON\n",
    "credentials = service_account.Credentials.from_service_account_file(\n",
    "    credentials_path, scopes=['https://www.googleapis.com/auth/drive']\n",
    ")\n",
    "\n",
    "# Crea una instancia de la API de Google Drive\n",
    "drive_service = build('drive', 'v3', credentials=credentials)"
   ]
  },
  {
   "cell_type": "code",
   "execution_count": 28,
   "metadata": {},
   "outputs": [
    {
     "name": "stdout",
     "output_type": "stream",
     "text": [
      "IDs de los archivos en la carpeta '1TWOg-xL4yMX263fDHYEHavJenhyoGWUd':\n",
      "['1u43RBnamI8M1CbWG69aTjb3kV2yqmNhR', '1EjFH38Wr8sDQimVkBrgO3h6CFZoLMfod', '1gObxwBd61dM2pgmfW02KGOZ-URoD35iM', '1vAkS0u9stzPZbn2RoaE3p6dU_qj5NRN6', '1QP87wXk5dE5eSAYE_72uQ_7Z3pbugxZj', '1cAdvzSajDUBwH98pofIsUvxOSiYuvsqn', '146-1rTaJ1akB8DTjeEC9JxFUH1GRjihK', '1e1DCNI21ctD_x4VlN0-vZnUUi0oO2z_Z', '12XU5RH2bIbsmlPxfL1T9N6z7Mm9SAJWI', '1oyviWOVcbBCkJqwM0VBdtsnda8VUzw4m', '1upUo59QWHACBU1lNlWYanIRaTG0v0Hl6']\n",
      "IDs de los archivos en la carpeta '1rxLt6yC8RCiZpw_8iT9wTtYz61X26tDu':\n",
      "['1Y1O-iuIULzznXXo1c4VgBWOs4Yk2PoaV', '1os7E4ctX2mbPEKrBGTs2RUz_yvMqCP4P', '1bNpT5bbGxnPTZ9SJFAh9g3vmDtmtAlfB', '18VuNuHmdVL-lTzl74yVD124zw6eQdvkg', '1DJtsUGPki1OeUprn8xa78bGgr5WNEelR', '1lJ1Uvw0rlOo_ZXwEeUZ-lvngwodMzGU4', '1W6_BzKsw_Z8STDJLldxDE3iL2ehL6IWW', '1wpanPDQO8cP4lBpeCfrvIPNsn4DfdkEy', '1xtzehXpPbh18UQH5TVdijVLh54lTti99', '1zhJxxKQUIJDjERn3cciSz9S4hG8OdIbN', '1j-ifPkZAEomuH4q2ZYoNbQFSxheT1t7T', '1Eg98bWOXc9PNFixPFQLVCLur2_F2zjf4', '12c6zF55C-DcDxABt6duBOinQHYnHWdrX', '1JXlpvNHOQB05aqX_E6q_HQCPbBQdioQG', '1sck7CCkdYCeT8KFqtqTqspR6sT50G_EW', '19Pp10dh0eoohBqFhpi6ZTbZdF4VunZFe', '1VVEfNPOPOcg8AxSUDKWjs3Oiyxe3MjWy', '1J_5piwgsIFJCCrfc05m3BS85b6Lwbqn0']\n",
      "IDs de los archivos en la carpeta '1F5Hi3irsEu2zBWrEliBzb5Y6Z7sJjR85':\n",
      "['1dm8jQy9d2BI0YvrBVmMAot6L5qEHi5zi', '1svwBH7TpUKUw0MpJz2rIZ1e8Nd9siwez', '16gwUTu5TIxhzdZEIE-269796-8Q9usbv', '1IJzbVUST0y2z0kmWR739Sjn213MVRf8X', '1Erje3lOosY09ZS1-9_WHp_Li4E-auIUH', '1Mj5wu0EB-k_LVygGZQ15CofHMm_tg0Oq', '1Yk-RjEU1gkO0eu92VKMJsjIBS5xopT1v', '1DbBaB12KSCv3bZ_vlhkKCuNvR6iYISI4', '18GSiTg06TPGBbyOrIxCxsbXuBZkUTshu', '1pTxStamDbXoo-XxQYcnJ4HpUvua9czE9', '1SZZfQ_1SzCvfXv4pSRjl6kmOmgteiZq9', '1y_aNMNgG-nldJf2vldrIwF1iiE5H_DrS', '1luO40cQzn7uRajTspt5ijJXxF7F9kOUd', '1aXQZnnRtkDvs2IP7n2naaUdwprq0G14N', '1WZtiaIOw628kZQdTruPdMQZAwPqR-2Tt', '1us2naMCGuZUSct4NPAKSXCDyPmx1BjgA', '1NkCbEYIrfh25VU3dQ6cJE4ComdUqMo8F', '1RZaWvhavY0D2qDwyJBO-Q36m-FLfzJBn', '1pyHuNDJXt4YpEKutotqRQWGp8oI0m9Vr']\n",
      "IDs de los archivos en la carpeta '1TCd7e5G1maersqqBZtSDEhkZRJfY_UMK':\n",
      "['1gkv2u1l62ibXkQ6NFp1ywGTDU7nLb1aa', '1qEdgZuIcpDFmA4gp4IlKizPMdYikBF_H', '1Vih0-zo1LZYfG_1eGXlauOxxl2TUXzWl', '1NMFBerVoXRucRhD51RpAI6ngIVp6k77s', '1hDfHxFmZLV3xUJ9Cxwm3KKCwacXsYJOo', '1tHNt16Ds3-OmfrgAebhvC_HOR--__Oar', '1PK_vGEnhBuyEGmTavpdceqjJPP3STMrl', '1oOuGJK2J-drPYU7tg6TQvLCBofW1yjw4', '1C0zUIpkNPYcakVYsTEEHcc3-ZNbaT7c2', '15hLoBzwkuMbKsDJd-lpGldlK03elSvRr', '1OLh-OsGC8bgcjD0V8E561YR1Bpd6lAlL', '1vZitLxBnQyVM0ygzJvNvMIJ-gkOeGRe2', '1ZobwbDEdLMsNYziIm0RyM-d-B0NtiEiW', '11tFLmgDZQAU5ZWdK9xnk-AShmyaMOGy6', '1TfQ0P-8dnT5az8P2etz4eNrekqzs6znp', '1O2SBx_apdU5Ui8dJO2D7pxAqVPVqVArD']\n"
     ]
    }
   ],
   "source": [
    "\n",
    "def get_file_ids_in_folder(folder_id):\n",
    "    file_ids = []\n",
    "\n",
    "    results = drive_service.files().list(\n",
    "        q=f\"'{folder_id}' in parents and mimeType != 'application/vnd.google-apps.folder'\",\n",
    "        pageSize=1000,  # Puedes ajustar este valor según sea necesario\n",
    "        fields=\"files(id)\"\n",
    "    ).execute()\n",
    "\n",
    "    for item in results.get('files', []):\n",
    "        file_ids.append(item['id'])\n",
    "\n",
    "    return file_ids\n",
    "\n",
    "# Iterar a través de la lista de IDs de carpetas\n",
    "for folder_id in folder_ids:\n",
    "    file_ids = get_file_ids_in_folder(folder_id)\n",
    "    print(f\"IDs de los archivos en la carpeta '{folder_id}':\")\n",
    "    print(file_ids)"
   ]
  },
  {
   "cell_type": "code",
   "execution_count": null,
   "metadata": {},
   "outputs": [],
   "source": [
    "# Listas de IDs de los archivos que deseas descargar\n",
    "yelp_ids = ['1d4204rhtmzm7z7XH59Nq8pDmfYTMaON6','Fx0nMHedISLhMId-YLvwl6p38b1tPUH','1d4204rhtmzm7z7XH59Nq8pDmfYTMaON6']\n",
    "metadata_ids = ['1u43RBnamI8M1CbWG69aTjb3kV2yqmNhR', '1EjFH38Wr8sDQimVkBrgO3h6CFZoLMfod', '1gObxwBd61dM2pgmfW02KGOZ-URoD35iM', '1vAkS0u9stzPZbn2RoaE3p6dU_qj5NRN6', '1QP87wXk5dE5eSAYE_72uQ_7Z3pbugxZj', '1cAdvzSajDUBwH98pofIsUvxOSiYuvsqn', '146-1rTaJ1akB8DTjeEC9JxFUH1GRjihK', '1e1DCNI21ctD_x4VlN0-vZnUUi0oO2z_Z', '12XU5RH2bIbsmlPxfL1T9N6z7Mm9SAJWI', '1oyviWOVcbBCkJqwM0VBdtsnda8VUzw4m', '1upUo59QWHACBU1lNlWYanIRaTG0v0Hl6']\n",
    "review_texas_ids = ['1gkv2u1l62ibXkQ6NFp1ywGTDU7nLb1aa', '1qEdgZuIcpDFmA4gp4IlKizPMdYikBF_H', '1Vih0-zo1LZYfG_1eGXlauOxxl2TUXzWl', '1NMFBerVoXRucRhD51RpAI6ngIVp6k77s', '1hDfHxFmZLV3xUJ9Cxwm3KKCwacXsYJOo', '1tHNt16Ds3-OmfrgAebhvC_HOR--__Oar', '1PK_vGEnhBuyEGmTavpdceqjJPP3STMrl', '1oOuGJK2J-drPYU7tg6TQvLCBofW1yjw4', '1C0zUIpkNPYcakVYsTEEHcc3-ZNbaT7c2', '15hLoBzwkuMbKsDJd-lpGldlK03elSvRr', '1OLh-OsGC8bgcjD0V8E561YR1Bpd6lAlL', '1vZitLxBnQyVM0ygzJvNvMIJ-gkOeGRe2', '1ZobwbDEdLMsNYziIm0RyM-d-B0NtiEiW', '11tFLmgDZQAU5ZWdK9xnk-AShmyaMOGy6', '1TfQ0P-8dnT5az8P2etz4eNrekqzs6znp', '1O2SBx_apdU5Ui8dJO2D7pxAqVPVqVArD']\n",
    "review_california_ids = ['1Y1O-iuIULzznXXo1c4VgBWOs4Yk2PoaV', '1os7E4ctX2mbPEKrBGTs2RUz_yvMqCP4P', '1bNpT5bbGxnPTZ9SJFAh9g3vmDtmtAlfB', '18VuNuHmdVL-lTzl74yVD124zw6eQdvkg', '1DJtsUGPki1OeUprn8xa78bGgr5WNEelR', '1lJ1Uvw0rlOo_ZXwEeUZ-lvngwodMzGU4', '1W6_BzKsw_Z8STDJLldxDE3iL2ehL6IWW', '1wpanPDQO8cP4lBpeCfrvIPNsn4DfdkEy', '1xtzehXpPbh18UQH5TVdijVLh54lTti99', '1zhJxxKQUIJDjERn3cciSz9S4hG8OdIbN', '1j-ifPkZAEomuH4q2ZYoNbQFSxheT1t7T', '1Eg98bWOXc9PNFixPFQLVCLur2_F2zjf4', '12c6zF55C-DcDxABt6duBOinQHYnHWdrX', '1JXlpvNHOQB05aqX_E6q_HQCPbBQdioQG', '1sck7CCkdYCeT8KFqtqTqspR6sT50G_EW', '19Pp10dh0eoohBqFhpi6ZTbZdF4VunZFe', '1VVEfNPOPOcg8AxSUDKWjs3Oiyxe3MjWy', '1J_5piwgsIFJCCrfc05m3BS85b6Lwbqn0']\n",
    "review_florida_ids = ['1dm8jQy9d2BI0YvrBVmMAot6L5qEHi5zi', '1svwBH7TpUKUw0MpJz2rIZ1e8Nd9siwez', '16gwUTu5TIxhzdZEIE-269796-8Q9usbv', '1IJzbVUST0y2z0kmWR739Sjn213MVRf8X', '1Erje3lOosY09ZS1-9_WHp_Li4E-auIUH', '1Mj5wu0EB-k_LVygGZQ15CofHMm_tg0Oq', '1Yk-RjEU1gkO0eu92VKMJsjIBS5xopT1v', '1DbBaB12KSCv3bZ_vlhkKCuNvR6iYISI4', '18GSiTg06TPGBbyOrIxCxsbXuBZkUTshu', '1pTxStamDbXoo-XxQYcnJ4HpUvua9czE9', '1SZZfQ_1SzCvfXv4pSRjl6kmOmgteiZq9', '1y_aNMNgG-nldJf2vldrIwF1iiE5H_DrS', '1luO40cQzn7uRajTspt5ijJXxF7F9kOUd', '1aXQZnnRtkDvs2IP7n2naaUdwprq0G14N', '1WZtiaIOw628kZQdTruPdMQZAwPqR-2Tt', '1us2naMCGuZUSct4NPAKSXCDyPmx1BjgA', '1NkCbEYIrfh25VU3dQ6cJE4ComdUqMo8F', '1RZaWvhavY0D2qDwyJBO-Q36m-FLfzJBn', '1pyHuNDJXt4YpEKutotqRQWGp8oI0m9Vr']\n",
    "\n",
    "# Ruta de descarga local\n",
    "bucket_yelp = 'gs://bucket-ph-dataset'\n",
    "bucket_metadata = 'gs://bucket-ph-dataset/metadata-sitios'\n",
    "bucket_reviews_California = 'gs://bucket-ph-dataset/reviews-estados/review-California'\n",
    "bucket_reviews_Florida = 'gs://bucket-ph-dataset/reviews-estados/review-Florida'\n",
    "bucket_reviews_Texas = 'gs://bucket-ph-dataset/reviews-estados/review-Texas'\n",
    "\n",
    "def download_file(file_id, download_directory):\n",
    "    file_metadata = drive_service.files().get(fileId=file_id).execute()\n",
    "    file_name = file_metadata['name']\n",
    "    local_path = os.path.join(download_directory, file_name)\n",
    "\n",
    "    if not os.path.exists(local_path):\n",
    "        request = drive_service.files().get_media(fileId=file_id)\n",
    "        fh = io.FileIO(local_path, 'wb')\n",
    "        downloader = MediaIoBaseDownload(fh, request)\n",
    "\n",
    "        done = False\n",
    "        while done is False:\n",
    "            status, done = downloader.next_chunk()\n",
    "\n",
    "        print(f\"Descarga de '{file_name}' completada.\")\n",
    "    else:\n",
    "        print(f\"El archivo '{file_name}' ya existe en el directorio de descarga.\")\n",
    "\n",
    "# Descargar archivos \n",
    "for file_id in metadata_ids:\n",
    "    download_file(file_id, bucket_yelp)\n",
    "\n",
    "# Descargar archivos de la segunda lista\n",
    "for file_id in review_texas_ids:\n",
    "    download_file(file_id, bucket_metadata)\n",
    "\n",
    "# Descargar archivos de la tercera lista\n",
    "for file_id in review_california_ids:\n",
    "    download_file(file_id, bucket_reviews_California)\n",
    "    \n",
    "# Descargar archivos de la cuerta lista\n",
    "for file_id in review_florida_ids:\n",
    "    download_file(file_id, bucket_reviews_Florida)\n",
    "\n",
    "# Descargar archivos de la quinta lista\n",
    "for file_id in yelp_ids:\n",
    "    download_file(file_id, bucket_reviews_Texas)\n"
   ]
  }
 ],
 "metadata": {
  "kernelspec": {
   "display_name": "Python 3",
   "language": "python",
   "name": "python3"
  },
  "language_info": {
   "codemirror_mode": {
    "name": "ipython",
    "version": 3
   },
   "file_extension": ".py",
   "mimetype": "text/x-python",
   "name": "python",
   "nbconvert_exporter": "python",
   "pygments_lexer": "ipython3",
   "version": "3.10.12"
  },
  "orig_nbformat": 4
 },
 "nbformat": 4,
 "nbformat_minor": 2
}
