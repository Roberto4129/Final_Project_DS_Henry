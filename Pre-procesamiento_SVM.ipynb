{
 "cells": [
  {
   "cell_type": "code",
   "execution_count": 65,
   "id": "d0714975-d950-4675-adce-f8a2f7803892",
   "metadata": {},
   "outputs": [
    {
     "name": "stdout",
     "output_type": "stream",
     "text": [
      "<class 'pandas.core.frame.DataFrame'>\n",
      "RangeIndex: 525475 entries, 0 to 525474\n",
      "Data columns (total 6 columns):\n",
      " #   Column       Non-Null Count   Dtype \n",
      "---  ------       --------------   ----- \n",
      " 0   review_id    525475 non-null  object\n",
      " 1   user_id      525475 non-null  object\n",
      " 2   business_id  525475 non-null  object\n",
      " 3   stars        525475 non-null  int64 \n",
      " 4   text         525475 non-null  object\n",
      " 5   date         525475 non-null  object\n",
      "dtypes: int64(1), object(5)\n",
      "memory usage: 24.1+ MB\n"
     ]
    }
   ],
   "source": [
    "import pandas as pd\n",
    "\n",
    "csv_path1 = \"gs://bucket-ph-dataset/POST_ETL_DATASETS/Yelp_Data/yelp_reviews.csv\" \n",
    "df_y_reviews = pd.read_csv(csv_path1)\n",
    "df_y_reviews.info()\n"
   ]
  },
  {
   "cell_type": "code",
   "execution_count": 66,
   "id": "8f0e53b9-ea48-494b-9575-fd15320fc43a",
   "metadata": {},
   "outputs": [
    {
     "name": "stdout",
     "output_type": "stream",
     "text": [
      "<class 'pandas.core.frame.DataFrame'>\n",
      "RangeIndex: 525475 entries, 0 to 525474\n",
      "Data columns (total 3 columns):\n",
      " #   Column     Non-Null Count   Dtype \n",
      "---  ------     --------------   ----- \n",
      " 0   review_id  525475 non-null  object\n",
      " 1   stars      525475 non-null  int64 \n",
      " 2   text       525475 non-null  object\n",
      "dtypes: int64(1), object(2)\n",
      "memory usage: 12.0+ MB\n"
     ]
    }
   ],
   "source": [
    "#Eliminamos conlumnas innecesarias para el entrenamiento\n",
    "\n",
    "df_y_reviews.drop(columns=['user_id','business_id','date'],inplace=True)\n",
    "df_y_reviews.dropna(subset=['text'],inplace=True)\n",
    "df_y_reviews.info()"
   ]
  },
  {
   "cell_type": "code",
   "execution_count": 67,
   "id": "c3d839d6-0138-47f2-9f3a-90ae653fbd08",
   "metadata": {},
   "outputs": [
    {
     "name": "stdout",
     "output_type": "stream",
     "text": [
      "stars\n",
      "5    280422\n",
      "4     89291\n",
      "1     71468\n",
      "3     45396\n",
      "2     38898\n",
      "Name: count, dtype: int64\n"
     ]
    }
   ],
   "source": [
    "# Contamos cuantos datos hay por tipo de rating\n",
    "conteo_ratings = df_y_reviews['stars'].value_counts()\n",
    "print(conteo_ratings)"
   ]
  },
  {
   "cell_type": "code",
   "execution_count": 68,
   "id": "2f48dc8a-f586-4b9b-97f5-467f4913d0da",
   "metadata": {},
   "outputs": [
    {
     "name": "stdout",
     "output_type": "stream",
     "text": [
      "Número de reseñas con longitud menor a 500 caracteres: 358627\n"
     ]
    }
   ],
   "source": [
    "# Filtrar reseñas con longitud menor a 40 caracteres\n",
    "short_reviews = df_y_reviews[df_y_reviews['text'].str.len() < 500]\n",
    "\n",
    "# Contar el número de reseñas cortas\n",
    "count_short_reviews = len(short_reviews)\n",
    "\n",
    "print(\"Número de reseñas con longitud menor a 500 caracteres:\", count_short_reviews)"
   ]
  },
  {
   "cell_type": "code",
   "execution_count": 69,
   "id": "9a17c0ff-a968-4645-96e0-6ebfee93eff3",
   "metadata": {},
   "outputs": [
    {
     "name": "stdout",
     "output_type": "stream",
     "text": [
      "Promedio de caracteres en las reseñas: 472.81744136257674\n"
     ]
    }
   ],
   "source": [
    "average_chars = df_y_reviews['text'].str.len().mean()\n",
    "print(\"Promedio de caracteres en las reseñas:\", average_chars)"
   ]
  },
  {
   "cell_type": "code",
   "execution_count": 70,
   "id": "42264aed-a3e2-4016-aeb7-8efc748b2b4c",
   "metadata": {},
   "outputs": [
    {
     "name": "stdout",
     "output_type": "stream",
     "text": [
      "Review más largo:\n",
      " I really wanted to like this place, but there was just too much bad for me to rate the place higher than one star and would be very hesitant in ever returning based on my first time experience.  Most likely a one and done for me.\n",
      "\n",
      "It all started when I ordered the Sunday Special of 10-Wings & a Pitcher of Beer for $15.99; not a great deal compared to other places, but it was what I wanted.  I ordered my wings extra crispy, naked, with sauce on the side; (I don't like soggy & under cooked wings, as most places have a habit of doing).  Two of the gents I was with, ordered wings as well, one ordered crispy, the other ordered them regular; and we all had different sauces and some with sauce on and some on the side. \n",
      "\n",
      "When our wings arrived, all three types of done-ness came out, but went to the wrong individuals.  My wings came out exactly how I DID NOT want them; they appeared to be light in color, texture and crispness, but seemed cooked enough to eat, and since I was hungry, I mistakenly dug in...Even though they were anything but extra crispy, plus they were smothered in sauce.  I didn't want to sit & wait for a corrected order to eventually come out, as my friends had all started to dig in and I didn't want them waiting on me...Huge mistake!.  \n",
      "\n",
      "Halfway into the second gooey wing with blood/juice running out, I decided they were not safe to eat without being cooked longer, so instead of making a big deal out of it, I just simply ordered what I thought would be quick half pressed Cuban sandwich for dine-in and then asked for a to-go box for the remaining undercooked wings, so I could finish cooking them at home.   Side Note:  To finish them at home, I ended up baking them at 425-degs for 5-mins on each side, THEN to crisp them up, I had to broil them at 500-degs for 4-mins each side...18-mins of extra cooking, that is how flipping undercooked they were.  I was honestly shocked & disgusted how undercooked & dangerous they were, AND that they would serve them to a customer!!!\n",
      "\n",
      "15-mins later my dine-in sandwich eventually arrived in a steamed up to-go box with soggy curly fries.  Since my friends were finished with their meals, finishing up their drinks, and asking for their checks, I figured I would at least eat the soggy fries and half of the Cuban while we waited.  When the checks arrived, I noticed my bill was substantial higher than everyone else's, even though I had ordered an additional meal, things were just not adding up.  After looking at all of our checks, I determined I was charged the normal price for wings & beer vs. the Sunday Special I had ordered.  The strange part was, my golf buddy's check was properly rung in depicting the Sunday Special, but Mine was not.  Plus, my check didn't even have the right type of beer I had ordered, so I'm not even sure if I got what I ordered.  My buddy realized I was getting pissed, (which is not like me AT ALL), so he ended up dealing with the bartender to get the check fixed, which allowed me to scarf down some of my reorder so no one had to wait on me.\n",
      "\n",
      "Once my \"corrected\" bill was brought out, I decided I would give the bartender the benefit of the doubt and still leave a tip, (but only 18% vs. the 30% I typically tip bartenders/servers).  While signing my credit card slip, I noticed the recommended tip printed on the bill was more than what I had calculated it would have been; which caused me to break out the calculator and compare all of our bills to figure out why my bill was incorrect once again.  As it turned out, everyone else's recommended tip amount was properly calculated on their receipts; however, mine was not.  After further inspection, I discovered instead of ringing in the Sunday Special, as she had correctly done on my buddy's check, the bartender just simply applied an equivalent dollar amount discount; therefore, by doing so, the recommended tip on the receipt was calculated based on the original amount, (before she added a discount vs. ringing the Sunday Special in correctly).  I'm talking about less than a dollar difference, (so what's the big deal right?); however, at this point, it's the principle of the matter and adding insult to injury.  Out of all the ineptness on the restaurant's part and too much niceness on my part,  I'm getting squeezed for what equates to roughly another $0.60...Ain't happening!\n",
      "\n",
      "Coming from the restaurant business and a sports bar at that, I have a VERY high tolerance for mistakes, typically appreciate my bartenders/servers, can tell if they are weeded or just lazy, and maybe all of this very well could have been honest mistakes made along the way of one visit by one customer out of many; (i.e., order coming out wrong, food being undercooked, waiting 15-mins for a reorder, reorder coming out in a to-go box with soggy fries, bill being rang in incorrectly, and the recommended tip printing out higher than it should have been because of being edited incorrectly).  2/3/18 @ 2:13pm / Check 75 / Table 61 / Server: KH\n"
     ]
    }
   ],
   "source": [
    "longest_review = df_y_reviews.loc[df_y_reviews['text'].str.len().idxmax()]['text']\n",
    "print(\"Review más largo:\\n\", longest_review)"
   ]
  },
  {
   "cell_type": "code",
   "execution_count": 71,
   "id": "30aff2c9-1473-4aeb-b892-65962e1c6bcb",
   "metadata": {},
   "outputs": [
    {
     "name": "stdout",
     "output_type": "stream",
     "text": [
      "<class 'pandas.core.frame.DataFrame'>\n",
      "Index: 359110 entries, 0 to 525474\n",
      "Data columns (total 3 columns):\n",
      " #   Column     Non-Null Count   Dtype \n",
      "---  ------     --------------   ----- \n",
      " 0   review_id  359110 non-null  object\n",
      " 1   stars      359110 non-null  int64 \n",
      " 2   text       359110 non-null  object\n",
      "dtypes: int64(1), object(2)\n",
      "memory usage: 11.0+ MB\n"
     ]
    }
   ],
   "source": [
    "#Luego del analisis consideramos solo los reviews con menores a 500 caracteres\n",
    "df_y_reviews = df_y_reviews[df_y_reviews['text'].str.len() > 2]\n",
    "df_y_reviews = df_y_reviews[df_y_reviews['text'].str.len() <= 500]\n",
    "df_y_reviews.info()\n"
   ]
  },
  {
   "cell_type": "code",
   "execution_count": 25,
   "id": "34fa45d6-9e2a-4431-b2e6-e5121b2e93d1",
   "metadata": {},
   "outputs": [
    {
     "name": "stdout",
     "output_type": "stream",
     "text": [
      "\u001b[33mWARNING: Ignoring invalid distribution -oogle-cloud-datastore (/opt/conda/lib/python3.10/site-packages)\u001b[0m\u001b[33m\n",
      "\u001b[0mCollecting nltk\n",
      "  Downloading nltk-3.8.1-py3-none-any.whl (1.5 MB)\n",
      "\u001b[2K     \u001b[90m━━━━━━━━━━━━━━━━━━━━━━━━━━━━━━━━━━━━━━━━\u001b[0m \u001b[32m1.5/1.5 MB\u001b[0m \u001b[31m19.2 MB/s\u001b[0m eta \u001b[36m0:00:00\u001b[0m00:01\u001b[0m0:01\u001b[0m\n",
      "\u001b[?25hRequirement already satisfied: click in /opt/conda/lib/python3.10/site-packages (from nltk) (8.1.6)\n",
      "Requirement already satisfied: joblib in /opt/conda/lib/python3.10/site-packages (from nltk) (1.3.1)\n",
      "Requirement already satisfied: regex>=2021.8.3 in /opt/conda/lib/python3.10/site-packages (from nltk) (2023.8.8)\n",
      "Requirement already satisfied: tqdm in /opt/conda/lib/python3.10/site-packages (from nltk) (4.65.0)\n",
      "\u001b[33mWARNING: Ignoring invalid distribution -oogle-cloud-datastore (/opt/conda/lib/python3.10/site-packages)\u001b[0m\u001b[33m\n",
      "\u001b[0mInstalling collected packages: nltk\n",
      "Successfully installed nltk-3.8.1\n"
     ]
    }
   ],
   "source": [
    "!pip install nltk"
   ]
  },
  {
   "cell_type": "code",
   "execution_count": 26,
   "id": "4f015684-da22-4999-9dfe-40f6411c24e5",
   "metadata": {},
   "outputs": [
    {
     "name": "stderr",
     "output_type": "stream",
     "text": [
      "[nltk_data] Downloading package punkt to /home/jupyter/nltk_data...\n",
      "[nltk_data]   Unzipping tokenizers/punkt.zip.\n",
      "[nltk_data] Downloading package stopwords to\n",
      "[nltk_data]     /home/jupyter/nltk_data...\n",
      "[nltk_data]   Unzipping corpora/stopwords.zip.\n"
     ]
    }
   ],
   "source": [
    "#Hacemos un preprocesamiento para quedarnos con la data mas limpia\n",
    "\n",
    "import nltk\n",
    "from nltk.corpus import stopwords\n",
    "from nltk.tokenize import word_tokenize\n",
    "from nltk.stem import PorterStemmer\n",
    "\n",
    "# Descargar recursos necesarios para NLTK\n",
    "nltk.download('punkt')\n",
    "nltk.download('stopwords')\n",
    "\n",
    "# Crear una instancia del stemmer\n",
    "stemmer = PorterStemmer()\n",
    "\n",
    "# Obtener la lista de stop words en inglés\n",
    "stop_words = set(stopwords.words('english'))\n",
    "\n",
    "# Función para realizar la limpieza de texto y eliminar stop words\n",
    "def preprocess_text(text):\n",
    "    # Tokenización\n",
    "    words = word_tokenize(text)\n",
    "    \n",
    "    # Eliminar signos de puntuación, números y convertir a minúsculas\n",
    "    cleaned_words = [stemmer.stem(word.lower()) for word in words if word.isalpha()]\n",
    "    \n",
    "    # Eliminar stop words\n",
    "    filtered_words = [word for word in cleaned_words if word not in stop_words]\n",
    "    \n",
    "    # Reconstruir el texto limpio\n",
    "    cleaned_text = ' '.join(filtered_words)\n",
    "    \n",
    "    return cleaned_text\n",
    "\n",
    "# Aplicar la función de preprocesamiento a la columna 'text'\n",
    "df_y_reviews['cleaned_text'] = df_y_reviews['text'].apply(preprocess_text)"
   ]
  },
  {
   "cell_type": "code",
   "execution_count": 72,
   "id": "cd4759d1-f844-4b81-b3c4-a092139ace2a",
   "metadata": {},
   "outputs": [
    {
     "name": "stderr",
     "output_type": "stream",
     "text": [
      "[nltk_data] Downloading package punkt to /home/jupyter/nltk_data...\n",
      "[nltk_data]   Package punkt is already up-to-date!\n",
      "[nltk_data] Downloading package stopwords to\n",
      "[nltk_data]     /home/jupyter/nltk_data...\n",
      "[nltk_data]   Package stopwords is already up-to-date!\n",
      "[nltk_data] Downloading package wordnet to /home/jupyter/nltk_data...\n"
     ]
    }
   ],
   "source": [
    "#### NUEVOOO LEMATIZACION\n",
    "\n",
    "import pandas as pd\n",
    "from nltk.tokenize import word_tokenize\n",
    "from nltk.stem import PorterStemmer, WordNetLemmatizer\n",
    "from nltk.corpus import stopwords\n",
    "import nltk\n",
    "nltk.download('punkt')\n",
    "nltk.download('stopwords')\n",
    "nltk.download('wordnet')\n",
    "\n",
    "# Crear una instancia del stemmer y del lematizador\n",
    "stemmer = PorterStemmer()\n",
    "lemmatizer = WordNetLemmatizer()\n",
    "\n",
    "# Obtener la lista de stop words en inglés\n",
    "stop_words = set(stopwords.words('english'))\n",
    "\n",
    "# Función para realizar la limpieza de texto, lematización y eliminar stop words\n",
    "def preprocess_text(text):\n",
    "    # Tokenización\n",
    "    words = word_tokenize(text)\n",
    "    \n",
    "    # Eliminar signos de puntuación, números y convertir a minúsculas\n",
    "    cleaned_words = [word.lower() for word in words if word.isalpha()]\n",
    "    \n",
    "    # Lematización y eliminar stop words\n",
    "    lemmatized_words = [lemmatizer.lemmatize(word) for word in cleaned_words if word not in stop_words]\n",
    "    \n",
    "    # Reconstruir el texto limpio\n",
    "    cleaned_text = ' '.join(lemmatized_words)\n",
    "    return cleaned_text\n",
    "\n",
    "# Supongamos que ya tienes tus reseñas en el DataFrame df_y_reviews\n",
    "# y la columna 'text' contiene las reseñas\n",
    "\n",
    "# Aplicar la función de preprocesamiento a todas las reseñas\n",
    "df_y_reviews['cleaned_text'] = df_y_reviews['text'].apply(preprocess_text)\n",
    "\n",
    "\n",
    "\n",
    "\n",
    "\n"
   ]
  },
  {
   "cell_type": "code",
   "execution_count": 72,
   "id": "608a834b-d305-456d-9fbc-689eaa437451",
   "metadata": {},
   "outputs": [
    {
     "name": "stderr",
     "output_type": "stream",
     "text": [
      "[nltk_data] Downloading package punkt to /home/jupyter/nltk_data...\n",
      "[nltk_data]   Package punkt is already up-to-date!\n",
      "[nltk_data] Downloading package stopwords to\n",
      "[nltk_data]     /home/jupyter/nltk_data...\n",
      "[nltk_data]   Package stopwords is already up-to-date!\n",
      "[nltk_data] Downloading package wordnet to /home/jupyter/nltk_data...\n"
     ]
    }
   ],
   "source": [
    "#### NUEVOOO LEMATIZACION\n",
    "\n",
    "import pandas as pd\n",
    "from nltk.tokenize import word_tokenize\n",
    "from nltk.stem import PorterStemmer, WordNetLemmatizer\n",
    "from nltk.corpus import stopwords\n",
    "import nltk\n",
    "nltk.download('punkt')\n",
    "nltk.download('stopwords')\n",
    "nltk.download('wordnet')\n",
    "\n",
    "# Crear una instancia del stemmer y del lematizador\n",
    "stemmer = PorterStemmer()\n",
    "lemmatizer = WordNetLemmatizer()\n",
    "\n",
    "# Obtener la lista de stop words en inglés\n",
    "stop_words = set(stopwords.words('english'))\n",
    "\n",
    "# Función para realizar la limpieza de texto, lematización y eliminar stop words\n",
    "def preprocess_text(text):\n",
    "    # Tokenización\n",
    "    words = word_tokenize(text)\n",
    "    \n",
    "    # Eliminar signos de puntuación, números y convertir a minúsculas\n",
    "    cleaned_words = [word.lower() for word in words if word.isalpha()]\n",
    "    \n",
    "    # Lematización y eliminar stop words\n",
    "    lemmatized_words = [lemmatizer.lemmatize(word) for word in cleaned_words if word not in stop_words]\n",
    "    \n",
    "    # Reconstruir el texto limpio\n",
    "    cleaned_text = ' '.join(lemmatized_words)\n",
    "    return cleaned_text\n",
    "\n",
    "# Supongamos que ya tienes tus reseñas en el DataFrame df_y_reviews\n",
    "# y la columna 'text' contiene las reseñas\n",
    "\n",
    "# Aplicar la función de preprocesamiento a todas las reseñas\n",
    "df_y_reviews['cleaned_text'] = df_y_reviews['text'].apply(preprocess_text)\n",
    "\n",
    "\n",
    "\n",
    "\n",
    "\n"
   ]
  },
  {
   "cell_type": "code",
   "execution_count": 72,
   "id": "657d473e-2f68-4538-a5b8-a62ac2c00ff6",
   "metadata": {},
   "outputs": [
    {
     "name": "stderr",
     "output_type": "stream",
     "text": [
      "[nltk_data] Downloading package punkt to /home/jupyter/nltk_data...\n",
      "[nltk_data]   Package punkt is already up-to-date!\n",
      "[nltk_data] Downloading package stopwords to\n",
      "[nltk_data]     /home/jupyter/nltk_data...\n",
      "[nltk_data]   Package stopwords is already up-to-date!\n",
      "[nltk_data] Downloading package wordnet to /home/jupyter/nltk_data...\n"
     ]
    }
   ],
   "source": [
    "#### NUEVOOO LEMATIZACION\n",
    "\n",
    "import pandas as pd\n",
    "from nltk.tokenize import word_tokenize\n",
    "from nltk.stem import PorterStemmer, WordNetLemmatizer\n",
    "from nltk.corpus import stopwords\n",
    "import nltk\n",
    "nltk.download('punkt')\n",
    "nltk.download('stopwords')\n",
    "nltk.download('wordnet')\n",
    "\n",
    "# Crear una instancia del stemmer y del lematizador\n",
    "stemmer = PorterStemmer()\n",
    "lemmatizer = WordNetLemmatizer()\n",
    "\n",
    "# Obtener la lista de stop words en inglés\n",
    "stop_words = set(stopwords.words('english'))\n",
    "\n",
    "# Función para realizar la limpieza de texto, lematización y eliminar stop words\n",
    "def preprocess_text(text):\n",
    "    # Tokenización\n",
    "    words = word_tokenize(text)\n",
    "    \n",
    "    # Eliminar signos de puntuación, números y convertir a minúsculas\n",
    "    cleaned_words = [word.lower() for word in words if word.isalpha()]\n",
    "    \n",
    "    # Lematización y eliminar stop words\n",
    "    lemmatized_words = [lemmatizer.lemmatize(word) for word in cleaned_words if word not in stop_words]\n",
    "    \n",
    "    # Reconstruir el texto limpio\n",
    "    cleaned_text = ' '.join(lemmatized_words)\n",
    "    return cleaned_text\n",
    "\n",
    "# Supongamos que ya tienes tus reseñas en el DataFrame df_y_reviews\n",
    "# y la columna 'text' contiene las reseñas\n",
    "\n",
    "# Aplicar la función de preprocesamiento a todas las reseñas\n",
    "df_y_reviews['cleaned_text'] = df_y_reviews['text'].apply(preprocess_text)\n",
    "\n",
    "\n",
    "\n",
    "\n",
    "\n"
   ]
  },
  {
   "cell_type": "code",
   "execution_count": 73,
   "id": "ef87f604-f3d4-4265-af05-c7f302daf9e8",
   "metadata": {},
   "outputs": [
    {
     "name": "stdout",
     "output_type": "stream",
     "text": [
      "<class 'pandas.core.frame.DataFrame'>\n",
      "Index: 359110 entries, 0 to 525474\n",
      "Data columns (total 4 columns):\n",
      " #   Column        Non-Null Count   Dtype \n",
      "---  ------        --------------   ----- \n",
      " 0   review_id     359110 non-null  object\n",
      " 1   stars         359110 non-null  int64 \n",
      " 2   text          359110 non-null  object\n",
      " 3   cleaned_text  359110 non-null  object\n",
      "dtypes: int64(1), object(3)\n",
      "memory usage: 13.7+ MB\n"
     ]
    }
   ],
   "source": [
    "df_y_reviews.info()"
   ]
  },
  {
   "cell_type": "code",
   "execution_count": 74,
   "id": "580045eb-a011-4a4c-b859-a4b43a79b751",
   "metadata": {},
   "outputs": [
    {
     "name": "stdout",
     "output_type": "stream",
     "text": [
      "Cantidad de reseñas que cumplen con los criterios: 359076\n"
     ]
    }
   ],
   "source": [
    "##volvemos aplicar los filtros de tamaño una vez procesados\n",
    "# Calcular las longitudes de las reseñas preprocesadas\n",
    "df_y_reviews['cleaned_text_length'] = df_y_reviews['cleaned_text'].str.len()\n",
    "\n",
    "# Verificar si las reseñas cumplen con tus criterios\n",
    "min_length = 10  # Por ejemplo, si tu mínimo original era 3\n",
    "max_length = 500  # Por ejemplo, si tu máximo original era 500\n",
    "\n",
    "filtered_reviews = df_y_reviews[\n",
    "    (df_y_reviews['cleaned_text_length'] >= min_length) &\n",
    "    (df_y_reviews['cleaned_text_length'] <= max_length)\n",
    "]\n",
    "\n",
    "print(\"Cantidad de reseñas que cumplen con los criterios:\", len(filtered_reviews))\n",
    "df_y_reviews.drop(columns=['cleaned_text_length'],inplace=True)\n",
    "\n",
    "\n"
   ]
  },
  {
   "cell_type": "code",
   "execution_count": 75,
   "id": "bdda29ee-a461-45ce-9d76-c9e28e4ac60b",
   "metadata": {},
   "outputs": [
    {
     "name": "stdout",
     "output_type": "stream",
     "text": [
      "<class 'pandas.core.frame.DataFrame'>\n",
      "Index: 359075 entries, 0 to 525474\n",
      "Data columns (total 4 columns):\n",
      " #   Column        Non-Null Count   Dtype \n",
      "---  ------        --------------   ----- \n",
      " 0   review_id     359075 non-null  object\n",
      " 1   stars         359075 non-null  int64 \n",
      " 2   text          359075 non-null  object\n",
      " 3   cleaned_text  359075 non-null  object\n",
      "dtypes: int64(1), object(3)\n",
      "memory usage: 13.7+ MB\n"
     ]
    }
   ],
   "source": [
    "df_y_reviews = df_y_reviews[df_y_reviews['cleaned_text'].str.len() > 10]\n",
    "df_y_reviews = df_y_reviews[df_y_reviews['cleaned_text'].str.len() <= 500]\n",
    "df_y_reviews.info()"
   ]
  },
  {
   "cell_type": "code",
   "execution_count": 76,
   "id": "9c983cdf-22da-483b-9216-483d3ee1faf0",
   "metadata": {},
   "outputs": [],
   "source": [
    "#Primero vamos a considerar los 3 sentimientos de acuerdo al ranting\n",
    "def mapear_sentimiento(stars):\n",
    "    if stars <= 2:\n",
    "        return 'Negativo'\n",
    "    elif stars == 3:\n",
    "        return 'Neutral'\n",
    "    elif stars >= 4:\n",
    "        return 'Positivo'\n",
    "\n",
    "df_y_reviews['Sentimiento_Mapeado'] = df_y_reviews['stars'].map(mapear_sentimiento)"
   ]
  },
  {
   "cell_type": "code",
   "execution_count": 77,
   "id": "d6df5fd0-734d-440e-8e45-960bca11a01e",
   "metadata": {},
   "outputs": [
    {
     "name": "stdout",
     "output_type": "stream",
     "text": [
      "Sentimiento_Mapeado\n",
      "Positivo    272390\n",
      "Negativo     62171\n",
      "Neutral      24514\n",
      "Name: count, dtype: int64\n"
     ]
    }
   ],
   "source": [
    "conteo_sent = df_y_reviews['Sentimiento_Mapeado'].value_counts()\n",
    "print(conteo_sent)"
   ]
  },
  {
   "cell_type": "code",
   "execution_count": 78,
   "id": "4a8df001-7ce4-44b9-8dab-c396e774d50f",
   "metadata": {},
   "outputs": [
    {
     "name": "stdout",
     "output_type": "stream",
     "text": [
      "Sentimiento_Mapeado\n",
      "Positivo    24500\n",
      "Negativo    24500\n",
      "Neutral     24500\n",
      "Name: count, dtype: int64\n"
     ]
    }
   ],
   "source": [
    "####Realizamos el balance de clases\n",
    "\n",
    "# Cantidad deseada por cada clase\n",
    "desired_samples = 24500\n",
    "\n",
    "# Filtrar muestras por cada clase y tomar una muestra aleatoria de tamaño desired_samples\n",
    "positive_samples = df_y_reviews[df_y_reviews['Sentimiento_Mapeado'] == 'Positivo'].sample(desired_samples)\n",
    "negative_samples = df_y_reviews[df_y_reviews['Sentimiento_Mapeado'] == 'Negativo'].sample(desired_samples)\n",
    "neutral_samples = df_y_reviews[df_y_reviews['Sentimiento_Mapeado'] == 'Neutral'].sample(desired_samples)\n",
    "\n",
    "# Concatenar las muestras balanceadas en un nuevo DataFrame\n",
    "balanced_df = pd.concat([positive_samples, negative_samples, neutral_samples])\n",
    "\n",
    "# Restablecer los índices del nuevo DataFrame\n",
    "balanced_df.reset_index(drop=True, inplace=True)\n",
    "\n",
    "# Imprimir información sobre la distribución de clases en el nuevo DataFrame\n",
    "print(balanced_df['Sentimiento_Mapeado'].value_counts())\n",
    "\n"
   ]
  },
  {
   "cell_type": "code",
   "execution_count": 79,
   "id": "20b62555-50fb-43f5-9b08-d69736db64aa",
   "metadata": {},
   "outputs": [
    {
     "name": "stdout",
     "output_type": "stream",
     "text": [
      "<class 'pandas.core.frame.DataFrame'>\n",
      "RangeIndex: 73500 entries, 0 to 73499\n",
      "Data columns (total 5 columns):\n",
      " #   Column               Non-Null Count  Dtype \n",
      "---  ------               --------------  ----- \n",
      " 0   review_id            73500 non-null  object\n",
      " 1   stars                73500 non-null  int64 \n",
      " 2   text                 73500 non-null  object\n",
      " 3   cleaned_text         73500 non-null  object\n",
      " 4   Sentimiento_Mapeado  73500 non-null  object\n",
      "dtypes: int64(1), object(4)\n",
      "memory usage: 2.8+ MB\n"
     ]
    }
   ],
   "source": [
    "balanced_df.info()"
   ]
  },
  {
   "cell_type": "code",
   "execution_count": 80,
   "id": "3f694726-670b-4837-9bdc-65e1f5a8e52f",
   "metadata": {},
   "outputs": [],
   "source": [
    "#GUARDAMOS EN UN CSV\n",
    "\n",
    "balanced_df.to_csv('gs://bucket-ph-dataset/POST_PP_ML/cl_reviews_yelp.csv', index=False, encoding=\"utf-8\")"
   ]
  },
  {
   "cell_type": "code",
   "execution_count": 81,
   "id": "4f4f0358-fd8e-455c-a354-9eaf85584b9c",
   "metadata": {},
   "outputs": [
    {
     "name": "stdout",
     "output_type": "stream",
     "text": [
      "<class 'pandas.core.frame.DataFrame'>\n",
      "RangeIndex: 73500 entries, 0 to 73499\n",
      "Data columns (total 5 columns):\n",
      " #   Column               Non-Null Count  Dtype \n",
      "---  ------               --------------  ----- \n",
      " 0   review_id            73500 non-null  object\n",
      " 1   stars                73500 non-null  int64 \n",
      " 2   text                 73500 non-null  object\n",
      " 3   cleaned_text         73500 non-null  object\n",
      " 4   Sentimiento_Mapeado  73500 non-null  object\n",
      "dtypes: int64(1), object(4)\n",
      "memory usage: 2.8+ MB\n"
     ]
    }
   ],
   "source": [
    "#CARGAMOS NUESTRO CSV\n",
    "\n",
    "csv_path1 = \"gs://bucket-ph-dataset/POST_PP_ML/cl_reviews_yelp.csv\" \n",
    "df_y_reviews = pd.read_csv(csv_path1)\n",
    "df_y_reviews.info()\n",
    "\n",
    "\n"
   ]
  },
  {
   "cell_type": "code",
   "execution_count": 82,
   "id": "f0adbfd8-284e-4049-aab7-c6cc7c7bf448",
   "metadata": {},
   "outputs": [
    {
     "name": "stdout",
     "output_type": "stream",
     "text": [
      "Accuracy Score: 0.7707482993197279\n",
      "\n",
      "Classification Report:\n",
      "               precision    recall  f1-score   support\n",
      "\n",
      "    Negativo       0.77      0.78      0.78      4950\n",
      "     Neutral       0.68      0.68      0.68      4880\n",
      "    Positivo       0.86      0.85      0.86      4870\n",
      "\n",
      "    accuracy                           0.77     14700\n",
      "   macro avg       0.77      0.77      0.77     14700\n",
      "weighted avg       0.77      0.77      0.77     14700\n",
      "\n"
     ]
    }
   ],
   "source": [
    "from sklearn.model_selection import train_test_split\n",
    "from sklearn.feature_extraction.text import TfidfVectorizer\n",
    "from sklearn.svm import SVC\n",
    "from sklearn.metrics import classification_report, accuracy_score\n",
    "\n",
    "# Dividir los datos en conjunto de entrenamiento y prueba\n",
    "X = df_y_reviews['cleaned_text']\n",
    "y = df_y_reviews['Sentimiento_Mapeado']\n",
    "X_train, X_test, y_train, y_test = train_test_split(X, y, test_size=0.2, random_state=42)\n",
    "\n",
    "# Crear la matriz TF-IDF\n",
    "tfidf_vectorizer = TfidfVectorizer(use_idf=True, max_features=1000)  # Puedes ajustar el número de features\n",
    "X_train_tfidf = tfidf_vectorizer.fit_transform(X_train)\n",
    "X_test_tfidf = tfidf_vectorizer.transform(X_test)\n",
    "\n",
    "# Entrenar el modelo SVM\n",
    "svm_model = SVC(kernel='linear', random_state=42)\n",
    "svm_model.fit(X_train_tfidf, y_train)\n",
    "\n",
    "# Realizar predicciones en el conjunto de prueba\n",
    "y_pred = svm_model.predict(X_test_tfidf)\n",
    "\n",
    "# Evaluar el rendimiento del modelo\n",
    "print(\"Accuracy Score:\", accuracy_score(y_test, y_pred))\n",
    "print(\"\\nClassification Report:\\n\", classification_report(y_test, y_pred))\n"
   ]
  },
  {
   "cell_type": "code",
   "execution_count": 54,
   "id": "aaad40fe-baa4-453f-8e84-4f05f0a6e076",
   "metadata": {},
   "outputs": [
    {
     "name": "stdout",
     "output_type": "stream",
     "text": [
      "Sentimiento Predicho: Positivo\n"
     ]
    }
   ],
   "source": [
    "new_review = \"\"\n",
    "\n",
    "# Preprocesar el nuevo review de la misma manera que los datos de entrenamiento\n",
    "new_review_cleaned = preprocess_text(new_review)  # Asegúrate de que preprocess_text esté definida\n",
    "\n",
    "# Crear la matriz TF-IDF para el nuevo review\n",
    "new_review_tfidf = tfidf_vectorizer.transform([new_review_cleaned])\n",
    "\n",
    "# Realizar la predicción con el modelo SVM\n",
    "predicted_sentimiento = svm_model.predict(new_review_tfidf)\n",
    "\n",
    "print(\"Sentimiento Predicho:\", predicted_sentimiento[0])"
   ]
  },
  {
   "cell_type": "code",
   "execution_count": 55,
   "id": "cfecd2df-0bd9-413d-9641-ba51605121d1",
   "metadata": {},
   "outputs": [
    {
     "name": "stdout",
     "output_type": "stream",
     "text": [
      "Porcentaje de confianza Positivo: 2.2303423428571896\n"
     ]
    }
   ],
   "source": [
    "decision_function_values = svm_model.decision_function(new_review_tfidf)\n",
    "\n",
    "# Obtener el índice de la clase positiva\n",
    "positive_class_index = svm_model.classes_.tolist().index('Positivo')\n",
    "\n",
    "# Obtener el porcentaje de confianza para la clase positiva\n",
    "positive_confidence = decision_function_values[0][positive_class_index]\n",
    "\n",
    "# Imprimir el porcentaje de confianza para la clase positiva\n",
    "print(f\"Porcentaje de confianza Positivo: {positive_confidence}\")\n",
    "\n"
   ]
  },
  {
   "cell_type": "code",
   "execution_count": 58,
   "id": "0737a5c1-47e4-46ec-8ede-faec010dd4f1",
   "metadata": {},
   "outputs": [
    {
     "name": "stdout",
     "output_type": "stream",
     "text": [
      "Modelo guardado en: gs://bucket-ph-dataset/MODELOS-ML-ENTRENANDOS/svm_model.pkl\n"
     ]
    }
   ],
   "source": [
    "###GUARDAMOS NUESTRO MODELO ENTRENADO\n",
    "import joblib\n",
    "from google.cloud import storage\n",
    "import os\n",
    "\n",
    "# Nombre del archivo de modelo\n",
    "model_filename = 'svm_model.pkl'\n",
    "\n",
    "# Ruta en Google Cloud Storage\n",
    "gcs_bucket = 'bucket-ph-dataset'\n",
    "gcs_folder = 'MODELOS-ML-ENTRENANDOS/'\n",
    "gcs_path = f'gs://{gcs_bucket}/{gcs_folder}{model_filename}'\n",
    "\n",
    "# Guardar el modelo en un archivo\n",
    "joblib.dump(svm_model, model_filename)\n",
    "\n",
    "# Subir el archivo al bucket de GCS\n",
    "storage_client = storage.Client()\n",
    "bucket = storage_client.bucket(gcs_bucket)\n",
    "blob = bucket.blob(gcs_folder + model_filename)\n",
    "blob.upload_from_filename(model_filename)\n",
    "\n",
    "# Eliminar el archivo local después de subirlo a GCS\n",
    "os.remove(model_filename)\n",
    "\n",
    "print(f\"Modelo guardado en: {gcs_path}\")\n",
    "\n",
    "\n"
   ]
  },
  {
   "cell_type": "code",
   "execution_count": 64,
   "id": "93ad3558-1cc9-4194-89cb-f99813c35e3d",
   "metadata": {},
   "outputs": [
    {
     "name": "stdout",
     "output_type": "stream",
     "text": [
      "Vectorizador TF-IDF guardado en: gs://bucket-ph-dataset/MODELOS-ML-ENTRENANDOS/tfidf_vectorizer.pkl\n"
     ]
    }
   ],
   "source": [
    "import joblib\n",
    "from google.cloud import storage\n",
    "import os\n",
    "\n",
    "# Nombre del archivo del vectorizador TF-IDF\n",
    "vectorizer_filename = 'tfidf_vectorizer.pkl'\n",
    "\n",
    "# Ruta en Google Cloud Storage\n",
    "gcs_bucket = 'bucket-ph-dataset'\n",
    "gcs_folder = 'MODELOS-ML-ENTRENANDOS/'\n",
    "gcs_vectorizer_path = f'gs://{gcs_bucket}/{gcs_folder}{vectorizer_filename}'\n",
    "\n",
    "# Guardar el vectorizador TF-IDF en un archivo\n",
    "joblib.dump(tfidf_vectorizer, vectorizer_filename)\n",
    "\n",
    "# Subir el archivo del vectorizador al bucket de GCS\n",
    "storage_client = storage.Client()\n",
    "bucket = storage_client.bucket(gcs_bucket)\n",
    "blob = bucket.blob(gcs_folder + vectorizer_filename)\n",
    "blob.upload_from_filename(vectorizer_filename)\n",
    "\n",
    "# Eliminar el archivo local después de subirlo a GCS\n",
    "os.remove(vectorizer_filename)\n",
    "\n",
    "print(f\"Vectorizador TF-IDF guardado en: {gcs_vectorizer_path}\")\n"
   ]
  },
  {
   "cell_type": "code",
   "execution_count": 61,
   "id": "d5da271d-be94-44f8-a41d-fe5690a31716",
   "metadata": {},
   "outputs": [
    {
     "data": {
      "image/png": "[encoded data removed]",
      "text/plain": [
       "<Figure size 800x600 with 2 Axes>"
      ]
     },
     "metadata": {},
     "output_type": "display_data"
    }
   ],
   "source": [
    "from sklearn.metrics import confusion_matrix\n",
    "import matplotlib.pyplot as plt\n",
    "import seaborn as sns\n",
    "confusion = confusion_matrix(y_test, y_pred)\n",
    "\n",
    "# Crear una figura y un eje para la gráfica\n",
    "plt.figure(figsize=(8, 6))\n",
    "\n",
    "# Crear la gráfica de la matriz de confusión utilizando seaborn\n",
    "sns.heatmap(confusion, annot=True, fmt='d', cmap='Blues', xticklabels=['Positivo', 'Neutral', 'Negativo'], yticklabels=['Positivo', 'Neutral', 'Negativo'])\n",
    "\n",
    "# Agregar etiquetas y título\n",
    "plt.xlabel('Predicción')\n",
    "plt.ylabel('Valor Real')\n",
    "plt.title('Matriz de Confusión del Modelo SVM con TF-IDF')\n",
    "\n",
    "# Mostrar la gráfica\n",
    "plt.show()"
   ]
  },
  {
   "cell_type": "code",
   "execution_count": null,
   "id": "39d44c34-388d-46cd-952c-d368b1cbe767",
   "metadata": {},
   "outputs": [],
   "source": [
    "####CONCLUSIONES EL MODELO ES BUENO PERO AÚN NO ES TAN COMPLETO COMO SE ESPERABA"
   ]
  },
  {
   "cell_type": "code",
   "execution_count": 63,
   "id": "9c35cb4d-2bbc-4e9f-b7d3-c8be5043c473",
   "metadata": {},
   "outputs": [
    {
     "name": "stdout",
     "output_type": "stream",
     "text": [
      "Sentimiento Predicho: Positivo\n"
     ]
    }
   ],
   "source": [
    "\n",
    "# Descargar el archivo desde GCS\n",
    "blob = bucket.blob(gcs_folder + model_filename)\n",
    "blob.download_to_filename(model_filename)\n",
    "\n",
    "# Cargar el modelo desde el archivo descargado\n",
    "loaded_model = joblib.load(model_filename)\n",
    "\n",
    "# Eliminar el archivo descargado después de cargar el modelo\n",
    "os.remove(model_filename)\n",
    "\n",
    "# Nuevo review para clasificar\n",
    "new_review = \"The attention was good\"\n",
    "\n",
    "# Preprocesar el nuevo review\n",
    "new_review_cleaned = preprocess_text(new_review)\n",
    "new_review_tfidf = tfidf_vectorizer.transform([new_review_cleaned])\n",
    "\n",
    "# Realizar la predicción con el modelo cargado\n",
    "predicted_sentimiento = loaded_model.predict(new_review_tfidf)\n",
    "\n",
    "print(\"Sentimiento Predicho:\", predicted_sentimiento[0])\n",
    "\n",
    "\n"
   ]
  },
  {
   "cell_type": "code",
   "execution_count": 2,
   "id": "da22b3c2-2fbe-428f-a651-50eda9b8fb83",
   "metadata": {},
   "outputs": [
    {
     "name": "stdout",
     "output_type": "stream",
     "text": [
      "<class 'pandas.core.frame.DataFrame'>\n",
      "RangeIndex: 1908575 entries, 0 to 1908574\n",
      "Data columns (total 8 columns):\n",
      " #   Column     Dtype  \n",
      "---  ------     -----  \n",
      " 0   review_id  object \n",
      " 1   user_id    float64\n",
      " 2   date       object \n",
      " 3   rating     int64  \n",
      " 4   text       object \n",
      " 5   resp       object \n",
      " 6   gmap_id    object \n",
      " 7   state_id   int64  \n",
      "dtypes: float64(1), int64(2), object(5)\n",
      "memory usage: 116.5+ MB\n"
     ]
    }
   ],
   "source": [
    "###############DATOS GOOGLE\n",
    "import pandas as pd\n",
    "\n",
    "csv_path1 = \"gs://bucket-ph-dataset/POST_ETL_DATASETS/Google_Maps_Data/gm_reviews.csv\" \n",
    "df_g_reviews = pd.read_csv(csv_path1)\n",
    "df_g_reviews.info()\n",
    "\n",
    "\n"
   ]
  },
  {
   "cell_type": "code",
   "execution_count": 3,
   "id": "7f933704-8b78-4c3c-9013-bc805bb8aabc",
   "metadata": {},
   "outputs": [
    {
     "name": "stdout",
     "output_type": "stream",
     "text": [
      "<class 'pandas.core.frame.DataFrame'>\n",
      "Index: 1077491 entries, 0 to 1908574\n",
      "Data columns (total 3 columns):\n",
      " #   Column     Non-Null Count    Dtype \n",
      "---  ------     --------------    ----- \n",
      " 0   review_id  1077491 non-null  object\n",
      " 1   rating     1077491 non-null  int64 \n",
      " 2   text       1077491 non-null  object\n",
      "dtypes: int64(1), object(2)\n",
      "memory usage: 32.9+ MB\n"
     ]
    }
   ],
   "source": [
    "#Eliminamos conlumnas innecesarias para el entrenamiento\n",
    "\n",
    "df_g_reviews.drop(columns=['user_id','date','resp','gmap_id','state_id'],inplace=True)\n",
    "df_g_reviews.dropna(subset=['text'],inplace=True)\n",
    "df_g_reviews.info()"
   ]
  },
  {
   "cell_type": "code",
   "execution_count": 4,
   "id": "bebc7845-51d9-4076-91c0-8a172e403e67",
   "metadata": {},
   "outputs": [
    {
     "name": "stdout",
     "output_type": "stream",
     "text": [
      "rating\n",
      "5    657830\n",
      "4    198644\n",
      "3     92898\n",
      "1     80079\n",
      "2     48040\n",
      "Name: count, dtype: int64\n"
     ]
    }
   ],
   "source": [
    "conteo_ratings = df_g_reviews['rating'].value_counts()\n",
    "print(conteo_ratings)"
   ]
  },
  {
   "cell_type": "code",
   "execution_count": 5,
   "id": "c55c63a2-9269-4677-8d5f-62c31dafaa97",
   "metadata": {},
   "outputs": [
    {
     "name": "stdout",
     "output_type": "stream",
     "text": [
      "Promedio de caracteres en las reseñas: 119.81294321715912\n"
     ]
    }
   ],
   "source": [
    "average_chars = df_g_reviews['text'].str.len().mean()\n",
    "print(\"Promedio de caracteres en las reseñas:\", average_chars)"
   ]
  },
  {
   "cell_type": "code",
   "execution_count": 7,
   "id": "a4451c3d-a8a7-4cea-894b-7af11ff807f0",
   "metadata": {},
   "outputs": [
    {
     "name": "stdout",
     "output_type": "stream",
     "text": [
      "Review más largo:\n",
      " (Translated by Google) I have been visiting the Place for a long time in large groups and many times alone with my partner because we like to go out to dinner ... and if I have time at my lunch I visit them.\n",
      "This time we had a very big disappointment with his service, with his touch and with his actions, which I think were in very bad taste. I explain.\n",
      "\n",
      "We ordered a take-away meal by phone, since we were visiting the place at our lunch hour, I mean 1 hour the main plan was to go pick up and return.\n",
      "When leaving work to go looking for food, other employees wanted to eat from there and we let them know that we would do them the favor of ordering their meals when we went to pick up ours, I arrive at the cashier, he explained that I have another order that Ask, that I wanted to place an order right there (fried cheese) and that I had other orders to order to take away. She explains to me that to order the fried cheese I have to ask for it at the table, that she would charge me what we already ordered and then I would go to sit at the table to order the fried cheese, that she will occasionally do the orders that I have to take me to the table. waitress, that she takes them as a go, and we pay the first order (even though I paid I gave them a tip because by custom since I was a waitress I know what the work for tip is and I am very aware of the employees in each place what visit)\n",
      "When we sit at the table after paying our first order,\n",
      "The waitress with a very bad attitude from the 1st and the waiter looked at each other with weird faces, then they shook each other,\n",
      "They stood in front of the cashier and started talking to each other, he brought me the cutlery and we asked him for 2 cokes and a fried cheese and I said he had some orders to do to go.\n",
      "At that time everyone looks at each other and the cashier goes to us 2 and tells us that we could not eat our previous purchase there, that if we had ordered it by phone we had to consume it outside the establishment and the waiter brings us a paper that says it (which I saw only when he brought it because we didn't even notice the paper but no such embarrassment happened) that that was a new law of them, that if I wanted to eat the fried cheese there I could order it but I couldn't take anything out of the previous order and if we wanted we could eat in the car or outside the establishment while we waited for the other orders but without consuming the ones we already had there, bone, letting our orders cool down.\n",
      "I very kindly got up from the seat and told them that thank you very much to everyone that we really did not have the knowledge of the new rule, we had not seen the paper and we did not know it (because they do not even let you know when they arrived at the establishment before to pay, or by the phone they tell you the rule, even we explaining what we wanted to do do not tell us until we take a seat)\n",
      "Well ... we had no choice, we left let you know that I was no longer interested in making any other purchases or taking orders to take because I would not eat in my car, or let the food cool down, we left my companion and I with faces of shame because they practically threw us out of the establishment in front of everyone.\n",
      "I think it was very bad taste the way they approached us and the way they dealt with the situation made me feel bad, as if we had brought food from another place (a macdonalds or a bk) to eat there when we were consumers in one way or another. Really neither the waitress, nor the waiter, nor the cashier knew how to treat the situation as they should have almost mocked and the worst of all is that the administrator of the establishment was there (yes, I know who you are) and He didn't even have the one to verify what was happening, being a client who just consumed you and frequents often\n",
      "I don't think he will return to his business anymore.\n",
      "Because it is not a mistake that changes my perception, what changed it was the lack of humanity and quality of human being that would not allow me to return there. Thank you very much for your previous services that we already pay for very well, but we will not need them anymore.\n",
      "Success.\n",
      "\n",
      "(Original)\n",
      "Llevo visitando el Lugar mucho tiempo en grupos grandes y muchas veces solo con mi pareja por que nos gusta salir a cenar..y si me da tiempo en mi lunch los visito.\n",
      "Esta ocasión tuvimos una muy grande decepción con su servicio, con su tacto y con sus actos, los cuales creo que fueron de muy mal gusto. Me explico.\n",
      "\n",
      "Pedimos una comida para llevar por teléfono, ya que estábamos visitando el lugar en nuestra hora del almuerzo, osea 1 hora el plan principal era ir recoger y regresar.\n",
      "Al salir del trabajo para ir a buscar la comida otros empleados se antojaron de comer de allí y les dejamos saber que les haríamos el favor de pedir sus comidas cuando fuésemos a recoger la nuestra, Llego donde la cajera, le explicó que tengo otra orden que pedir, que quería hacer un pedido para allí mismo(queso frito) y que tenía otras órdenes que pedir para llevar. Ella me explica que para pedir el queso frito tengo que pedirlo en la mesa, que me cobraría lo que ya ordenamos y luego yo pasara a sentarme a la mesa para ordenar el queso frito, que de vez haga las ordenes que tengo para llevarme a la mesera, que ella me las toma como to go, y pagamos la primera orden(aún así cuando pagué les brinde propina pues por la costumbre ya que fui mesera se lo que es el trabajo por propina y soy muy conciente con los empleados en cada lugar que visito)\n",
      "Cuando nos sentamos en la mesa luego de pagar nuestra primera orden,\n",
      "La mesera con muy mala actitud desde 1ras y el mesero se miraron con caras raras, luego se cuchicharon entre sí,\n",
      "se pararon frente a la cajera y comenzaron a hablar entre ellos, me trae los cubiertos y le pedimos 2 coca colas y un queso frito y digo que tenía unas ordenes que hacer to go.\n",
      "En ese momento todos se miran unos a otros y se dirige la cajera a nosotras 2 y nos dice que no podíamos comernos lo de nuestra compra anterior allí, que si lo habíamos ordenado por teléfono teníamos que consumirlo fuera del establecimiento y el mesero nos trae un papel que lo dice(que lo ví solo cuando lo trajo por que ni cuenta nos dimos del papel sino no paso semejante bochorno)que esa era una nueva ley de ellos, que si quería comerme el queso frito allí lo podía ordenar pero que no podía sacar nada de la orden anterior y que si queríamos podíamos comernos en el carro o fuera del establecimiento mientras esperábamos por las otras órdenes pero sin consumir las que ya teníamos allí, osea, dejando que nuestras órdenes se enfriaran.\n",
      "Yo muy amablemente, me levanté del asiento les dije que muchas gracias a todos que de veras no teníamos el conocimiento de la nueva regla, no habíamos visto el papel y que no lo sabíamos(por que ni te lo dejan saber al llegar al establecimiento antes de pagar,  ni por el teléfono te dicen la regla, aún nosotras explicando lo que queríamos hacer no nos lo dicen hasta que tomamos asiento)\n",
      "Bueno....no nos quedó de otra, nos fuimos le deje saber que ya no me interesaba hacer ninguna otra compra ni hacer las ordenes para llevar por que no comería en mi carro, ni dejaría que la comida se me enfriará, salimos mi compañeray  yo con caras de vergüenza por que prácticamente nos botaron del establecimiento delante de todos.\n",
      "Creo que fue de muy mal gusto la manera en la que se dirigieron a nosotras y la forma en la que lidiaron con la situación, me hicieron sentir pésimo, como si hubiesemos llevado comida de otro lugar(un macdonalds o un bk) para comer allí cuando éramos consumidoras de una forma u otra.Realmente ni la mesera, ni el mesero, ni la cajera supieron tratar la situación como debieron casi mofándose y lo peor de todo es que el adminitrador del establecimiento estaba allí(sí,se quien eres) y ni siquiera tuvo el aquel de verificar que sucedía, siendo yo una clienta que te acaba de consumir y que frecuenta seguido\n",
      "No creo que regrese a su negocio nunca más.\n",
      "Por que no es un error lo que cambia mi percepción, lo que la cambió fue la falta de humanidad y calidad de ser humano lo que no m permitiría volver allí.  Muchas gracias por sus servicios anteriores que muy bien ya los pagamos, pero ya no los necesitaremos más.\n",
      "Éxito.\n"
     ]
    }
   ],
   "source": [
    "longest_review = df_g_reviews.loc[df_g_reviews['text'].str.len().idxmax()]['text']\n",
    "print(\"Review más largo:\\n\", longest_review)"
   ]
  },
  {
   "cell_type": "code",
   "execution_count": 8,
   "id": "4db17153-296a-49f5-a58f-7036d8c366cb",
   "metadata": {},
   "outputs": [
    {
     "name": "stdout",
     "output_type": "stream",
     "text": [
      "<class 'pandas.core.frame.DataFrame'>\n",
      "Index: 1036755 entries, 0 to 1908574\n",
      "Data columns (total 3 columns):\n",
      " #   Column     Non-Null Count    Dtype \n",
      "---  ------     --------------    ----- \n",
      " 0   review_id  1036755 non-null  object\n",
      " 1   rating     1036755 non-null  int64 \n",
      " 2   text       1036755 non-null  object\n",
      "dtypes: int64(1), object(2)\n",
      "memory usage: 31.6+ MB\n"
     ]
    }
   ],
   "source": [
    "#Luego del analisis consideramos solo los reviews con menores a 500 caracteres\n",
    "df_g_reviews = df_g_reviews[df_g_reviews['text'].str.len() > 3]\n",
    "df_g_reviews = df_g_reviews[df_g_reviews['text'].str.len() <= 500]\n",
    "df_g_reviews.info()"
   ]
  },
  {
   "cell_type": "code",
   "execution_count": 9,
   "id": "dd5f90ee-64e4-4920-b588-8b6c4e41140d",
   "metadata": {},
   "outputs": [
    {
     "name": "stderr",
     "output_type": "stream",
     "text": [
      "[nltk_data] Downloading package punkt to /home/jupyter/nltk_data...\n",
      "[nltk_data]   Package punkt is already up-to-date!\n",
      "[nltk_data] Downloading package stopwords to\n",
      "[nltk_data]     /home/jupyter/nltk_data...\n",
      "[nltk_data]   Package stopwords is already up-to-date!\n",
      "[nltk_data] Downloading package wordnet to /home/jupyter/nltk_data...\n",
      "[nltk_data]   Package wordnet is already up-to-date!\n"
     ]
    }
   ],
   "source": [
    "\n",
    "import pandas as pd\n",
    "from nltk.tokenize import word_tokenize\n",
    "from nltk.stem import PorterStemmer, WordNetLemmatizer\n",
    "from nltk.corpus import stopwords\n",
    "import nltk\n",
    "nltk.download('punkt')\n",
    "nltk.download('stopwords')\n",
    "nltk.download('wordnet')\n",
    "\n",
    "# Crear una instancia del stemmer y del lematizador\n",
    "stemmer = PorterStemmer()\n",
    "lemmatizer = WordNetLemmatizer()\n",
    "\n",
    "# Obtener la lista de stop words en inglés\n",
    "stop_words = set(stopwords.words('english'))\n",
    "\n",
    "# Función para realizar la limpieza de texto, lematización y eliminar stop words\n",
    "def preprocess_text(text):\n",
    "    # Tokenización\n",
    "    words = word_tokenize(text)\n",
    "    \n",
    "    # Eliminar signos de puntuación, números y convertir a minúsculas\n",
    "    cleaned_words = [word.lower() for word in words if word.isalpha()]\n",
    "    \n",
    "    # Lematización y eliminar stop words\n",
    "    lemmatized_words = [lemmatizer.lemmatize(word) for word in cleaned_words if word not in stop_words]\n",
    "    \n",
    "    # Reconstruir el texto limpio\n",
    "    cleaned_text = ' '.join(lemmatized_words)\n",
    "    return cleaned_text\n",
    "\n",
    "# Supongamos que ya tienes tus reseñas en el DataFrame df_y_reviews\n",
    "# y la columna 'text' contiene las reseñas\n",
    "\n",
    "# Aplicar la función de preprocesamiento a todas las reseñas\n",
    "df_g_reviews['cleaned_text'] = df_g_reviews['text'].apply(preprocess_text)"
   ]
  },
  {
   "cell_type": "code",
   "execution_count": 10,
   "id": "9f2c5653-0d2d-40e8-b2ba-41dfd334eb74",
   "metadata": {},
   "outputs": [
    {
     "name": "stdout",
     "output_type": "stream",
     "text": [
      "<class 'pandas.core.frame.DataFrame'>\n",
      "Index: 1036755 entries, 0 to 1908574\n",
      "Data columns (total 4 columns):\n",
      " #   Column        Non-Null Count    Dtype \n",
      "---  ------        --------------    ----- \n",
      " 0   review_id     1036755 non-null  object\n",
      " 1   rating        1036755 non-null  int64 \n",
      " 2   text          1036755 non-null  object\n",
      " 3   cleaned_text  1036755 non-null  object\n",
      "dtypes: int64(1), object(3)\n",
      "memory usage: 39.5+ MB\n"
     ]
    }
   ],
   "source": [
    "df_g_reviews.info()"
   ]
  },
  {
   "cell_type": "code",
   "execution_count": 11,
   "id": "7d141f57-949f-4451-b7b8-33d72b5a49b5",
   "metadata": {},
   "outputs": [
    {
     "name": "stdout",
     "output_type": "stream",
     "text": [
      "Cantidad de reseñas que cumplen con los criterios: 1013882\n"
     ]
    }
   ],
   "source": [
    "##volvemos aplicar los filtros de tamaño una vez procesados\n",
    "# Calcular las longitudes de las reseñas preprocesadas\n",
    "df_g_reviews['cleaned_text_length'] = df_g_reviews['cleaned_text'].str.len()\n",
    "\n",
    "# Verificar si las reseñas cumplen con tus criterios\n",
    "min_length = 5  # Por ejemplo, si tu mínimo original era 3\n",
    "max_length = 500  # Por ejemplo, si tu máximo original era 500\n",
    "\n",
    "filtered_reviews = df_g_reviews[\n",
    "    (df_g_reviews['cleaned_text_length'] >= min_length) &\n",
    "    (df_g_reviews['cleaned_text_length'] <= max_length)\n",
    "]\n",
    "\n",
    "print(\"Cantidad de reseñas que cumplen con los criterios:\", len(filtered_reviews))\n",
    "df_g_reviews.drop(columns=['cleaned_text_length'],inplace=True)"
   ]
  },
  {
   "cell_type": "code",
   "execution_count": 12,
   "id": "1657dd2a-486b-4786-9191-b076292c3da0",
   "metadata": {},
   "outputs": [
    {
     "name": "stdout",
     "output_type": "stream",
     "text": [
      "<class 'pandas.core.frame.DataFrame'>\n",
      "Index: 1004661 entries, 0 to 1908574\n",
      "Data columns (total 4 columns):\n",
      " #   Column        Non-Null Count    Dtype \n",
      "---  ------        --------------    ----- \n",
      " 0   review_id     1004661 non-null  object\n",
      " 1   rating        1004661 non-null  int64 \n",
      " 2   text          1004661 non-null  object\n",
      " 3   cleaned_text  1004661 non-null  object\n",
      "dtypes: int64(1), object(3)\n",
      "memory usage: 38.3+ MB\n"
     ]
    }
   ],
   "source": [
    "df_g_reviews = df_g_reviews[df_g_reviews['cleaned_text'].str.len() > 5]\n",
    "df_g_reviews = df_g_reviews[df_g_reviews['cleaned_text'].str.len() <= 500]\n",
    "df_g_reviews.info()"
   ]
  },
  {
   "cell_type": "code",
   "execution_count": 13,
   "id": "cce2c896-95c2-4739-abaf-183432ed5fa8",
   "metadata": {},
   "outputs": [],
   "source": [
    "#Primero vamos a considerar los 3 sentimientos de acuerdo al ranting\n",
    "def mapear_sentimiento(stars):\n",
    "    if stars <= 2:\n",
    "        return 'Negativo'\n",
    "    elif stars == 3:\n",
    "        return 'Neutral'\n",
    "    elif stars >= 4:\n",
    "        return 'Positivo'\n",
    "\n",
    "df_g_reviews['Sentimiento_Mapeado'] = df_g_reviews['rating'].map(mapear_sentimiento)"
   ]
  },
  {
   "cell_type": "code",
   "execution_count": 14,
   "id": "c29365a1-bf4b-400e-a38b-150d0d8e402d",
   "metadata": {},
   "outputs": [
    {
     "name": "stdout",
     "output_type": "stream",
     "text": [
      "Sentimiento_Mapeado\n",
      "Positivo    809917\n",
      "Negativo    111111\n",
      "Neutral      83633\n",
      "Name: count, dtype: int64\n"
     ]
    }
   ],
   "source": [
    "conteo_sent = df_g_reviews['Sentimiento_Mapeado'].value_counts()\n",
    "print(conteo_sent)"
   ]
  },
  {
   "cell_type": "code",
   "execution_count": 15,
   "id": "80288f0a-5e97-4e4d-9549-5a4a6e85b2f7",
   "metadata": {},
   "outputs": [
    {
     "name": "stdout",
     "output_type": "stream",
     "text": [
      "Sentimiento_Mapeado\n",
      "Positivo    83500\n",
      "Negativo    83500\n",
      "Neutral     83500\n",
      "Name: count, dtype: int64\n"
     ]
    }
   ],
   "source": [
    "####Realizamos el balance de clases\n",
    "\n",
    "# Cantidad deseada por cada clase\n",
    "desired_samples = 83500\n",
    "\n",
    "# Filtrar muestras por cada clase y tomar una muestra aleatoria de tamaño desired_samples\n",
    "positive_samples = df_g_reviews[df_g_reviews['Sentimiento_Mapeado'] == 'Positivo'].sample(desired_samples)\n",
    "negative_samples = df_g_reviews[df_g_reviews['Sentimiento_Mapeado'] == 'Negativo'].sample(desired_samples)\n",
    "neutral_samples = df_g_reviews[df_g_reviews['Sentimiento_Mapeado'] == 'Neutral'].sample(desired_samples)\n",
    "\n",
    "# Concatenar las muestras balanceadas en un nuevo DataFrame\n",
    "balanced_df = pd.concat([positive_samples, negative_samples, neutral_samples])\n",
    "\n",
    "# Restablecer los índices del nuevo DataFrame\n",
    "balanced_df.reset_index(drop=True, inplace=True)\n",
    "\n",
    "# Imprimir información sobre la distribución de clases en el nuevo DataFrame\n",
    "print(balanced_df['Sentimiento_Mapeado'].value_counts())"
   ]
  },
  {
   "cell_type": "code",
   "execution_count": 16,
   "id": "26f59387-f296-41af-9f64-eee399762d4f",
   "metadata": {},
   "outputs": [
    {
     "name": "stdout",
     "output_type": "stream",
     "text": [
      "<class 'pandas.core.frame.DataFrame'>\n",
      "RangeIndex: 250500 entries, 0 to 250499\n",
      "Data columns (total 5 columns):\n",
      " #   Column               Non-Null Count   Dtype \n",
      "---  ------               --------------   ----- \n",
      " 0   review_id            250500 non-null  object\n",
      " 1   rating               250500 non-null  int64 \n",
      " 2   text                 250500 non-null  object\n",
      " 3   cleaned_text         250500 non-null  object\n",
      " 4   Sentimiento_Mapeado  250500 non-null  object\n",
      "dtypes: int64(1), object(4)\n",
      "memory usage: 9.6+ MB\n"
     ]
    }
   ],
   "source": [
    "balanced_df.info()"
   ]
  },
  {
   "cell_type": "code",
   "execution_count": 17,
   "id": "f6eee2ab-ba6a-452a-b10f-2b2e2dff0295",
   "metadata": {},
   "outputs": [],
   "source": [
    "#GUARDAMOS EN UN CSV\n",
    "\n",
    "balanced_df.to_csv('gs://bucket-ph-dataset/POST_PP_ML/cl_reviews_gm.csv', index=False, encoding=\"utf-8\")"
   ]
  },
  {
   "cell_type": "code",
   "execution_count": 18,
   "id": "5f5887cf-82d7-4e8b-bbf1-23a06951c104",
   "metadata": {},
   "outputs": [
    {
     "name": "stdout",
     "output_type": "stream",
     "text": [
      "<class 'pandas.core.frame.DataFrame'>\n",
      "RangeIndex: 250500 entries, 0 to 250499\n",
      "Data columns (total 5 columns):\n",
      " #   Column               Non-Null Count   Dtype \n",
      "---  ------               --------------   ----- \n",
      " 0   review_id            250500 non-null  object\n",
      " 1   rating               250500 non-null  int64 \n",
      " 2   text                 250500 non-null  object\n",
      " 3   cleaned_text         250500 non-null  object\n",
      " 4   Sentimiento_Mapeado  250500 non-null  object\n",
      "dtypes: int64(1), object(4)\n",
      "memory usage: 9.6+ MB\n"
     ]
    }
   ],
   "source": [
    "#CARGAMOS NUESTRO CSV\n",
    "\n",
    "csv_path1 = \"gs://bucket-ph-dataset/POST_PP_ML/cl_reviews_gm.csv\" \n",
    "df_g_reviews = pd.read_csv(csv_path1)\n",
    "df_g_reviews.info()"
   ]
  },
  {
   "cell_type": "code",
   "execution_count": 19,
   "id": "f31bdf19-3682-4a8e-9c9a-5798c0789dee",
   "metadata": {},
   "outputs": [
    {
     "name": "stdout",
     "output_type": "stream",
     "text": [
      "Accuracy Score: 0.7029141716566867\n",
      "\n",
      "Classification Report:\n",
      "               precision    recall  f1-score   support\n",
      "\n",
      "    Negativo       0.71      0.75      0.73     16523\n",
      "     Neutral       0.62      0.55      0.58     16976\n",
      "    Positivo       0.77      0.81      0.79     16601\n",
      "\n",
      "    accuracy                           0.70     50100\n",
      "   macro avg       0.70      0.70      0.70     50100\n",
      "weighted avg       0.70      0.70      0.70     50100\n",
      "\n"
     ]
    }
   ],
   "source": [
    "from sklearn.model_selection import train_test_split\n",
    "from sklearn.feature_extraction.text import TfidfVectorizer\n",
    "from sklearn.svm import SVC\n",
    "from sklearn.metrics import classification_report, accuracy_score\n",
    "\n",
    "# Dividir los datos en conjunto de entrenamiento y prueba\n",
    "X = df_g_reviews['cleaned_text']\n",
    "y = df_g_reviews['Sentimiento_Mapeado']\n",
    "X_train, X_test, y_train, y_test = train_test_split(X, y, test_size=0.2, random_state=42)\n",
    "\n",
    "# Crear la matriz TF-IDF\n",
    "tfidf_vectorizer = TfidfVectorizer(use_idf=True, max_features=1000)  # Puedes ajustar el número de features\n",
    "X_train_tfidf = tfidf_vectorizer.fit_transform(X_train)\n",
    "X_test_tfidf = tfidf_vectorizer.transform(X_test)\n",
    "\n",
    "# Entrenar el modelo SVM\n",
    "svm_model = SVC(kernel='linear', random_state=42)\n",
    "svm_model.fit(X_train_tfidf, y_train)\n",
    "\n",
    "# Realizar predicciones en el conjunto de prueba\n",
    "y_pred = svm_model.predict(X_test_tfidf)\n",
    "\n",
    "# Evaluar el rendimiento del modelo\n",
    "print(\"Accuracy Score:\", accuracy_score(y_test, y_pred))\n",
    "print(\"\\nClassification Report:\\n\", classification_report(y_test, y_pred))"
   ]
  },
  {
   "cell_type": "code",
   "execution_count": null,
   "id": "a86b4bcd-9355-4ca0-a397-e617bd247210",
   "metadata": {},
   "outputs": [],
   "source": [
    "##########MODELO BERT - SE REALIZÓ EN COLAB POR EL GPU"
   ]
  },
  {
   "cell_type": "code",
   "execution_count": 5,
   "id": "21e03d84-9d95-49e8-95f8-00b49c5460fd",
   "metadata": {},
   "outputs": [
    {
     "name": "stdout",
     "output_type": "stream",
     "text": [
      "<class 'pandas.core.frame.DataFrame'>\n",
      "RangeIndex: 250500 entries, 0 to 250499\n",
      "Data columns (total 5 columns):\n",
      " #   Column               Non-Null Count   Dtype \n",
      "---  ------               --------------   ----- \n",
      " 0   review_id            250500 non-null  object\n",
      " 1   rating               250500 non-null  int64 \n",
      " 2   text                 250500 non-null  object\n",
      " 3   cleaned_text         250500 non-null  object\n",
      " 4   Sentimiento_Mapeado  250500 non-null  object\n",
      "dtypes: int64(1), object(4)\n",
      "memory usage: 9.6+ MB\n"
     ]
    }
   ],
   "source": [
    "import pandas as pd\n",
    "csv_path1 = \"gs://bucket-ph-dataset/POST_PP_ML/cl_reviews_gm.csv\" \n",
    "df_g_reviews = pd.read_csv(csv_path1)\n",
    "df_g_reviews.info()\n",
    "\n",
    "\n"
   ]
  },
  {
   "cell_type": "code",
   "execution_count": 21,
   "id": "0441e56c-34c9-40a5-bf97-cdd79ec8a541",
   "metadata": {},
   "outputs": [
    {
     "name": "stdout",
     "output_type": "stream",
     "text": [
      "\u001b[33mWARNING: Ignoring invalid distribution -oogle-cloud-datastore (/opt/conda/lib/python3.10/site-packages)\u001b[0m\u001b[33m\n",
      "\u001b[0mCollecting transformers\n",
      "  Obtaining dependency information for transformers from https://files.pythonhosted.org/packages/21/02/ae8e595f45b6c8edee07913892b3b41f5f5f273962ad98851dc6a564bbb9/transformers-4.31.0-py3-none-any.whl.metadata\n",
      "  Downloading transformers-4.31.0-py3-none-any.whl.metadata (116 kB)\n",
      "\u001b[2K     \u001b[90m━━━━━━━━━━━━━━━━━━━━━━━━━━━━━━━━━━━━━━━\u001b[0m \u001b[32m116.9/116.9 kB\u001b[0m \u001b[31m3.6 MB/s\u001b[0m eta \u001b[36m0:00:00\u001b[0m\n",
      "\u001b[?25hRequirement already satisfied: filelock in /opt/conda/lib/python3.10/site-packages (from transformers) (3.12.2)\n",
      "Collecting huggingface-hub<1.0,>=0.14.1 (from transformers)\n",
      "  Obtaining dependency information for huggingface-hub<1.0,>=0.14.1 from https://files.pythonhosted.org/packages/7f/c4/adcbe9a696c135578cabcbdd7331332daad4d49b7c43688bc2d36b3a47d2/huggingface_hub-0.16.4-py3-none-any.whl.metadata\n",
      "  Downloading huggingface_hub-0.16.4-py3-none-any.whl.metadata (12 kB)\n",
      "Requirement already satisfied: numpy>=1.17 in /opt/conda/lib/python3.10/site-packages (from transformers) (1.23.5)\n",
      "Requirement already satisfied: packaging>=20.0 in /opt/conda/lib/python3.10/site-packages (from transformers) (23.1)\n",
      "Requirement already satisfied: pyyaml>=5.1 in /opt/conda/lib/python3.10/site-packages (from transformers) (6.0.1)\n",
      "Requirement already satisfied: regex!=2019.12.17 in /opt/conda/lib/python3.10/site-packages (from transformers) (2023.8.8)\n",
      "Requirement already satisfied: requests in /opt/conda/lib/python3.10/site-packages (from transformers) (2.31.0)\n",
      "Collecting tokenizers!=0.11.3,<0.14,>=0.11.1 (from transformers)\n",
      "  Downloading tokenizers-0.13.3-cp310-cp310-manylinux_2_17_x86_64.manylinux2014_x86_64.whl (7.8 MB)\n",
      "\u001b[2K     \u001b[90m━━━━━━━━━━━━━━━━━━━━━━━━━━━━━━━━━━━━━━━━\u001b[0m \u001b[32m7.8/7.8 MB\u001b[0m \u001b[31m63.1 MB/s\u001b[0m eta \u001b[36m0:00:00\u001b[0m00:01\u001b[0m00:01\u001b[0m\n",
      "\u001b[?25hCollecting safetensors>=0.3.1 (from transformers)\n",
      "  Obtaining dependency information for safetensors>=0.3.1 from https://files.pythonhosted.org/packages/37/9b/5d880ca9f94a2e4f16111507674910ca1932cffbd2bbeb688b8c8102a6d0/safetensors-0.3.2-cp310-cp310-manylinux_2_17_x86_64.manylinux2014_x86_64.whl.metadata\n",
      "  Downloading safetensors-0.3.2-cp310-cp310-manylinux_2_17_x86_64.manylinux2014_x86_64.whl.metadata (4.5 kB)\n",
      "Requirement already satisfied: tqdm>=4.27 in /opt/conda/lib/python3.10/site-packages (from transformers) (4.65.0)\n",
      "Requirement already satisfied: fsspec in /opt/conda/lib/python3.10/site-packages (from huggingface-hub<1.0,>=0.14.1->transformers) (2023.6.0)\n",
      "Requirement already satisfied: typing-extensions>=3.7.4.3 in /opt/conda/lib/python3.10/site-packages (from huggingface-hub<1.0,>=0.14.1->transformers) (4.7.1)\n",
      "Requirement already satisfied: charset-normalizer<4,>=2 in /opt/conda/lib/python3.10/site-packages (from requests->transformers) (3.2.0)\n",
      "Requirement already satisfied: idna<4,>=2.5 in /opt/conda/lib/python3.10/site-packages (from requests->transformers) (3.4)\n",
      "Requirement already satisfied: urllib3<3,>=1.21.1 in /opt/conda/lib/python3.10/site-packages (from requests->transformers) (1.26.16)\n",
      "Requirement already satisfied: certifi>=2017.4.17 in /opt/conda/lib/python3.10/site-packages (from requests->transformers) (2023.7.22)\n",
      "Downloading transformers-4.31.0-py3-none-any.whl (7.4 MB)\n",
      "\u001b[2K   \u001b[90m━━━━━━━━━━━━━━━━━━━━━━━━━━━━━━━━━━━━━━━━\u001b[0m \u001b[32m7.4/7.4 MB\u001b[0m \u001b[31m73.5 MB/s\u001b[0m eta \u001b[36m0:00:00\u001b[0m:00:01\u001b[0m00:01\u001b[0m\n",
      "\u001b[?25hDownloading huggingface_hub-0.16.4-py3-none-any.whl (268 kB)\n",
      "\u001b[2K   \u001b[90m━━━━━━━━━━━━━━━━━━━━━━━━━━━━━━━━━━━━━━━━\u001b[0m \u001b[32m268.8/268.8 kB\u001b[0m \u001b[31m28.7 MB/s\u001b[0m eta \u001b[36m0:00:00\u001b[0m\n",
      "\u001b[?25hDownloading safetensors-0.3.2-cp310-cp310-manylinux_2_17_x86_64.manylinux2014_x86_64.whl (1.3 MB)\n",
      "\u001b[2K   \u001b[90m━━━━━━━━━━━━━━━━━━━━━━━━━━━━━━━━━━━━━━━━\u001b[0m \u001b[32m1.3/1.3 MB\u001b[0m \u001b[31m60.9 MB/s\u001b[0m eta \u001b[36m0:00:00\u001b[0m\n",
      "\u001b[?25h\u001b[33mWARNING: Ignoring invalid distribution -oogle-cloud-datastore (/opt/conda/lib/python3.10/site-packages)\u001b[0m\u001b[33m\n",
      "\u001b[0mInstalling collected packages: tokenizers, safetensors, huggingface-hub, transformers\n",
      "Successfully installed huggingface-hub-0.16.4 safetensors-0.3.2 tokenizers-0.13.3 transformers-4.31.0\n"
     ]
    }
   ],
   "source": [
    "!pip install transformers"
   ]
  },
  {
   "cell_type": "code",
   "execution_count": 23,
   "id": "90f05251-d3d9-4911-9990-194fd694a289",
   "metadata": {},
   "outputs": [
    {
     "name": "stdout",
     "output_type": "stream",
     "text": [
      "\u001b[33mWARNING: Ignoring invalid distribution -oogle-cloud-datastore (/opt/conda/lib/python3.10/site-packages)\u001b[0m\u001b[33m\n",
      "\u001b[0mCollecting torch\n",
      "  Downloading torch-2.0.1-cp310-cp310-manylinux1_x86_64.whl (619.9 MB)\n",
      "\u001b[2K     \u001b[90m━━━━━━━━━━━━━━━━━━━━━━━━━━━━━━━━━━━━━━━\u001b[0m \u001b[32m619.9/619.9 MB\u001b[0m \u001b[31m1.4 MB/s\u001b[0m eta \u001b[36m0:00:00\u001b[0m00:01\u001b[0m00:01\u001b[0m\n",
      "\u001b[?25hCollecting torchvision\n",
      "  Downloading torchvision-0.15.2-cp310-cp310-manylinux1_x86_64.whl (6.0 MB)\n",
      "\u001b[2K     \u001b[90m━━━━━━━━━━━━━━━━━━━━━━━━━━━━━━━━━━━━━━━━\u001b[0m \u001b[32m6.0/6.0 MB\u001b[0m \u001b[31m25.4 MB/s\u001b[0m eta \u001b[36m0:00:00\u001b[0m:00:01\u001b[0m00:01\u001b[0m\n",
      "\u001b[?25hCollecting torchaudio\n",
      "  Downloading torchaudio-2.0.2-cp310-cp310-manylinux1_x86_64.whl (4.4 MB)\n",
      "\u001b[2K     \u001b[90m━━━━━━━━━━━━━━━━━━━━━━━━━━━━━━━━━━━━━━━━\u001b[0m \u001b[32m4.4/4.4 MB\u001b[0m \u001b[31m7.6 MB/s\u001b[0m eta \u001b[36m0:00:00\u001b[0m0:00:01\u001b[0m\n",
      "\u001b[?25hRequirement already satisfied: filelock in /opt/conda/lib/python3.10/site-packages (from torch) (3.12.2)\n",
      "Requirement already satisfied: typing-extensions in /opt/conda/lib/python3.10/site-packages (from torch) (4.7.1)\n",
      "Collecting sympy (from torch)\n",
      "  Downloading sympy-1.12-py3-none-any.whl (5.7 MB)\n",
      "\u001b[2K     \u001b[90m━━━━━━━━━━━━━━━━━━━━━━━━━━━━━━━━━━━━━━━━\u001b[0m \u001b[32m5.7/5.7 MB\u001b[0m \u001b[31m51.2 MB/s\u001b[0m eta \u001b[36m0:00:00\u001b[0m:00:01\u001b[0m00:01\u001b[0m\n",
      "\u001b[?25hRequirement already satisfied: networkx in /opt/conda/lib/python3.10/site-packages (from torch) (3.1)\n",
      "Requirement already satisfied: jinja2 in /opt/conda/lib/python3.10/site-packages (from torch) (3.1.2)\n",
      "Collecting nvidia-cuda-nvrtc-cu11==11.7.99 (from torch)\n",
      "  Downloading nvidia_cuda_nvrtc_cu11-11.7.99-2-py3-none-manylinux1_x86_64.whl (21.0 MB)\n",
      "\u001b[2K     \u001b[90m━━━━━━━━━━━━━━━━━━━━━━━━━━━━━━━━━━━━━━━━\u001b[0m \u001b[32m21.0/21.0 MB\u001b[0m \u001b[31m49.6 MB/s\u001b[0m eta \u001b[36m0:00:00\u001b[0m00:01\u001b[0m00:01\u001b[0m\n",
      "\u001b[?25hCollecting nvidia-cuda-runtime-cu11==11.7.99 (from torch)\n",
      "  Downloading nvidia_cuda_runtime_cu11-11.7.99-py3-none-manylinux1_x86_64.whl (849 kB)\n",
      "\u001b[2K     \u001b[90m━━━━━━━━━━━━━━━━━━━━━━━━━━━━━━━━━━━━━━\u001b[0m \u001b[32m849.3/849.3 kB\u001b[0m \u001b[31m48.5 MB/s\u001b[0m eta \u001b[36m0:00:00\u001b[0m\n",
      "\u001b[?25hCollecting nvidia-cuda-cupti-cu11==11.7.101 (from torch)\n",
      "  Downloading nvidia_cuda_cupti_cu11-11.7.101-py3-none-manylinux1_x86_64.whl (11.8 MB)\n",
      "\u001b[2K     \u001b[90m━━━━━━━━━━━━━━━━━━━━━━━━━━━━━━━━━━━━━━━━\u001b[0m \u001b[32m11.8/11.8 MB\u001b[0m \u001b[31m93.0 MB/s\u001b[0m eta \u001b[36m0:00:00\u001b[0m00:01\u001b[0m00:01\u001b[0m\n",
      "\u001b[?25hCollecting nvidia-cudnn-cu11==8.5.0.96 (from torch)\n",
      "  Downloading nvidia_cudnn_cu11-8.5.0.96-2-py3-none-manylinux1_x86_64.whl (557.1 MB)\n",
      "\u001b[2K     \u001b[90m━━━━━━━━━━━━━━━━━━━━━━━━━━━━━━━━━━━━━━━\u001b[0m \u001b[32m557.1/557.1 MB\u001b[0m \u001b[31m1.8 MB/s\u001b[0m eta \u001b[36m0:00:00\u001b[0m00:01\u001b[0m00:01\u001b[0m\n",
      "\u001b[?25hCollecting nvidia-cublas-cu11==11.10.3.66 (from torch)\n",
      "  Downloading nvidia_cublas_cu11-11.10.3.66-py3-none-manylinux1_x86_64.whl (317.1 MB)\n",
      "\u001b[2K     \u001b[90m━━━━━━━━━━━━━━━━━━━━━━━━━━━━━━━━━━━━━━━\u001b[0m \u001b[32m317.1/317.1 MB\u001b[0m \u001b[31m3.2 MB/s\u001b[0m eta \u001b[36m0:00:00\u001b[0m00:01\u001b[0m00:01\u001b[0m\n",
      "\u001b[?25hCollecting nvidia-cufft-cu11==10.9.0.58 (from torch)\n",
      "  Downloading nvidia_cufft_cu11-10.9.0.58-py3-none-manylinux1_x86_64.whl (168.4 MB)\n",
      "\u001b[2K     \u001b[90m━━━━━━━━━━━━━━━━━━━━━━━━━━━━━━━━━━━━━━━\u001b[0m \u001b[32m168.4/168.4 MB\u001b[0m \u001b[31m6.3 MB/s\u001b[0m eta \u001b[36m0:00:00\u001b[0m00:01\u001b[0m00:01\u001b[0m\n",
      "\u001b[?25hCollecting nvidia-curand-cu11==10.2.10.91 (from torch)\n",
      "  Downloading nvidia_curand_cu11-10.2.10.91-py3-none-manylinux1_x86_64.whl (54.6 MB)\n",
      "\u001b[2K     \u001b[90m━━━━━━━━━━━━━━━━━━━━━━━━━━━━━━━━━━━━━━━━\u001b[0m \u001b[32m54.6/54.6 MB\u001b[0m \u001b[31m22.1 MB/s\u001b[0m eta \u001b[36m0:00:00\u001b[0m00:01\u001b[0m00:01\u001b[0m\n",
      "\u001b[?25hCollecting nvidia-cusolver-cu11==11.4.0.1 (from torch)\n",
      "  Downloading nvidia_cusolver_cu11-11.4.0.1-2-py3-none-manylinux1_x86_64.whl (102.6 MB)\n",
      "\u001b[2K     \u001b[90m━━━━━━━━━━━━━━━━━━━━━━━━━━━━━━━━━━━━━━\u001b[0m \u001b[32m102.6/102.6 MB\u001b[0m \u001b[31m10.5 MB/s\u001b[0m eta \u001b[36m0:00:00\u001b[0m00:01\u001b[0m00:01\u001b[0m\n",
      "\u001b[?25hCollecting nvidia-cusparse-cu11==11.7.4.91 (from torch)\n",
      "  Downloading nvidia_cusparse_cu11-11.7.4.91-py3-none-manylinux1_x86_64.whl (173.2 MB)\n",
      "\u001b[2K     \u001b[90m━━━━━━━━━━━━━━━━━━━━━━━━━━━━━━━━━━━━━━━\u001b[0m \u001b[32m173.2/173.2 MB\u001b[0m \u001b[31m6.0 MB/s\u001b[0m eta \u001b[36m0:00:00\u001b[0m00:01\u001b[0m00:01\u001b[0m\n",
      "\u001b[?25hCollecting nvidia-nccl-cu11==2.14.3 (from torch)\n",
      "  Downloading nvidia_nccl_cu11-2.14.3-py3-none-manylinux1_x86_64.whl (177.1 MB)\n",
      "\u001b[2K     \u001b[90m━━━━━━━━━━━━━━━━━━━━━━━━━━━━━━━━━━━━━━━\u001b[0m \u001b[32m177.1/177.1 MB\u001b[0m \u001b[31m5.9 MB/s\u001b[0m eta \u001b[36m0:00:00\u001b[0m00:01\u001b[0m00:01\u001b[0m\n",
      "\u001b[?25hCollecting nvidia-nvtx-cu11==11.7.91 (from torch)\n",
      "  Downloading nvidia_nvtx_cu11-11.7.91-py3-none-manylinux1_x86_64.whl (98 kB)\n",
      "\u001b[2K     \u001b[90m━━━━━━━━━━━━━━━━━━━━━━━━━━━━━━━━━━━━━━━━\u001b[0m \u001b[32m98.6/98.6 kB\u001b[0m \u001b[31m10.9 MB/s\u001b[0m eta \u001b[36m0:00:00\u001b[0m\n",
      "\u001b[?25hCollecting triton==2.0.0 (from torch)\n",
      "  Downloading triton-2.0.0-1-cp310-cp310-manylinux2014_x86_64.manylinux_2_17_x86_64.whl (63.3 MB)\n",
      "\u001b[2K     \u001b[90m━━━━━━━━━━━━━━━━━━━━━━━━━━━━━━━━━━━━━━━━\u001b[0m \u001b[32m63.3/63.3 MB\u001b[0m \u001b[31m7.5 MB/s\u001b[0m eta \u001b[36m0:00:00\u001b[0m:00:01\u001b[0m00:01\u001b[0m\n",
      "\u001b[?25hRequirement already satisfied: setuptools in /opt/conda/lib/python3.10/site-packages (from nvidia-cublas-cu11==11.10.3.66->torch) (68.0.0)\n",
      "Requirement already satisfied: wheel in /opt/conda/lib/python3.10/site-packages (from nvidia-cublas-cu11==11.10.3.66->torch) (0.41.1)\n",
      "Collecting cmake (from triton==2.0.0->torch)\n",
      "  Obtaining dependency information for cmake from https://files.pythonhosted.org/packages/2e/51/3a4672a819b4532a378bfefad8f886cfe71057556e0d4eefb64523fd370a/cmake-3.27.2-py2.py3-none-manylinux2014_x86_64.manylinux_2_17_x86_64.whl.metadata\n",
      "  Downloading cmake-3.27.2-py2.py3-none-manylinux2014_x86_64.manylinux_2_17_x86_64.whl.metadata (6.7 kB)\n",
      "Collecting lit (from triton==2.0.0->torch)\n",
      "  Downloading lit-16.0.6.tar.gz (153 kB)\n",
      "\u001b[2K     \u001b[90m━━━━━━━━━━━━━━━━━━━━━━━━━━━━━━━━━━━━━━━\u001b[0m \u001b[32m153.7/153.7 kB\u001b[0m \u001b[31m2.7 MB/s\u001b[0m eta \u001b[36m0:00:00\u001b[0m00:01\u001b[0m\n",
      "\u001b[?25h  Installing build dependencies ... \u001b[?25ldone\n",
      "\u001b[?25h  Getting requirements to build wheel ... \u001b[?25ldone\n",
      "\u001b[?25h  Installing backend dependencies ... \u001b[?25ldone\n",
      "\u001b[?25h  Preparing metadata (pyproject.toml) ... \u001b[?25ldone\n",
      "\u001b[?25hRequirement already satisfied: numpy in /opt/conda/lib/python3.10/site-packages (from torchvision) (1.23.5)\n",
      "Requirement already satisfied: requests in /opt/conda/lib/python3.10/site-packages (from torchvision) (2.31.0)\n",
      "Requirement already satisfied: pillow!=8.3.*,>=5.3.0 in /opt/conda/lib/python3.10/site-packages (from torchvision) (10.0.0)\n",
      "Requirement already satisfied: MarkupSafe>=2.0 in /opt/conda/lib/python3.10/site-packages (from jinja2->torch) (2.1.3)\n",
      "Requirement already satisfied: charset-normalizer<4,>=2 in /opt/conda/lib/python3.10/site-packages (from requests->torchvision) (3.2.0)\n",
      "Requirement already satisfied: idna<4,>=2.5 in /opt/conda/lib/python3.10/site-packages (from requests->torchvision) (3.4)\n",
      "Requirement already satisfied: urllib3<3,>=1.21.1 in /opt/conda/lib/python3.10/site-packages (from requests->torchvision) (1.26.16)\n",
      "Requirement already satisfied: certifi>=2017.4.17 in /opt/conda/lib/python3.10/site-packages (from requests->torchvision) (2023.7.22)\n",
      "Collecting mpmath>=0.19 (from sympy->torch)\n",
      "  Downloading mpmath-1.3.0-py3-none-any.whl (536 kB)\n",
      "\u001b[2K     \u001b[90m━━━━━━━━━━━━━━━━━━━━━━━━━━━━━━━━━━━━━━\u001b[0m \u001b[32m536.2/536.2 kB\u001b[0m \u001b[31m39.9 MB/s\u001b[0m eta \u001b[36m0:00:00\u001b[0m\n",
      "\u001b[?25hDownloading cmake-3.27.2-py2.py3-none-manylinux2014_x86_64.manylinux_2_17_x86_64.whl (26.1 MB)\n",
      "\u001b[2K   \u001b[90m━━━━━━━━━━━━━━━━━━━━━━━━━━━━━━━━━━━━━━━━\u001b[0m \u001b[32m26.1/26.1 MB\u001b[0m \u001b[31m57.4 MB/s\u001b[0m eta \u001b[36m0:00:00\u001b[0m:00:01\u001b[0m00:01\u001b[0m\n",
      "\u001b[?25hBuilding wheels for collected packages: lit\n",
      "  Building wheel for lit (pyproject.toml) ... \u001b[?25ldone\n",
      "\u001b[?25h  Created wheel for lit: filename=lit-16.0.6-py3-none-any.whl size=93583 sha256=878c9fba924b9cf9732f9455740f71f579109d0adab0d381321e93043e0e4c88\n",
      "  Stored in directory: /home/jupyter/.cache/pip/wheels/14/f9/07/bb2308587bc2f57158f905a2325f6a89a2befa7437b2d7e137\n",
      "Successfully built lit\n",
      "\u001b[33mWARNING: Ignoring invalid distribution -oogle-cloud-datastore (/opt/conda/lib/python3.10/site-packages)\u001b[0m\u001b[33m\n",
      "\u001b[0mInstalling collected packages: mpmath, lit, cmake, sympy, nvidia-nvtx-cu11, nvidia-nccl-cu11, nvidia-cusparse-cu11, nvidia-curand-cu11, nvidia-cufft-cu11, nvidia-cuda-runtime-cu11, nvidia-cuda-nvrtc-cu11, nvidia-cuda-cupti-cu11, nvidia-cublas-cu11, nvidia-cusolver-cu11, nvidia-cudnn-cu11, triton, torch, torchvision, torchaudio\n",
      "Successfully installed cmake-3.27.2 lit-16.0.6 mpmath-1.3.0 nvidia-cublas-cu11-11.10.3.66 nvidia-cuda-cupti-cu11-11.7.101 nvidia-cuda-nvrtc-cu11-11.7.99 nvidia-cuda-runtime-cu11-11.7.99 nvidia-cudnn-cu11-8.5.0.96 nvidia-cufft-cu11-10.9.0.58 nvidia-curand-cu11-10.2.10.91 nvidia-cusolver-cu11-11.4.0.1 nvidia-cusparse-cu11-11.7.4.91 nvidia-nccl-cu11-2.14.3 nvidia-nvtx-cu11-11.7.91 sympy-1.12 torch-2.0.1 torchaudio-2.0.2 torchvision-0.15.2 triton-2.0.0\n"
     ]
    }
   ],
   "source": [
    "!pip install torch torchvision torchaudio\n"
   ]
  },
  {
   "cell_type": "code",
   "execution_count": 1,
   "id": "a36ebd68-0df5-49c2-beb2-26a014b17c83",
   "metadata": {},
   "outputs": [
    {
     "data": {
      "application/vnd.jupyter.widget-view+json": {
       "model_id": "dfcba9a74c1944159b4fefe519ab01c0",
       "version_major": 2,
       "version_minor": 0
      },
      "text/plain": [
       "Downloading model.safetensors:   0%|          | 0.00/440M [00:00<?, ?B/s]"
      ]
     },
     "metadata": {},
     "output_type": "display_data"
    },
    {
     "name": "stderr",
     "output_type": "stream",
     "text": [
      "Some weights of BertForSequenceClassification were not initialized from the model checkpoint at bert-base-uncased and are newly initialized: ['classifier.bias', 'classifier.weight']\n",
      "You should probably TRAIN this model on a down-stream task to be able to use it for predictions and inference.\n"
     ]
    }
   ],
   "source": [
    "from transformers import BertTokenizer, BertForSequenceClassification\n",
    "\n",
    "PRE_TRAINED_MODEL_NAME = 'bert-base-uncased'\n",
    "tokenizer = BertTokenizer.from_pretrained(PRE_TRAINED_MODEL_NAME)\n",
    "model = BertForSequenceClassification.from_pretrained(PRE_TRAINED_MODEL_NAME)"
   ]
  },
  {
   "cell_type": "code",
   "execution_count": null,
   "id": "d4796be5-4596-4c1b-baf2-f6fbd29deb1d",
   "metadata": {},
   "outputs": [],
   "source": [
    "#MODELO IMPORTADO BERT"
   ]
  },
  {
   "cell_type": "code",
   "execution_count": 45,
   "id": "ba94070c-de6b-4da5-b8b5-be66cb6d5a58",
   "metadata": {},
   "outputs": [
    {
     "data": {
      "text/plain": [
       "['bert_model.joblib']"
      ]
     },
     "execution_count": 45,
     "metadata": {},
     "output_type": "execute_result"
    }
   ],
   "source": [
    "import joblib\n",
    "from transformers import pipeline\n",
    "\n",
    "# Crear la tubería\n",
    "pipe = pipeline(\"text-classification\", model=\"MarieAngeA13/Sentiment-Analysis-BERT\")\n",
    "\n",
    "# Guardar la tubería en un archivo\n",
    "joblib.dump(pipe, \"bert_model.joblib\")"
   ]
  },
  {
   "cell_type": "code",
   "execution_count": 62,
   "id": "f6a61cb0-c139-4bc1-98be-918bbbe9be1d",
   "metadata": {},
   "outputs": [
    {
     "name": "stdout",
     "output_type": "stream",
     "text": [
      "Sentimiento: positive\n",
      "Confianza: 0.9611210823059082\n"
     ]
    }
   ],
   "source": [
    "import joblib\n",
    "\n",
    "\n",
    "loaded_pipe = joblib.load(\"bert_model.joblib\")\n",
    "\n",
    "\n",
    "#text_to_analyze = \"The food was more or less, the attention should be faster\"\n",
    "#text_to_analyze = \"The attention was not so good they took time to serve me\"\n",
    "text_to_analyze = \"The menu was very varied and the food was very good.\"\n",
    "\n",
    "result = loaded_pipe(text_to_analyze)\n",
    "sentiment = result[0]['label']\n",
    "confidence = result[0]['score']\n",
    "\n",
    "print(\"Sentimiento:\", sentiment)\n",
    "print(\"Confianza:\", confidence)"
   ]
  },
  {
   "cell_type": "code",
   "execution_count": null,
   "id": "f7346825-d836-4468-afb8-93aebf123cd3",
   "metadata": {},
   "outputs": [],
   "source": []
  }
 ],
 "metadata": {
  "environment": {
   "kernel": "python3",
   "name": "common-cpu.m110",
   "type": "gcloud",
   "uri": "gcr.io/deeplearning-platform-release/base-cpu:m110"
  },
  "kernelspec": {
   "display_name": "Python 3",
   "language": "python",
   "name": "python3"
  },
  "language_info": {
   "codemirror_mode": {
    "name": "ipython",
    "version": 3
   },
   "file_extension": ".py",
   "mimetype": "text/x-python",
   "name": "python",
   "nbconvert_exporter": "python",
   "pygments_lexer": "ipython3",
   "version": "3.10.12"
  }
 },
 "nbformat": 4,
 "nbformat_minor": 5
}
