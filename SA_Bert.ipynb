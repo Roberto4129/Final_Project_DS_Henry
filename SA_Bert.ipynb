{
  "nbformat": 4,
  "nbformat_minor": 0,
  "metadata": {
    "colab": {
      "provenance": []
    },
    "kernelspec": {
      "name": "python3",
      "display_name": "Python 3"
    },
    "accelerator": "GPU",
    "widgets": {
      "application/vnd.jupyter.widget-state+json": {
        "a4e8206a70f74211836623385fc85f40": {
          "model_module": "@jupyter-widgets/controls",
          "model_name": "HBoxModel",
          "model_module_version": "1.5.0",
          "state": {
            "_dom_classes": [],
            "_model_module": "@jupyter-widgets/controls",
            "_model_module_version": "1.5.0",
            "_model_name": "HBoxModel",
            "_view_count": null,
            "_view_module": "@jupyter-widgets/controls",
            "_view_module_version": "1.5.0",
            "_view_name": "HBoxView",
            "box_style": "",
            "children": [
              "IPY_MODEL_049b1ba76d84482191f3a8c7ca8b6c9e",
              "IPY_MODEL_b4b5c137c1ee4a498d58939a000734f9",
              "IPY_MODEL_e6114cc97fad47c08c98aa6aae08dbd4"
            ],
            "layout": "IPY_MODEL_0a4df8d4c0b64207a348f4c81c226b48"
          }
        },
        "049b1ba76d84482191f3a8c7ca8b6c9e": {
          "model_module": "@jupyter-widgets/controls",
          "model_name": "HTMLModel",
          "model_module_version": "1.5.0",
          "state": {
            "_dom_classes": [],
            "_model_module": "@jupyter-widgets/controls",
            "_model_module_version": "1.5.0",
            "_model_name": "HTMLModel",
            "_view_count": null,
            "_view_module": "@jupyter-widgets/controls",
            "_view_module_version": "1.5.0",
            "_view_name": "HTMLView",
            "description": "",
            "description_tooltip": null,
            "layout": "IPY_MODEL_87b68251d69f41028355f1324f1a106b",
            "placeholder": "​",
            "style": "IPY_MODEL_bd8709feadb54209839e7a6597c9f018",
            "value": "Downloading (…)solve/main/vocab.txt: 100%"
          }
        },
        "b4b5c137c1ee4a498d58939a000734f9": {
          "model_module": "@jupyter-widgets/controls",
          "model_name": "FloatProgressModel",
          "model_module_version": "1.5.0",
          "state": {
            "_dom_classes": [],
            "_model_module": "@jupyter-widgets/controls",
            "_model_module_version": "1.5.0",
            "_model_name": "FloatProgressModel",
            "_view_count": null,
            "_view_module": "@jupyter-widgets/controls",
            "_view_module_version": "1.5.0",
            "_view_name": "ProgressView",
            "bar_style": "success",
            "description": "",
            "description_tooltip": null,
            "layout": "IPY_MODEL_5ae1c329b65e4f92ac2f27ed4ebfadb9",
            "max": 231508,
            "min": 0,
            "orientation": "horizontal",
            "style": "IPY_MODEL_795fc0d720a247b79f25709a2be50542",
            "value": 231508
          }
        },
        "e6114cc97fad47c08c98aa6aae08dbd4": {
          "model_module": "@jupyter-widgets/controls",
          "model_name": "HTMLModel",
          "model_module_version": "1.5.0",
          "state": {
            "_dom_classes": [],
            "_model_module": "@jupyter-widgets/controls",
            "_model_module_version": "1.5.0",
            "_model_name": "HTMLModel",
            "_view_count": null,
            "_view_module": "@jupyter-widgets/controls",
            "_view_module_version": "1.5.0",
            "_view_name": "HTMLView",
            "description": "",
            "description_tooltip": null,
            "layout": "IPY_MODEL_b9b9a2a9531a4248be27c8ad02d3a97c",
            "placeholder": "​",
            "style": "IPY_MODEL_4cbc37d43ff140e7848bd15c770f3418",
            "value": " 232k/232k [00:00&lt;00:00, 8.03MB/s]"
          }
        },
        "0a4df8d4c0b64207a348f4c81c226b48": {
          "model_module": "@jupyter-widgets/base",
          "model_name": "LayoutModel",
          "model_module_version": "1.2.0",
          "state": {
            "_model_module": "@jupyter-widgets/base",
            "_model_module_version": "1.2.0",
            "_model_name": "LayoutModel",
            "_view_count": null,
            "_view_module": "@jupyter-widgets/base",
            "_view_module_version": "1.2.0",
            "_view_name": "LayoutView",
            "align_content": null,
            "align_items": null,
            "align_self": null,
            "border": null,
            "bottom": null,
            "display": null,
            "flex": null,
            "flex_flow": null,
            "grid_area": null,
            "grid_auto_columns": null,
            "grid_auto_flow": null,
            "grid_auto_rows": null,
            "grid_column": null,
            "grid_gap": null,
            "grid_row": null,
            "grid_template_areas": null,
            "grid_template_columns": null,
            "grid_template_rows": null,
            "height": null,
            "justify_content": null,
            "justify_items": null,
            "left": null,
            "margin": null,
            "max_height": null,
            "max_width": null,
            "min_height": null,
            "min_width": null,
            "object_fit": null,
            "object_position": null,
            "order": null,
            "overflow": null,
            "overflow_x": null,
            "overflow_y": null,
            "padding": null,
            "right": null,
            "top": null,
            "visibility": null,
            "width": null
          }
        },
        "87b68251d69f41028355f1324f1a106b": {
          "model_module": "@jupyter-widgets/base",
          "model_name": "LayoutModel",
          "model_module_version": "1.2.0",
          "state": {
            "_model_module": "@jupyter-widgets/base",
            "_model_module_version": "1.2.0",
            "_model_name": "LayoutModel",
            "_view_count": null,
            "_view_module": "@jupyter-widgets/base",
            "_view_module_version": "1.2.0",
            "_view_name": "LayoutView",
            "align_content": null,
            "align_items": null,
            "align_self": null,
            "border": null,
            "bottom": null,
            "display": null,
            "flex": null,
            "flex_flow": null,
            "grid_area": null,
            "grid_auto_columns": null,
            "grid_auto_flow": null,
            "grid_auto_rows": null,
            "grid_column": null,
            "grid_gap": null,
            "grid_row": null,
            "grid_template_areas": null,
            "grid_template_columns": null,
            "grid_template_rows": null,
            "height": null,
            "justify_content": null,
            "justify_items": null,
            "left": null,
            "margin": null,
            "max_height": null,
            "max_width": null,
            "min_height": null,
            "min_width": null,
            "object_fit": null,
            "object_position": null,
            "order": null,
            "overflow": null,
            "overflow_x": null,
            "overflow_y": null,
            "padding": null,
            "right": null,
            "top": null,
            "visibility": null,
            "width": null
          }
        },
        "bd8709feadb54209839e7a6597c9f018": {
          "model_module": "@jupyter-widgets/controls",
          "model_name": "DescriptionStyleModel",
          "model_module_version": "1.5.0",
          "state": {
            "_model_module": "@jupyter-widgets/controls",
            "_model_module_version": "1.5.0",
            "_model_name": "DescriptionStyleModel",
            "_view_count": null,
            "_view_module": "@jupyter-widgets/base",
            "_view_module_version": "1.2.0",
            "_view_name": "StyleView",
            "description_width": ""
          }
        },
        "5ae1c329b65e4f92ac2f27ed4ebfadb9": {
          "model_module": "@jupyter-widgets/base",
          "model_name": "LayoutModel",
          "model_module_version": "1.2.0",
          "state": {
            "_model_module": "@jupyter-widgets/base",
            "_model_module_version": "1.2.0",
            "_model_name": "LayoutModel",
            "_view_count": null,
            "_view_module": "@jupyter-widgets/base",
            "_view_module_version": "1.2.0",
            "_view_name": "LayoutView",
            "align_content": null,
            "align_items": null,
            "align_self": null,
            "border": null,
            "bottom": null,
            "display": null,
            "flex": null,
            "flex_flow": null,
            "grid_area": null,
            "grid_auto_columns": null,
            "grid_auto_flow": null,
            "grid_auto_rows": null,
            "grid_column": null,
            "grid_gap": null,
            "grid_row": null,
            "grid_template_areas": null,
            "grid_template_columns": null,
            "grid_template_rows": null,
            "height": null,
            "justify_content": null,
            "justify_items": null,
            "left": null,
            "margin": null,
            "max_height": null,
            "max_width": null,
            "min_height": null,
            "min_width": null,
            "object_fit": null,
            "object_position": null,
            "order": null,
            "overflow": null,
            "overflow_x": null,
            "overflow_y": null,
            "padding": null,
            "right": null,
            "top": null,
            "visibility": null,
            "width": null
          }
        },
        "795fc0d720a247b79f25709a2be50542": {
          "model_module": "@jupyter-widgets/controls",
          "model_name": "ProgressStyleModel",
          "model_module_version": "1.5.0",
          "state": {
            "_model_module": "@jupyter-widgets/controls",
            "_model_module_version": "1.5.0",
            "_model_name": "ProgressStyleModel",
            "_view_count": null,
            "_view_module": "@jupyter-widgets/base",
            "_view_module_version": "1.2.0",
            "_view_name": "StyleView",
            "bar_color": null,
            "description_width": ""
          }
        },
        "b9b9a2a9531a4248be27c8ad02d3a97c": {
          "model_module": "@jupyter-widgets/base",
          "model_name": "LayoutModel",
          "model_module_version": "1.2.0",
          "state": {
            "_model_module": "@jupyter-widgets/base",
            "_model_module_version": "1.2.0",
            "_model_name": "LayoutModel",
            "_view_count": null,
            "_view_module": "@jupyter-widgets/base",
            "_view_module_version": "1.2.0",
            "_view_name": "LayoutView",
            "align_content": null,
            "align_items": null,
            "align_self": null,
            "border": null,
            "bottom": null,
            "display": null,
            "flex": null,
            "flex_flow": null,
            "grid_area": null,
            "grid_auto_columns": null,
            "grid_auto_flow": null,
            "grid_auto_rows": null,
            "grid_column": null,
            "grid_gap": null,
            "grid_row": null,
            "grid_template_areas": null,
            "grid_template_columns": null,
            "grid_template_rows": null,
            "height": null,
            "justify_content": null,
            "justify_items": null,
            "left": null,
            "margin": null,
            "max_height": null,
            "max_width": null,
            "min_height": null,
            "min_width": null,
            "object_fit": null,
            "object_position": null,
            "order": null,
            "overflow": null,
            "overflow_x": null,
            "overflow_y": null,
            "padding": null,
            "right": null,
            "top": null,
            "visibility": null,
            "width": null
          }
        },
        "4cbc37d43ff140e7848bd15c770f3418": {
          "model_module": "@jupyter-widgets/controls",
          "model_name": "DescriptionStyleModel",
          "model_module_version": "1.5.0",
          "state": {
            "_model_module": "@jupyter-widgets/controls",
            "_model_module_version": "1.5.0",
            "_model_name": "DescriptionStyleModel",
            "_view_count": null,
            "_view_module": "@jupyter-widgets/base",
            "_view_module_version": "1.2.0",
            "_view_name": "StyleView",
            "description_width": ""
          }
        },
        "edd4fdb3957245a8adbcc27a9484dbdc": {
          "model_module": "@jupyter-widgets/controls",
          "model_name": "HBoxModel",
          "model_module_version": "1.5.0",
          "state": {
            "_dom_classes": [],
            "_model_module": "@jupyter-widgets/controls",
            "_model_module_version": "1.5.0",
            "_model_name": "HBoxModel",
            "_view_count": null,
            "_view_module": "@jupyter-widgets/controls",
            "_view_module_version": "1.5.0",
            "_view_name": "HBoxView",
            "box_style": "",
            "children": [
              "IPY_MODEL_98b9a2fa791f4e66aac003de952df072",
              "IPY_MODEL_303e7e2a81214ef3bbe7a60c1dcf8723",
              "IPY_MODEL_a775f0ccbdbf4482bbbfc9d63cde0184"
            ],
            "layout": "IPY_MODEL_eedacbb4c5a64717a29e3d0cdf136eb4"
          }
        },
        "98b9a2fa791f4e66aac003de952df072": {
          "model_module": "@jupyter-widgets/controls",
          "model_name": "HTMLModel",
          "model_module_version": "1.5.0",
          "state": {
            "_dom_classes": [],
            "_model_module": "@jupyter-widgets/controls",
            "_model_module_version": "1.5.0",
            "_model_name": "HTMLModel",
            "_view_count": null,
            "_view_module": "@jupyter-widgets/controls",
            "_view_module_version": "1.5.0",
            "_view_name": "HTMLView",
            "description": "",
            "description_tooltip": null,
            "layout": "IPY_MODEL_6f3d67d859bc4f94a2f852e469b8d90c",
            "placeholder": "​",
            "style": "IPY_MODEL_e6aaf4b3275248b894333c0f58ea3db1",
            "value": "Downloading (…)okenizer_config.json: 100%"
          }
        },
        "303e7e2a81214ef3bbe7a60c1dcf8723": {
          "model_module": "@jupyter-widgets/controls",
          "model_name": "FloatProgressModel",
          "model_module_version": "1.5.0",
          "state": {
            "_dom_classes": [],
            "_model_module": "@jupyter-widgets/controls",
            "_model_module_version": "1.5.0",
            "_model_name": "FloatProgressModel",
            "_view_count": null,
            "_view_module": "@jupyter-widgets/controls",
            "_view_module_version": "1.5.0",
            "_view_name": "ProgressView",
            "bar_style": "success",
            "description": "",
            "description_tooltip": null,
            "layout": "IPY_MODEL_6172f95166954f758a7ca046b55905a1",
            "max": 28,
            "min": 0,
            "orientation": "horizontal",
            "style": "IPY_MODEL_634982351454483e80921bb41c8c6534",
            "value": 28
          }
        },
        "a775f0ccbdbf4482bbbfc9d63cde0184": {
          "model_module": "@jupyter-widgets/controls",
          "model_name": "HTMLModel",
          "model_module_version": "1.5.0",
          "state": {
            "_dom_classes": [],
            "_model_module": "@jupyter-widgets/controls",
            "_model_module_version": "1.5.0",
            "_model_name": "HTMLModel",
            "_view_count": null,
            "_view_module": "@jupyter-widgets/controls",
            "_view_module_version": "1.5.0",
            "_view_name": "HTMLView",
            "description": "",
            "description_tooltip": null,
            "layout": "IPY_MODEL_eb171c4d840147a7964ce905ebeee764",
            "placeholder": "​",
            "style": "IPY_MODEL_208553706ccb43a789bcd533936daf76",
            "value": " 28.0/28.0 [00:00&lt;00:00, 1.68kB/s]"
          }
        },
        "eedacbb4c5a64717a29e3d0cdf136eb4": {
          "model_module": "@jupyter-widgets/base",
          "model_name": "LayoutModel",
          "model_module_version": "1.2.0",
          "state": {
            "_model_module": "@jupyter-widgets/base",
            "_model_module_version": "1.2.0",
            "_model_name": "LayoutModel",
            "_view_count": null,
            "_view_module": "@jupyter-widgets/base",
            "_view_module_version": "1.2.0",
            "_view_name": "LayoutView",
            "align_content": null,
            "align_items": null,
            "align_self": null,
            "border": null,
            "bottom": null,
            "display": null,
            "flex": null,
            "flex_flow": null,
            "grid_area": null,
            "grid_auto_columns": null,
            "grid_auto_flow": null,
            "grid_auto_rows": null,
            "grid_column": null,
            "grid_gap": null,
            "grid_row": null,
            "grid_template_areas": null,
            "grid_template_columns": null,
            "grid_template_rows": null,
            "height": null,
            "justify_content": null,
            "justify_items": null,
            "left": null,
            "margin": null,
            "max_height": null,
            "max_width": null,
            "min_height": null,
            "min_width": null,
            "object_fit": null,
            "object_position": null,
            "order": null,
            "overflow": null,
            "overflow_x": null,
            "overflow_y": null,
            "padding": null,
            "right": null,
            "top": null,
            "visibility": null,
            "width": null
          }
        },
        "6f3d67d859bc4f94a2f852e469b8d90c": {
          "model_module": "@jupyter-widgets/base",
          "model_name": "LayoutModel",
          "model_module_version": "1.2.0",
          "state": {
            "_model_module": "@jupyter-widgets/base",
            "_model_module_version": "1.2.0",
            "_model_name": "LayoutModel",
            "_view_count": null,
            "_view_module": "@jupyter-widgets/base",
            "_view_module_version": "1.2.0",
            "_view_name": "LayoutView",
            "align_content": null,
            "align_items": null,
            "align_self": null,
            "border": null,
            "bottom": null,
            "display": null,
            "flex": null,
            "flex_flow": null,
            "grid_area": null,
            "grid_auto_columns": null,
            "grid_auto_flow": null,
            "grid_auto_rows": null,
            "grid_column": null,
            "grid_gap": null,
            "grid_row": null,
            "grid_template_areas": null,
            "grid_template_columns": null,
            "grid_template_rows": null,
            "height": null,
            "justify_content": null,
            "justify_items": null,
            "left": null,
            "margin": null,
            "max_height": null,
            "max_width": null,
            "min_height": null,
            "min_width": null,
            "object_fit": null,
            "object_position": null,
            "order": null,
            "overflow": null,
            "overflow_x": null,
            "overflow_y": null,
            "padding": null,
            "right": null,
            "top": null,
            "visibility": null,
            "width": null
          }
        },
        "e6aaf4b3275248b894333c0f58ea3db1": {
          "model_module": "@jupyter-widgets/controls",
          "model_name": "DescriptionStyleModel",
          "model_module_version": "1.5.0",
          "state": {
            "_model_module": "@jupyter-widgets/controls",
            "_model_module_version": "1.5.0",
            "_model_name": "DescriptionStyleModel",
            "_view_count": null,
            "_view_module": "@jupyter-widgets/base",
            "_view_module_version": "1.2.0",
            "_view_name": "StyleView",
            "description_width": ""
          }
        },
        "6172f95166954f758a7ca046b55905a1": {
          "model_module": "@jupyter-widgets/base",
          "model_name": "LayoutModel",
          "model_module_version": "1.2.0",
          "state": {
            "_model_module": "@jupyter-widgets/base",
            "_model_module_version": "1.2.0",
            "_model_name": "LayoutModel",
            "_view_count": null,
            "_view_module": "@jupyter-widgets/base",
            "_view_module_version": "1.2.0",
            "_view_name": "LayoutView",
            "align_content": null,
            "align_items": null,
            "align_self": null,
            "border": null,
            "bottom": null,
            "display": null,
            "flex": null,
            "flex_flow": null,
            "grid_area": null,
            "grid_auto_columns": null,
            "grid_auto_flow": null,
            "grid_auto_rows": null,
            "grid_column": null,
            "grid_gap": null,
            "grid_row": null,
            "grid_template_areas": null,
            "grid_template_columns": null,
            "grid_template_rows": null,
            "height": null,
            "justify_content": null,
            "justify_items": null,
            "left": null,
            "margin": null,
            "max_height": null,
            "max_width": null,
            "min_height": null,
            "min_width": null,
            "object_fit": null,
            "object_position": null,
            "order": null,
            "overflow": null,
            "overflow_x": null,
            "overflow_y": null,
            "padding": null,
            "right": null,
            "top": null,
            "visibility": null,
            "width": null
          }
        },
        "634982351454483e80921bb41c8c6534": {
          "model_module": "@jupyter-widgets/controls",
          "model_name": "ProgressStyleModel",
          "model_module_version": "1.5.0",
          "state": {
            "_model_module": "@jupyter-widgets/controls",
            "_model_module_version": "1.5.0",
            "_model_name": "ProgressStyleModel",
            "_view_count": null,
            "_view_module": "@jupyter-widgets/base",
            "_view_module_version": "1.2.0",
            "_view_name": "StyleView",
            "bar_color": null,
            "description_width": ""
          }
        },
        "eb171c4d840147a7964ce905ebeee764": {
          "model_module": "@jupyter-widgets/base",
          "model_name": "LayoutModel",
          "model_module_version": "1.2.0",
          "state": {
            "_model_module": "@jupyter-widgets/base",
            "_model_module_version": "1.2.0",
            "_model_name": "LayoutModel",
            "_view_count": null,
            "_view_module": "@jupyter-widgets/base",
            "_view_module_version": "1.2.0",
            "_view_name": "LayoutView",
            "align_content": null,
            "align_items": null,
            "align_self": null,
            "border": null,
            "bottom": null,
            "display": null,
            "flex": null,
            "flex_flow": null,
            "grid_area": null,
            "grid_auto_columns": null,
            "grid_auto_flow": null,
            "grid_auto_rows": null,
            "grid_column": null,
            "grid_gap": null,
            "grid_row": null,
            "grid_template_areas": null,
            "grid_template_columns": null,
            "grid_template_rows": null,
            "height": null,
            "justify_content": null,
            "justify_items": null,
            "left": null,
            "margin": null,
            "max_height": null,
            "max_width": null,
            "min_height": null,
            "min_width": null,
            "object_fit": null,
            "object_position": null,
            "order": null,
            "overflow": null,
            "overflow_x": null,
            "overflow_y": null,
            "padding": null,
            "right": null,
            "top": null,
            "visibility": null,
            "width": null
          }
        },
        "208553706ccb43a789bcd533936daf76": {
          "model_module": "@jupyter-widgets/controls",
          "model_name": "DescriptionStyleModel",
          "model_module_version": "1.5.0",
          "state": {
            "_model_module": "@jupyter-widgets/controls",
            "_model_module_version": "1.5.0",
            "_model_name": "DescriptionStyleModel",
            "_view_count": null,
            "_view_module": "@jupyter-widgets/base",
            "_view_module_version": "1.2.0",
            "_view_name": "StyleView",
            "description_width": ""
          }
        },
        "88aaddaf54a640a6b7dc6b44448b317f": {
          "model_module": "@jupyter-widgets/controls",
          "model_name": "HBoxModel",
          "model_module_version": "1.5.0",
          "state": {
            "_dom_classes": [],
            "_model_module": "@jupyter-widgets/controls",
            "_model_module_version": "1.5.0",
            "_model_name": "HBoxModel",
            "_view_count": null,
            "_view_module": "@jupyter-widgets/controls",
            "_view_module_version": "1.5.0",
            "_view_name": "HBoxView",
            "box_style": "",
            "children": [
              "IPY_MODEL_46d92cda97264e049d488e7efa0ccd9d",
              "IPY_MODEL_f748e69766564ddd807a85de508cedf6",
              "IPY_MODEL_66ba262587344651a65cdc77ef4d9785"
            ],
            "layout": "IPY_MODEL_845d79d16c1545c2815af291e0355fde"
          }
        },
        "46d92cda97264e049d488e7efa0ccd9d": {
          "model_module": "@jupyter-widgets/controls",
          "model_name": "HTMLModel",
          "model_module_version": "1.5.0",
          "state": {
            "_dom_classes": [],
            "_model_module": "@jupyter-widgets/controls",
            "_model_module_version": "1.5.0",
            "_model_name": "HTMLModel",
            "_view_count": null,
            "_view_module": "@jupyter-widgets/controls",
            "_view_module_version": "1.5.0",
            "_view_name": "HTMLView",
            "description": "",
            "description_tooltip": null,
            "layout": "IPY_MODEL_871dcd131d544eb1a0a138f25dcfbe3f",
            "placeholder": "​",
            "style": "IPY_MODEL_6f10af44fbe54b94b10479d44a82366c",
            "value": "Downloading (…)lve/main/config.json: 100%"
          }
        },
        "f748e69766564ddd807a85de508cedf6": {
          "model_module": "@jupyter-widgets/controls",
          "model_name": "FloatProgressModel",
          "model_module_version": "1.5.0",
          "state": {
            "_dom_classes": [],
            "_model_module": "@jupyter-widgets/controls",
            "_model_module_version": "1.5.0",
            "_model_name": "FloatProgressModel",
            "_view_count": null,
            "_view_module": "@jupyter-widgets/controls",
            "_view_module_version": "1.5.0",
            "_view_name": "ProgressView",
            "bar_style": "success",
            "description": "",
            "description_tooltip": null,
            "layout": "IPY_MODEL_a9935a7c232b4d00a8d637144fe7743e",
            "max": 570,
            "min": 0,
            "orientation": "horizontal",
            "style": "IPY_MODEL_77009fdab36c426fbf3e21ef828cd25b",
            "value": 570
          }
        },
        "66ba262587344651a65cdc77ef4d9785": {
          "model_module": "@jupyter-widgets/controls",
          "model_name": "HTMLModel",
          "model_module_version": "1.5.0",
          "state": {
            "_dom_classes": [],
            "_model_module": "@jupyter-widgets/controls",
            "_model_module_version": "1.5.0",
            "_model_name": "HTMLModel",
            "_view_count": null,
            "_view_module": "@jupyter-widgets/controls",
            "_view_module_version": "1.5.0",
            "_view_name": "HTMLView",
            "description": "",
            "description_tooltip": null,
            "layout": "IPY_MODEL_938e2260efcf4db9bb147d6a5186e14a",
            "placeholder": "​",
            "style": "IPY_MODEL_fd900ae92c274e78abfdc5c3a7e1ed3b",
            "value": " 570/570 [00:00&lt;00:00, 40.6kB/s]"
          }
        },
        "845d79d16c1545c2815af291e0355fde": {
          "model_module": "@jupyter-widgets/base",
          "model_name": "LayoutModel",
          "model_module_version": "1.2.0",
          "state": {
            "_model_module": "@jupyter-widgets/base",
            "_model_module_version": "1.2.0",
            "_model_name": "LayoutModel",
            "_view_count": null,
            "_view_module": "@jupyter-widgets/base",
            "_view_module_version": "1.2.0",
            "_view_name": "LayoutView",
            "align_content": null,
            "align_items": null,
            "align_self": null,
            "border": null,
            "bottom": null,
            "display": null,
            "flex": null,
            "flex_flow": null,
            "grid_area": null,
            "grid_auto_columns": null,
            "grid_auto_flow": null,
            "grid_auto_rows": null,
            "grid_column": null,
            "grid_gap": null,
            "grid_row": null,
            "grid_template_areas": null,
            "grid_template_columns": null,
            "grid_template_rows": null,
            "height": null,
            "justify_content": null,
            "justify_items": null,
            "left": null,
            "margin": null,
            "max_height": null,
            "max_width": null,
            "min_height": null,
            "min_width": null,
            "object_fit": null,
            "object_position": null,
            "order": null,
            "overflow": null,
            "overflow_x": null,
            "overflow_y": null,
            "padding": null,
            "right": null,
            "top": null,
            "visibility": null,
            "width": null
          }
        },
        "871dcd131d544eb1a0a138f25dcfbe3f": {
          "model_module": "@jupyter-widgets/base",
          "model_name": "LayoutModel",
          "model_module_version": "1.2.0",
          "state": {
            "_model_module": "@jupyter-widgets/base",
            "_model_module_version": "1.2.0",
            "_model_name": "LayoutModel",
            "_view_count": null,
            "_view_module": "@jupyter-widgets/base",
            "_view_module_version": "1.2.0",
            "_view_name": "LayoutView",
            "align_content": null,
            "align_items": null,
            "align_self": null,
            "border": null,
            "bottom": null,
            "display": null,
            "flex": null,
            "flex_flow": null,
            "grid_area": null,
            "grid_auto_columns": null,
            "grid_auto_flow": null,
            "grid_auto_rows": null,
            "grid_column": null,
            "grid_gap": null,
            "grid_row": null,
            "grid_template_areas": null,
            "grid_template_columns": null,
            "grid_template_rows": null,
            "height": null,
            "justify_content": null,
            "justify_items": null,
            "left": null,
            "margin": null,
            "max_height": null,
            "max_width": null,
            "min_height": null,
            "min_width": null,
            "object_fit": null,
            "object_position": null,
            "order": null,
            "overflow": null,
            "overflow_x": null,
            "overflow_y": null,
            "padding": null,
            "right": null,
            "top": null,
            "visibility": null,
            "width": null
          }
        },
        "6f10af44fbe54b94b10479d44a82366c": {
          "model_module": "@jupyter-widgets/controls",
          "model_name": "DescriptionStyleModel",
          "model_module_version": "1.5.0",
          "state": {
            "_model_module": "@jupyter-widgets/controls",
            "_model_module_version": "1.5.0",
            "_model_name": "DescriptionStyleModel",
            "_view_count": null,
            "_view_module": "@jupyter-widgets/base",
            "_view_module_version": "1.2.0",
            "_view_name": "StyleView",
            "description_width": ""
          }
        },
        "a9935a7c232b4d00a8d637144fe7743e": {
          "model_module": "@jupyter-widgets/base",
          "model_name": "LayoutModel",
          "model_module_version": "1.2.0",
          "state": {
            "_model_module": "@jupyter-widgets/base",
            "_model_module_version": "1.2.0",
            "_model_name": "LayoutModel",
            "_view_count": null,
            "_view_module": "@jupyter-widgets/base",
            "_view_module_version": "1.2.0",
            "_view_name": "LayoutView",
            "align_content": null,
            "align_items": null,
            "align_self": null,
            "border": null,
            "bottom": null,
            "display": null,
            "flex": null,
            "flex_flow": null,
            "grid_area": null,
            "grid_auto_columns": null,
            "grid_auto_flow": null,
            "grid_auto_rows": null,
            "grid_column": null,
            "grid_gap": null,
            "grid_row": null,
            "grid_template_areas": null,
            "grid_template_columns": null,
            "grid_template_rows": null,
            "height": null,
            "justify_content": null,
            "justify_items": null,
            "left": null,
            "margin": null,
            "max_height": null,
            "max_width": null,
            "min_height": null,
            "min_width": null,
            "object_fit": null,
            "object_position": null,
            "order": null,
            "overflow": null,
            "overflow_x": null,
            "overflow_y": null,
            "padding": null,
            "right": null,
            "top": null,
            "visibility": null,
            "width": null
          }
        },
        "77009fdab36c426fbf3e21ef828cd25b": {
          "model_module": "@jupyter-widgets/controls",
          "model_name": "ProgressStyleModel",
          "model_module_version": "1.5.0",
          "state": {
            "_model_module": "@jupyter-widgets/controls",
            "_model_module_version": "1.5.0",
            "_model_name": "ProgressStyleModel",
            "_view_count": null,
            "_view_module": "@jupyter-widgets/base",
            "_view_module_version": "1.2.0",
            "_view_name": "StyleView",
            "bar_color": null,
            "description_width": ""
          }
        },
        "938e2260efcf4db9bb147d6a5186e14a": {
          "model_module": "@jupyter-widgets/base",
          "model_name": "LayoutModel",
          "model_module_version": "1.2.0",
          "state": {
            "_model_module": "@jupyter-widgets/base",
            "_model_module_version": "1.2.0",
            "_model_name": "LayoutModel",
            "_view_count": null,
            "_view_module": "@jupyter-widgets/base",
            "_view_module_version": "1.2.0",
            "_view_name": "LayoutView",
            "align_content": null,
            "align_items": null,
            "align_self": null,
            "border": null,
            "bottom": null,
            "display": null,
            "flex": null,
            "flex_flow": null,
            "grid_area": null,
            "grid_auto_columns": null,
            "grid_auto_flow": null,
            "grid_auto_rows": null,
            "grid_column": null,
            "grid_gap": null,
            "grid_row": null,
            "grid_template_areas": null,
            "grid_template_columns": null,
            "grid_template_rows": null,
            "height": null,
            "justify_content": null,
            "justify_items": null,
            "left": null,
            "margin": null,
            "max_height": null,
            "max_width": null,
            "min_height": null,
            "min_width": null,
            "object_fit": null,
            "object_position": null,
            "order": null,
            "overflow": null,
            "overflow_x": null,
            "overflow_y": null,
            "padding": null,
            "right": null,
            "top": null,
            "visibility": null,
            "width": null
          }
        },
        "fd900ae92c274e78abfdc5c3a7e1ed3b": {
          "model_module": "@jupyter-widgets/controls",
          "model_name": "DescriptionStyleModel",
          "model_module_version": "1.5.0",
          "state": {
            "_model_module": "@jupyter-widgets/controls",
            "_model_module_version": "1.5.0",
            "_model_name": "DescriptionStyleModel",
            "_view_count": null,
            "_view_module": "@jupyter-widgets/base",
            "_view_module_version": "1.2.0",
            "_view_name": "StyleView",
            "description_width": ""
          }
        },
        "46ebe459058840db8353e0ca919f1c3b": {
          "model_module": "@jupyter-widgets/controls",
          "model_name": "HBoxModel",
          "model_module_version": "1.5.0",
          "state": {
            "_dom_classes": [],
            "_model_module": "@jupyter-widgets/controls",
            "_model_module_version": "1.5.0",
            "_model_name": "HBoxModel",
            "_view_count": null,
            "_view_module": "@jupyter-widgets/controls",
            "_view_module_version": "1.5.0",
            "_view_name": "HBoxView",
            "box_style": "",
            "children": [
              "IPY_MODEL_5f1ba60d0e70436586eacc9cc26f4d73",
              "IPY_MODEL_fbdddd46d191482aaf8d82bf5ec1dc75",
              "IPY_MODEL_9bb54cb2bc3a4a2dbb892772845400c4"
            ],
            "layout": "IPY_MODEL_1811c23fd17544d5a36f4c1ed4a90125"
          }
        },
        "5f1ba60d0e70436586eacc9cc26f4d73": {
          "model_module": "@jupyter-widgets/controls",
          "model_name": "HTMLModel",
          "model_module_version": "1.5.0",
          "state": {
            "_dom_classes": [],
            "_model_module": "@jupyter-widgets/controls",
            "_model_module_version": "1.5.0",
            "_model_name": "HTMLModel",
            "_view_count": null,
            "_view_module": "@jupyter-widgets/controls",
            "_view_module_version": "1.5.0",
            "_view_name": "HTMLView",
            "description": "",
            "description_tooltip": null,
            "layout": "IPY_MODEL_38c3db09d4f047f395ba49a9a26aa644",
            "placeholder": "​",
            "style": "IPY_MODEL_845ede4bd5aa4675809dcdda4901c213",
            "value": "Downloading model.safetensors: 100%"
          }
        },
        "fbdddd46d191482aaf8d82bf5ec1dc75": {
          "model_module": "@jupyter-widgets/controls",
          "model_name": "FloatProgressModel",
          "model_module_version": "1.5.0",
          "state": {
            "_dom_classes": [],
            "_model_module": "@jupyter-widgets/controls",
            "_model_module_version": "1.5.0",
            "_model_name": "FloatProgressModel",
            "_view_count": null,
            "_view_module": "@jupyter-widgets/controls",
            "_view_module_version": "1.5.0",
            "_view_name": "ProgressView",
            "bar_style": "success",
            "description": "",
            "description_tooltip": null,
            "layout": "IPY_MODEL_a9646e7f39924786bd3d1f0fa98fe428",
            "max": 440449768,
            "min": 0,
            "orientation": "horizontal",
            "style": "IPY_MODEL_887ea10c259740fb82af537135e0f970",
            "value": 440449768
          }
        },
        "9bb54cb2bc3a4a2dbb892772845400c4": {
          "model_module": "@jupyter-widgets/controls",
          "model_name": "HTMLModel",
          "model_module_version": "1.5.0",
          "state": {
            "_dom_classes": [],
            "_model_module": "@jupyter-widgets/controls",
            "_model_module_version": "1.5.0",
            "_model_name": "HTMLModel",
            "_view_count": null,
            "_view_module": "@jupyter-widgets/controls",
            "_view_module_version": "1.5.0",
            "_view_name": "HTMLView",
            "description": "",
            "description_tooltip": null,
            "layout": "IPY_MODEL_9b0fcf69359b4844a1694be05cb2d4a2",
            "placeholder": "​",
            "style": "IPY_MODEL_f183dba8ea18478d9125dcafb8154315",
            "value": " 440M/440M [00:05&lt;00:00, 167MB/s]"
          }
        },
        "1811c23fd17544d5a36f4c1ed4a90125": {
          "model_module": "@jupyter-widgets/base",
          "model_name": "LayoutModel",
          "model_module_version": "1.2.0",
          "state": {
            "_model_module": "@jupyter-widgets/base",
            "_model_module_version": "1.2.0",
            "_model_name": "LayoutModel",
            "_view_count": null,
            "_view_module": "@jupyter-widgets/base",
            "_view_module_version": "1.2.0",
            "_view_name": "LayoutView",
            "align_content": null,
            "align_items": null,
            "align_self": null,
            "border": null,
            "bottom": null,
            "display": null,
            "flex": null,
            "flex_flow": null,
            "grid_area": null,
            "grid_auto_columns": null,
            "grid_auto_flow": null,
            "grid_auto_rows": null,
            "grid_column": null,
            "grid_gap": null,
            "grid_row": null,
            "grid_template_areas": null,
            "grid_template_columns": null,
            "grid_template_rows": null,
            "height": null,
            "justify_content": null,
            "justify_items": null,
            "left": null,
            "margin": null,
            "max_height": null,
            "max_width": null,
            "min_height": null,
            "min_width": null,
            "object_fit": null,
            "object_position": null,
            "order": null,
            "overflow": null,
            "overflow_x": null,
            "overflow_y": null,
            "padding": null,
            "right": null,
            "top": null,
            "visibility": null,
            "width": null
          }
        },
        "38c3db09d4f047f395ba49a9a26aa644": {
          "model_module": "@jupyter-widgets/base",
          "model_name": "LayoutModel",
          "model_module_version": "1.2.0",
          "state": {
            "_model_module": "@jupyter-widgets/base",
            "_model_module_version": "1.2.0",
            "_model_name": "LayoutModel",
            "_view_count": null,
            "_view_module": "@jupyter-widgets/base",
            "_view_module_version": "1.2.0",
            "_view_name": "LayoutView",
            "align_content": null,
            "align_items": null,
            "align_self": null,
            "border": null,
            "bottom": null,
            "display": null,
            "flex": null,
            "flex_flow": null,
            "grid_area": null,
            "grid_auto_columns": null,
            "grid_auto_flow": null,
            "grid_auto_rows": null,
            "grid_column": null,
            "grid_gap": null,
            "grid_row": null,
            "grid_template_areas": null,
            "grid_template_columns": null,
            "grid_template_rows": null,
            "height": null,
            "justify_content": null,
            "justify_items": null,
            "left": null,
            "margin": null,
            "max_height": null,
            "max_width": null,
            "min_height": null,
            "min_width": null,
            "object_fit": null,
            "object_position": null,
            "order": null,
            "overflow": null,
            "overflow_x": null,
            "overflow_y": null,
            "padding": null,
            "right": null,
            "top": null,
            "visibility": null,
            "width": null
          }
        },
        "845ede4bd5aa4675809dcdda4901c213": {
          "model_module": "@jupyter-widgets/controls",
          "model_name": "DescriptionStyleModel",
          "model_module_version": "1.5.0",
          "state": {
            "_model_module": "@jupyter-widgets/controls",
            "_model_module_version": "1.5.0",
            "_model_name": "DescriptionStyleModel",
            "_view_count": null,
            "_view_module": "@jupyter-widgets/base",
            "_view_module_version": "1.2.0",
            "_view_name": "StyleView",
            "description_width": ""
          }
        },
        "a9646e7f39924786bd3d1f0fa98fe428": {
          "model_module": "@jupyter-widgets/base",
          "model_name": "LayoutModel",
          "model_module_version": "1.2.0",
          "state": {
            "_model_module": "@jupyter-widgets/base",
            "_model_module_version": "1.2.0",
            "_model_name": "LayoutModel",
            "_view_count": null,
            "_view_module": "@jupyter-widgets/base",
            "_view_module_version": "1.2.0",
            "_view_name": "LayoutView",
            "align_content": null,
            "align_items": null,
            "align_self": null,
            "border": null,
            "bottom": null,
            "display": null,
            "flex": null,
            "flex_flow": null,
            "grid_area": null,
            "grid_auto_columns": null,
            "grid_auto_flow": null,
            "grid_auto_rows": null,
            "grid_column": null,
            "grid_gap": null,
            "grid_row": null,
            "grid_template_areas": null,
            "grid_template_columns": null,
            "grid_template_rows": null,
            "height": null,
            "justify_content": null,
            "justify_items": null,
            "left": null,
            "margin": null,
            "max_height": null,
            "max_width": null,
            "min_height": null,
            "min_width": null,
            "object_fit": null,
            "object_position": null,
            "order": null,
            "overflow": null,
            "overflow_x": null,
            "overflow_y": null,
            "padding": null,
            "right": null,
            "top": null,
            "visibility": null,
            "width": null
          }
        },
        "887ea10c259740fb82af537135e0f970": {
          "model_module": "@jupyter-widgets/controls",
          "model_name": "ProgressStyleModel",
          "model_module_version": "1.5.0",
          "state": {
            "_model_module": "@jupyter-widgets/controls",
            "_model_module_version": "1.5.0",
            "_model_name": "ProgressStyleModel",
            "_view_count": null,
            "_view_module": "@jupyter-widgets/base",
            "_view_module_version": "1.2.0",
            "_view_name": "StyleView",
            "bar_color": null,
            "description_width": ""
          }
        },
        "9b0fcf69359b4844a1694be05cb2d4a2": {
          "model_module": "@jupyter-widgets/base",
          "model_name": "LayoutModel",
          "model_module_version": "1.2.0",
          "state": {
            "_model_module": "@jupyter-widgets/base",
            "_model_module_version": "1.2.0",
            "_model_name": "LayoutModel",
            "_view_count": null,
            "_view_module": "@jupyter-widgets/base",
            "_view_module_version": "1.2.0",
            "_view_name": "LayoutView",
            "align_content": null,
            "align_items": null,
            "align_self": null,
            "border": null,
            "bottom": null,
            "display": null,
            "flex": null,
            "flex_flow": null,
            "grid_area": null,
            "grid_auto_columns": null,
            "grid_auto_flow": null,
            "grid_auto_rows": null,
            "grid_column": null,
            "grid_gap": null,
            "grid_row": null,
            "grid_template_areas": null,
            "grid_template_columns": null,
            "grid_template_rows": null,
            "height": null,
            "justify_content": null,
            "justify_items": null,
            "left": null,
            "margin": null,
            "max_height": null,
            "max_width": null,
            "min_height": null,
            "min_width": null,
            "object_fit": null,
            "object_position": null,
            "order": null,
            "overflow": null,
            "overflow_x": null,
            "overflow_y": null,
            "padding": null,
            "right": null,
            "top": null,
            "visibility": null,
            "width": null
          }
        },
        "f183dba8ea18478d9125dcafb8154315": {
          "model_module": "@jupyter-widgets/controls",
          "model_name": "DescriptionStyleModel",
          "model_module_version": "1.5.0",
          "state": {
            "_model_module": "@jupyter-widgets/controls",
            "_model_module_version": "1.5.0",
            "_model_name": "DescriptionStyleModel",
            "_view_count": null,
            "_view_module": "@jupyter-widgets/base",
            "_view_module_version": "1.2.0",
            "_view_name": "StyleView",
            "description_width": ""
          }
        }
      }
    }
  },
  "cells": [
    {
      "cell_type": "code",
      "metadata": {
        "id": "5NHqBz62zK-W",
        "colab": {
          "base_uri": "https://localhost:8080/"
        },
        "outputId": "301d497e-e331-4576-8c84-e5b378dca5d6"
      },
      "source": [
        "!nvidia-smi"
      ],
      "execution_count": null,
      "outputs": [
        {
          "output_type": "stream",
          "name": "stdout",
          "text": [
            "Fri Aug 18 14:16:59 2023       \n",
            "+-----------------------------------------------------------------------------+\n",
            "| NVIDIA-SMI 525.105.17   Driver Version: 525.105.17   CUDA Version: 12.0     |\n",
            "|-------------------------------+----------------------+----------------------+\n",
            "| GPU  Name        Persistence-M| Bus-Id        Disp.A | Volatile Uncorr. ECC |\n",
            "| Fan  Temp  Perf  Pwr:Usage/Cap|         Memory-Usage | GPU-Util  Compute M. |\n",
            "|                               |                      |               MIG M. |\n",
            "|===============================+======================+======================|\n",
            "|   0  Tesla T4            Off  | 00000000:00:04.0 Off |                    0 |\n",
            "| N/A   50C    P8     9W /  70W |      0MiB / 15360MiB |      0%      Default |\n",
            "|                               |                      |                  N/A |\n",
            "+-------------------------------+----------------------+----------------------+\n",
            "                                                                               \n",
            "+-----------------------------------------------------------------------------+\n",
            "| Processes:                                                                  |\n",
            "|  GPU   GI   CI        PID   Type   Process name                  GPU Memory |\n",
            "|        ID   ID                                                   Usage      |\n",
            "|=============================================================================|\n",
            "|  No running processes found                                                 |\n",
            "+-----------------------------------------------------------------------------+\n"
          ]
        }
      ]
    },
    {
      "cell_type": "markdown",
      "metadata": {
        "id": "5xBc96wF0LeR"
      },
      "source": [
        "INSTALAMOS LOS NECESARIO\n"
      ]
    },
    {
      "cell_type": "code",
      "metadata": {
        "id": "N2StjESU0Aqo",
        "colab": {
          "base_uri": "https://localhost:8080/"
        },
        "outputId": "3050f2f2-87d8-4246-d2d9-81cab8072ef7"
      },
      "source": [
        "!pip install -q -U watermark"
      ],
      "execution_count": null,
      "outputs": [
        {
          "output_type": "stream",
          "name": "stdout",
          "text": [
            "\u001b[?25l     \u001b[90m━━━━━━━━━━━━━━━━━━━━━━━━━━━━━━━━━━━━━━━━\u001b[0m \u001b[32m0.0/1.6 MB\u001b[0m \u001b[31m?\u001b[0m eta \u001b[36m-:--:--\u001b[0m\r\u001b[2K     \u001b[91m━━━━━━━━\u001b[0m\u001b[91m╸\u001b[0m\u001b[90m━━━━━━━━━━━━━━━━━━━━━━━━━━━━━━━\u001b[0m \u001b[32m0.3/1.6 MB\u001b[0m \u001b[31m10.3 MB/s\u001b[0m eta \u001b[36m0:00:01\u001b[0m\r\u001b[2K     \u001b[90m━━━━━━━━━━━━━━━━━━━━━━━━━━━━━━━━━━━━━━━━\u001b[0m \u001b[32m1.6/1.6 MB\u001b[0m \u001b[31m23.6 MB/s\u001b[0m eta \u001b[36m0:00:00\u001b[0m\n",
            "\u001b[?25h"
          ]
        }
      ]
    },
    {
      "cell_type": "code",
      "metadata": {
        "id": "KmWiqDBL0HFk",
        "colab": {
          "base_uri": "https://localhost:8080/"
        },
        "outputId": "a6268926-4041-4c2a-999d-aee4c9662af5"
      },
      "source": [
        "!pip install -qq transformers"
      ],
      "execution_count": null,
      "outputs": [
        {
          "output_type": "stream",
          "name": "stdout",
          "text": [
            "\u001b[2K     \u001b[90m━━━━━━━━━━━━━━━━━━━━━━━━━━━━━━━━━━━━━━━━\u001b[0m \u001b[32m7.4/7.4 MB\u001b[0m \u001b[31m38.1 MB/s\u001b[0m eta \u001b[36m0:00:00\u001b[0m\n",
            "\u001b[2K     \u001b[90m━━━━━━━━━━━━━━━━━━━━━━━━━━━━━━━━━━━━━━\u001b[0m \u001b[32m268.8/268.8 kB\u001b[0m \u001b[31m27.3 MB/s\u001b[0m eta \u001b[36m0:00:00\u001b[0m\n",
            "\u001b[2K     \u001b[90m━━━━━━━━━━━━━━━━━━━━━━━━━━━━━━━━━━━━━━━━\u001b[0m \u001b[32m7.8/7.8 MB\u001b[0m \u001b[31m78.9 MB/s\u001b[0m eta \u001b[36m0:00:00\u001b[0m\n",
            "\u001b[2K     \u001b[90m━━━━━━━━━━━━━━━━━━━━━━━━━━━━━━━━━━━━━━━━\u001b[0m \u001b[32m1.3/1.3 MB\u001b[0m \u001b[31m29.9 MB/s\u001b[0m eta \u001b[36m0:00:00\u001b[0m\n",
            "\u001b[?25h"
          ]
        }
      ]
    },
    {
      "cell_type": "code",
      "metadata": {
        "id": "QD07unq30KPM",
        "colab": {
          "base_uri": "https://localhost:8080/"
        },
        "outputId": "454de121-2658-4cb1-acfe-7a361348fa59"
      },
      "source": [
        "%reload_ext watermark\n",
        "%watermark -v -p numpy,pandas,torch,transformers"
      ],
      "execution_count": null,
      "outputs": [
        {
          "output_type": "stream",
          "name": "stdout",
          "text": [
            "Python implementation: CPython\n",
            "Python version       : 3.10.12\n",
            "IPython version      : 7.34.0\n",
            "\n",
            "numpy       : 1.23.5\n",
            "pandas      : 1.5.3\n",
            "torch       : 2.0.1+cu118\n",
            "transformers: 4.31.0\n",
            "\n"
          ]
        }
      ]
    },
    {
      "cell_type": "markdown",
      "metadata": {
        "id": "brNY14vf4qOg"
      },
      "source": [
        "IMPORTAMOS LAS LIBRERIAS NECESARIAS/ALGUNOS DATOS QUE USAREMOS"
      ]
    },
    {
      "cell_type": "code",
      "metadata": {
        "id": "zwZFMpm24eGr"
      },
      "source": [
        "import transformers\n",
        "from transformers import BertModel, BertTokenizer, AdamW, get_linear_schedule_with_warmup,BertForSequenceClassification\n",
        "import torch\n",
        "import numpy as np\n",
        "import pandas as pd\n",
        "import seaborn as sns\n",
        "from pylab import rcParams\n",
        "import matplotlib.pyplot as plt\n",
        "from matplotlib import rc\n",
        "from sklearn.model_selection import train_test_split\n",
        "from sklearn.metrics import confusion_matrix, classification_report\n",
        "from collections import defaultdict\n",
        "from textwrap import wrap\n",
        "from torch import nn, optim\n",
        "from torch.utils.data import Dataset, DataLoader\n",
        "import torch.nn.functional as F # esta funcion no fue incluida\n",
        "import os\n",
        "\n",
        "sns.set(style='whitegrid', palette='muted', font_scale=1.2)\n",
        "HAPPY_COLORS_PALETTE = [\"#01BEFE\", \"#FFDD00\", \"#FF7D00\", \"#FF006D\", \"#ADFF02\", \"#8F00FF\"]\n",
        "sns.set_palette(sns.color_palette(HAPPY_COLORS_PALETTE))\n",
        "rcParams['figure.figsize'] = 12, 8\n",
        "RANDOM_SEED = 42\n",
        "np.random.seed(RANDOM_SEED)\n",
        "torch.manual_seed(RANDOM_SEED)\n",
        "device = torch.device(\"cuda:0\" if torch.cuda.is_available() else \"cpu\")"
      ],
      "execution_count": null,
      "outputs": []
    },
    {
      "cell_type": "code",
      "source": [],
      "metadata": {
        "id": "JQviV3EjA9qC"
      },
      "execution_count": null,
      "outputs": []
    },
    {
      "cell_type": "markdown",
      "metadata": {
        "id": "lLotZIJy38a-"
      },
      "source": [
        "DESCARGAMOS NUESTRAS BASE DE DATOS DE REVIEWS"
      ]
    },
    {
      "cell_type": "code",
      "source": [
        "from google.colab import drive\n",
        "drive.mount('/content/drive')"
      ],
      "metadata": {
        "colab": {
          "base_uri": "https://localhost:8080/"
        },
        "id": "ljL2QikVA_Ci",
        "outputId": "2c3f7bcf-4c7a-4eb6-9f48-38a53b59129f"
      },
      "execution_count": null,
      "outputs": [
        {
          "output_type": "stream",
          "name": "stdout",
          "text": [
            "Mounted at /content/drive\n"
          ]
        }
      ]
    },
    {
      "cell_type": "code",
      "source": [
        "df= pd.read_csv(\"/content/drive/MyDrive/Henry/PROYECTO FINAL/datasets/cl_reviews_gm.csv\")\n",
        "new_column_names = {'text': 'content', 'Sentimiento_Mapeado': 'sentiment','rating': 'score'}\n",
        "\n",
        "df.rename(columns=new_column_names, inplace=True)\n",
        "column_name_to_drop = 'sentiment'\n",
        "df = df.drop(column_name_to_drop, axis=1)\n",
        "df.info()"
      ],
      "metadata": {
        "colab": {
          "base_uri": "https://localhost:8080/"
        },
        "id": "4H4WAmc3BGkK",
        "outputId": "cfc9e787-c8e3-4b60-9b29-c6947b678c76"
      },
      "execution_count": null,
      "outputs": [
        {
          "output_type": "stream",
          "name": "stdout",
          "text": [
            "<class 'pandas.core.frame.DataFrame'>\n",
            "RangeIndex: 250500 entries, 0 to 250499\n",
            "Data columns (total 4 columns):\n",
            " #   Column        Non-Null Count   Dtype \n",
            "---  ------        --------------   ----- \n",
            " 0   review_id     250500 non-null  object\n",
            " 1   score         250500 non-null  int64 \n",
            " 2   content       250500 non-null  object\n",
            " 3   cleaned_text  250500 non-null  object\n",
            "dtypes: int64(1), object(3)\n",
            "memory usage: 7.6+ MB\n"
          ]
        }
      ]
    },
    {
      "cell_type": "code",
      "source": [
        "df.head(5)"
      ],
      "metadata": {
        "colab": {
          "base_uri": "https://localhost:8080/",
          "height": 293
        },
        "id": "uSa1wQ7CB-pr",
        "outputId": "a21aec99-a0ac-43c2-92ed-c69eb4f89891"
      },
      "execution_count": null,
      "outputs": [
        {
          "output_type": "execute_result",
          "data": {
            "text/plain": [
              "                              review_id  rating  \\\n",
              "0  b7c24acd-2d76-447c-9e85-f374ac5118d8       5   \n",
              "1  b2d234e1-07f3-4f17-815f-83a91974ba3e       5   \n",
              "2  a051d720-e32e-4c71-bef0-a540def77975       5   \n",
              "3  b402f52a-f5f0-4ba7-b3ef-8823f5cd8515       4   \n",
              "4  db5d5847-d189-46e4-8131-05d7eaf95990       5   \n",
              "\n",
              "                                                text  \\\n",
              "0  Great location. Decent prices with a wide vari...   \n",
              "1                                          Fantastic   \n",
              "2                                       Good Chicken   \n",
              "3        Drive in quick.  Great smoothie and nuggets   \n",
              "4  Finally a good Asian restaurant in Navarre! We...   \n",
              "\n",
              "                                        cleaned_text Sentimiento_Mapeado  \n",
              "0  great location decent price wide variety choic...            Positivo  \n",
              "1                                          fantastic            Positivo  \n",
              "2                                       good chicken            Positivo  \n",
              "3                  drive quick great smoothie nugget            Positivo  \n",
              "4  finally good asian restaurant navarre shrimp v...            Positivo  "
            ],
            "text/html": [
              "\n",
              "  <div id=\"df-b24a5201-2177-4d1b-a264-88e97a303b83\" class=\"colab-df-container\">\n",
              "    <div>\n",
              "<style scoped>\n",
              "    .dataframe tbody tr th:only-of-type {\n",
              "        vertical-align: middle;\n",
              "    }\n",
              "\n",
              "    .dataframe tbody tr th {\n",
              "        vertical-align: top;\n",
              "    }\n",
              "\n",
              "    .dataframe thead th {\n",
              "        text-align: right;\n",
              "    }\n",
              "</style>\n",
              "<table border=\"1\" class=\"dataframe\">\n",
              "  <thead>\n",
              "    <tr style=\"text-align: right;\">\n",
              "      <th></th>\n",
              "      <th>review_id</th>\n",
              "      <th>rating</th>\n",
              "      <th>text</th>\n",
              "      <th>cleaned_text</th>\n",
              "      <th>Sentimiento_Mapeado</th>\n",
              "    </tr>\n",
              "  </thead>\n",
              "  <tbody>\n",
              "    <tr>\n",
              "      <th>0</th>\n",
              "      <td>b7c24acd-2d76-447c-9e85-f374ac5118d8</td>\n",
              "      <td>5</td>\n",
              "      <td>Great location. Decent prices with a wide vari...</td>\n",
              "      <td>great location decent price wide variety choic...</td>\n",
              "      <td>Positivo</td>\n",
              "    </tr>\n",
              "    <tr>\n",
              "      <th>1</th>\n",
              "      <td>b2d234e1-07f3-4f17-815f-83a91974ba3e</td>\n",
              "      <td>5</td>\n",
              "      <td>Fantastic</td>\n",
              "      <td>fantastic</td>\n",
              "      <td>Positivo</td>\n",
              "    </tr>\n",
              "    <tr>\n",
              "      <th>2</th>\n",
              "      <td>a051d720-e32e-4c71-bef0-a540def77975</td>\n",
              "      <td>5</td>\n",
              "      <td>Good Chicken</td>\n",
              "      <td>good chicken</td>\n",
              "      <td>Positivo</td>\n",
              "    </tr>\n",
              "    <tr>\n",
              "      <th>3</th>\n",
              "      <td>b402f52a-f5f0-4ba7-b3ef-8823f5cd8515</td>\n",
              "      <td>4</td>\n",
              "      <td>Drive in quick.  Great smoothie and nuggets</td>\n",
              "      <td>drive quick great smoothie nugget</td>\n",
              "      <td>Positivo</td>\n",
              "    </tr>\n",
              "    <tr>\n",
              "      <th>4</th>\n",
              "      <td>db5d5847-d189-46e4-8131-05d7eaf95990</td>\n",
              "      <td>5</td>\n",
              "      <td>Finally a good Asian restaurant in Navarre! We...</td>\n",
              "      <td>finally good asian restaurant navarre shrimp v...</td>\n",
              "      <td>Positivo</td>\n",
              "    </tr>\n",
              "  </tbody>\n",
              "</table>\n",
              "</div>\n",
              "    <div class=\"colab-df-buttons\">\n",
              "\n",
              "  <div class=\"colab-df-container\">\n",
              "    <button class=\"colab-df-convert\" onclick=\"convertToInteractive('df-b24a5201-2177-4d1b-a264-88e97a303b83')\"\n",
              "            title=\"Convert this dataframe to an interactive table.\"\n",
              "            style=\"display:none;\">\n",
              "\n",
              "  <svg xmlns=\"http://www.w3.org/2000/svg\" height=\"24px\" viewBox=\"0 -960 960 960\">\n",
              "    <path d=\"M120-120v-720h720v720H120Zm60-500h600v-160H180v160Zm220 220h160v-160H400v160Zm0 220h160v-160H400v160ZM180-400h160v-160H180v160Zm440 0h160v-160H620v160ZM180-180h160v-160H180v160Zm440 0h160v-160H620v160Z\"/>\n",
              "  </svg>\n",
              "    </button>\n",
              "\n",
              "  <style>\n",
              "    .colab-df-container {\n",
              "      display:flex;\n",
              "      gap: 12px;\n",
              "    }\n",
              "\n",
              "    .colab-df-convert {\n",
              "      background-color: #E8F0FE;\n",
              "      border: none;\n",
              "      border-radius: 50%;\n",
              "      cursor: pointer;\n",
              "      display: none;\n",
              "      fill: #1967D2;\n",
              "      height: 32px;\n",
              "      padding: 0 0 0 0;\n",
              "      width: 32px;\n",
              "    }\n",
              "\n",
              "    .colab-df-convert:hover {\n",
              "      background-color: #E2EBFA;\n",
              "      box-shadow: 0px 1px 2px rgba(60, 64, 67, 0.3), 0px 1px 3px 1px rgba(60, 64, 67, 0.15);\n",
              "      fill: #174EA6;\n",
              "    }\n",
              "\n",
              "    .colab-df-buttons div {\n",
              "      margin-bottom: 4px;\n",
              "    }\n",
              "\n",
              "    [theme=dark] .colab-df-convert {\n",
              "      background-color: #3B4455;\n",
              "      fill: #D2E3FC;\n",
              "    }\n",
              "\n",
              "    [theme=dark] .colab-df-convert:hover {\n",
              "      background-color: #434B5C;\n",
              "      box-shadow: 0px 1px 3px 1px rgba(0, 0, 0, 0.15);\n",
              "      filter: drop-shadow(0px 1px 2px rgba(0, 0, 0, 0.3));\n",
              "      fill: #FFFFFF;\n",
              "    }\n",
              "  </style>\n",
              "\n",
              "    <script>\n",
              "      const buttonEl =\n",
              "        document.querySelector('#df-b24a5201-2177-4d1b-a264-88e97a303b83 button.colab-df-convert');\n",
              "      buttonEl.style.display =\n",
              "        google.colab.kernel.accessAllowed ? 'block' : 'none';\n",
              "\n",
              "      async function convertToInteractive(key) {\n",
              "        const element = document.querySelector('#df-b24a5201-2177-4d1b-a264-88e97a303b83');\n",
              "        const dataTable =\n",
              "          await google.colab.kernel.invokeFunction('convertToInteractive',\n",
              "                                                    [key], {});\n",
              "        if (!dataTable) return;\n",
              "\n",
              "        const docLinkHtml = 'Like what you see? Visit the ' +\n",
              "          '<a target=\"_blank\" href=https://colab.research.google.com/notebooks/data_table.ipynb>data table notebook</a>'\n",
              "          + ' to learn more about interactive tables.';\n",
              "        element.innerHTML = '';\n",
              "        dataTable['output_type'] = 'display_data';\n",
              "        await google.colab.output.renderOutput(dataTable, element);\n",
              "        const docLink = document.createElement('div');\n",
              "        docLink.innerHTML = docLinkHtml;\n",
              "        element.appendChild(docLink);\n",
              "      }\n",
              "    </script>\n",
              "  </div>\n",
              "\n",
              "\n",
              "<div id=\"df-009b6006-a9ec-4d30-99ff-be596ec701d6\">\n",
              "  <button class=\"colab-df-quickchart\" onclick=\"quickchart('df-009b6006-a9ec-4d30-99ff-be596ec701d6')\"\n",
              "            title=\"Suggest charts.\"\n",
              "            style=\"display:none;\">\n",
              "\n",
              "<svg xmlns=\"http://www.w3.org/2000/svg\" height=\"24px\"viewBox=\"0 0 24 24\"\n",
              "     width=\"24px\">\n",
              "    <g>\n",
              "        <path d=\"M19 3H5c-1.1 0-2 .9-2 2v14c0 1.1.9 2 2 2h14c1.1 0 2-.9 2-2V5c0-1.1-.9-2-2-2zM9 17H7v-7h2v7zm4 0h-2V7h2v10zm4 0h-2v-4h2v4z\"/>\n",
              "    </g>\n",
              "</svg>\n",
              "  </button>\n",
              "\n",
              "<style>\n",
              "  .colab-df-quickchart {\n",
              "    background-color: #E8F0FE;\n",
              "    border: none;\n",
              "    border-radius: 50%;\n",
              "    cursor: pointer;\n",
              "    display: none;\n",
              "    fill: #1967D2;\n",
              "    height: 32px;\n",
              "    padding: 0 0 0 0;\n",
              "    width: 32px;\n",
              "  }\n",
              "\n",
              "  .colab-df-quickchart:hover {\n",
              "    background-color: #E2EBFA;\n",
              "    box-shadow: 0px 1px 2px rgba(60, 64, 67, 0.3), 0px 1px 3px 1px rgba(60, 64, 67, 0.15);\n",
              "    fill: #174EA6;\n",
              "  }\n",
              "\n",
              "  [theme=dark] .colab-df-quickchart {\n",
              "    background-color: #3B4455;\n",
              "    fill: #D2E3FC;\n",
              "  }\n",
              "\n",
              "  [theme=dark] .colab-df-quickchart:hover {\n",
              "    background-color: #434B5C;\n",
              "    box-shadow: 0px 1px 3px 1px rgba(0, 0, 0, 0.15);\n",
              "    filter: drop-shadow(0px 1px 2px rgba(0, 0, 0, 0.3));\n",
              "    fill: #FFFFFF;\n",
              "  }\n",
              "</style>\n",
              "\n",
              "  <script>\n",
              "    async function quickchart(key) {\n",
              "      const charts = await google.colab.kernel.invokeFunction(\n",
              "          'suggestCharts', [key], {});\n",
              "    }\n",
              "    (() => {\n",
              "      let quickchartButtonEl =\n",
              "        document.querySelector('#df-009b6006-a9ec-4d30-99ff-be596ec701d6 button');\n",
              "      quickchartButtonEl.style.display =\n",
              "        google.colab.kernel.accessAllowed ? 'block' : 'none';\n",
              "    })();\n",
              "  </script>\n",
              "</div>\n",
              "    </div>\n",
              "  </div>\n"
            ]
          },
          "metadata": {},
          "execution_count": 10
        }
      ]
    },
    {
      "cell_type": "code",
      "metadata": {
        "id": "oWsFudRX0XC5",
        "colab": {
          "base_uri": "https://localhost:8080/",
          "height": 85
        },
        "outputId": "f2a36695-62ba-4d1e-d962-7cece73d3f15"
      },
      "source": [
        "!gdown --id 1eXcyqhvjKZpXQXplzrcFMbv_DiVSUdQQ\n",
        "#!gdown --id 1XNNpuv8CyrEsnitcA_o_ELDj1lB_ozuY"
      ],
      "execution_count": null,
      "outputs": [
        {
          "output_type": "stream",
          "text": [
            "Downloading...\n",
            "From: https://drive.google.com/uc?id=1eXcyqhvjKZpXQXplzrcFMbv_DiVSUdQQ\n",
            "To: /content/reviewsV2.csv\n",
            "7.21MB [00:00, 44.1MB/s]\n"
          ],
          "name": "stdout"
        }
      ]
    },
    {
      "cell_type": "markdown",
      "metadata": {
        "id": "ojL4KfJg5NEE"
      },
      "source": [
        "EXPLORAMOS NUESTROS DATOS"
      ]
    },
    {
      "cell_type": "code",
      "metadata": {
        "id": "HBcAa1dU5Ik-",
        "colab": {
          "base_uri": "https://localhost:8080/",
          "height": 547
        },
        "outputId": "97220e4b-fc95-4a3b-ed14-e04cc55cc493"
      },
      "source": [
        "df = pd.read_csv(\"reviewsV2.csv\")\n",
        "df.head()"
      ],
      "execution_count": null,
      "outputs": [
        {
          "output_type": "execute_result",
          "data": {
            "text/html": [
              "<div>\n",
              "<style scoped>\n",
              "    .dataframe tbody tr th:only-of-type {\n",
              "        vertical-align: middle;\n",
              "    }\n",
              "\n",
              "    .dataframe tbody tr th {\n",
              "        vertical-align: top;\n",
              "    }\n",
              "\n",
              "    .dataframe thead th {\n",
              "        text-align: right;\n",
              "    }\n",
              "</style>\n",
              "<table border=\"1\" class=\"dataframe\">\n",
              "  <thead>\n",
              "    <tr style=\"text-align: right;\">\n",
              "      <th></th>\n",
              "      <th>Unnamed: 0</th>\n",
              "      <th>reviewId</th>\n",
              "      <th>userName</th>\n",
              "      <th>userImage</th>\n",
              "      <th>content</th>\n",
              "      <th>score</th>\n",
              "      <th>thumbsUpCount</th>\n",
              "      <th>reviewCreatedVersion</th>\n",
              "      <th>at</th>\n",
              "      <th>replyContent</th>\n",
              "      <th>repliedAt</th>\n",
              "      <th>sortOrder</th>\n",
              "      <th>appId</th>\n",
              "      <th>Unnamed: 12</th>\n",
              "      <th>Unnamed: 13</th>\n",
              "    </tr>\n",
              "  </thead>\n",
              "  <tbody>\n",
              "    <tr>\n",
              "      <th>0</th>\n",
              "      <td>0</td>\n",
              "      <td>gp:AOqpTOH4B-QZyWwoqUcGFpdcZtTM7IH-LLXi27wVA1y...</td>\n",
              "      <td>alexis cazares</td>\n",
              "      <td>https://lh3.googleusercontent.com/-O9lnImjLpdY...</td>\n",
              "      <td>Con la actualización, no me deja acceder a mi ...</td>\n",
              "      <td>1</td>\n",
              "      <td>13921.0</td>\n",
              "      <td>6.0.022.02.45</td>\n",
              "      <td>2020-02-24 17:52:25</td>\n",
              "      <td>NaN</td>\n",
              "      <td>NaN</td>\n",
              "      <td>most_relevant</td>\n",
              "      <td>com.google.android.apps.classroom</td>\n",
              "      <td>NaN</td>\n",
              "      <td>NaN</td>\n",
              "    </tr>\n",
              "    <tr>\n",
              "      <th>1</th>\n",
              "      <td>1</td>\n",
              "      <td>gp:AOqpTOGRJrkVPTyauYWt8h4hemaO6JNq2c3wvHzVtXN...</td>\n",
              "      <td>Aida Rus</td>\n",
              "      <td>https://lh3.googleusercontent.com/a-/AOh14Gjvh...</td>\n",
              "      <td>No me deja acceder con el correo institucional...</td>\n",
              "      <td>1</td>\n",
              "      <td>3429.0</td>\n",
              "      <td>6.0.022.02.40</td>\n",
              "      <td>2020-02-01 07:21:33</td>\n",
              "      <td>NaN</td>\n",
              "      <td>NaN</td>\n",
              "      <td>most_relevant</td>\n",
              "      <td>com.google.android.apps.classroom</td>\n",
              "      <td>NaN</td>\n",
              "      <td>NaN</td>\n",
              "    </tr>\n",
              "    <tr>\n",
              "      <th>2</th>\n",
              "      <td>2</td>\n",
              "      <td>gp:AOqpTOF_sJHyGpjz3mtFe_XISIVDelffHIAamcKpTGC...</td>\n",
              "      <td>Alexis Ven</td>\n",
              "      <td>https://lh3.googleusercontent.com/-ok0eZU2YcyA...</td>\n",
              "      <td>Se me hace fastidioso usar esta app cuando hay...</td>\n",
              "      <td>1</td>\n",
              "      <td>3727.0</td>\n",
              "      <td>6.4.181.03.30</td>\n",
              "      <td>2020-05-28 09:09:01</td>\n",
              "      <td>NaN</td>\n",
              "      <td>NaN</td>\n",
              "      <td>most_relevant</td>\n",
              "      <td>com.google.android.apps.classroom</td>\n",
              "      <td>NaN</td>\n",
              "      <td>NaN</td>\n",
              "    </tr>\n",
              "    <tr>\n",
              "      <th>3</th>\n",
              "      <td>3</td>\n",
              "      <td>gp:AOqpTOEKZZC0vvbdR96SbSIzUt-DMlOe-FCU5QJr2fu...</td>\n",
              "      <td>najwaa_ 96</td>\n",
              "      <td>https://lh3.googleusercontent.com/-J7KHIad9syg...</td>\n",
              "      <td>La peor aplicación del mundo, y lo mejor que p...</td>\n",
              "      <td>1</td>\n",
              "      <td>3076.0</td>\n",
              "      <td>6.4.181.03.44</td>\n",
              "      <td>2020-06-03 06:26:08</td>\n",
              "      <td>NaN</td>\n",
              "      <td>NaN</td>\n",
              "      <td>most_relevant</td>\n",
              "      <td>com.google.android.apps.classroom</td>\n",
              "      <td>NaN</td>\n",
              "      <td>NaN</td>\n",
              "    </tr>\n",
              "    <tr>\n",
              "      <th>4</th>\n",
              "      <td>4</td>\n",
              "      <td>gp:AOqpTOHHU-NyjzITN0i0dm9XDMC1DNn_uppNiQsk72t...</td>\n",
              "      <td>The Eoster</td>\n",
              "      <td>https://lh3.googleusercontent.com/a-/AOh14GhOv...</td>\n",
              "      <td>No me deja entrar desde que se actualizo... Ar...</td>\n",
              "      <td>1</td>\n",
              "      <td>3100.0</td>\n",
              "      <td>6.0.022.05.45c</td>\n",
              "      <td>2020-02-23 23:25:55</td>\n",
              "      <td>NaN</td>\n",
              "      <td>NaN</td>\n",
              "      <td>most_relevant</td>\n",
              "      <td>com.google.android.apps.classroom</td>\n",
              "      <td>NaN</td>\n",
              "      <td>NaN</td>\n",
              "    </tr>\n",
              "  </tbody>\n",
              "</table>\n",
              "</div>"
            ],
            "text/plain": [
              "   Unnamed: 0  ... Unnamed: 13\n",
              "0           0  ...         NaN\n",
              "1           1  ...         NaN\n",
              "2           2  ...         NaN\n",
              "3           3  ...         NaN\n",
              "4           4  ...         NaN\n",
              "\n",
              "[5 rows x 15 columns]"
            ]
          },
          "metadata": {
            "tags": []
          },
          "execution_count": 8
        }
      ]
    },
    {
      "cell_type": "code",
      "metadata": {
        "id": "b9kdm4sJ5U1e",
        "colab": {
          "base_uri": "https://localhost:8080/"
        },
        "outputId": "ce509e65-7cd8-4f15-dc44-1baf6749ee36"
      },
      "source": [
        "df.shape # LAS DIMENSIONES DE NEUSTROS DATOS\n",
        "df.info() # LA INFORMACION COMO LOS CAMPOS"
      ],
      "execution_count": null,
      "outputs": [
        {
          "output_type": "stream",
          "name": "stdout",
          "text": [
            "<class 'pandas.core.frame.DataFrame'>\n",
            "RangeIndex: 250500 entries, 0 to 250499\n",
            "Data columns (total 4 columns):\n",
            " #   Column        Non-Null Count   Dtype \n",
            "---  ------        --------------   ----- \n",
            " 0   review_id     250500 non-null  object\n",
            " 1   score         250500 non-null  int64 \n",
            " 2   content       250500 non-null  object\n",
            " 3   cleaned_text  250500 non-null  object\n",
            "dtypes: int64(1), object(3)\n",
            "memory usage: 7.6+ MB\n"
          ]
        }
      ]
    },
    {
      "cell_type": "markdown",
      "metadata": {
        "id": "31uO0Ga750cm"
      },
      "source": [
        "VEMOS NUESTROS DATOS"
      ]
    },
    {
      "cell_type": "code",
      "metadata": {
        "id": "XLq9AWZr5gLV",
        "colab": {
          "base_uri": "https://localhost:8080/",
          "height": 677
        },
        "outputId": "93bd422c-b30c-420e-88e0-0cd793a43142"
      },
      "source": [
        "sns.countplot(df.score)\n",
        "plt.xlabel('review score');"
      ],
      "execution_count": null,
      "outputs": [
        {
          "output_type": "display_data",
          "data": {
            "text/plain": [
              "<Figure size 1200x800 with 1 Axes>"
            ],
            "image/png": "[encoded data removed]"
          },
          "metadata": {}
        }
      ]
    },
    {
      "cell_type": "markdown",
      "metadata": {
        "id": "8rS9U3jM6OD1"
      },
      "source": [
        "CONVERTIMOS NUESTROS DATOS"
      ]
    },
    {
      "cell_type": "code",
      "metadata": {
        "id": "XhJsH3I650Mt"
      },
      "source": [
        "def to_sentiment(rating):\n",
        "  rating = int(rating)\n",
        "  if rating <= 2:\n",
        "    return 0\n",
        "  elif rating == 3:\n",
        "    return 1\n",
        "  else:\n",
        "    return 2\n",
        "\n",
        "df['sentiment'] = df.score.apply(to_sentiment)\n"
      ],
      "execution_count": null,
      "outputs": []
    },
    {
      "cell_type": "code",
      "metadata": {
        "id": "NO_j1f026CLr"
      },
      "source": [
        "class_names = ['Negativo', 'Neutral', 'Positivo']"
      ],
      "execution_count": null,
      "outputs": []
    },
    {
      "cell_type": "code",
      "metadata": {
        "id": "MRr1gp_G6C6u",
        "colab": {
          "base_uri": "https://localhost:8080/",
          "height": 694
        },
        "outputId": "463ae264-0ce8-484b-ad85-2a53719141f3"
      },
      "source": [
        "ax = sns.countplot(df.sentiment)\n",
        "plt.xlabel('Sentimiento del comentario')\n",
        "#ax.set_xticklabels(class_names);"
      ],
      "execution_count": null,
      "outputs": [
        {
          "output_type": "execute_result",
          "data": {
            "text/plain": [
              "Text(0.5, 0, 'Sentimiento del comentario')"
            ]
          },
          "metadata": {},
          "execution_count": 29
        },
        {
          "output_type": "display_data",
          "data": {
            "text/plain": [
              "<Figure size 1200x800 with 1 Axes>"
            ],
            "image/png": "[encoded data removed]"
          },
          "metadata": {}
        }
      ]
    },
    {
      "cell_type": "code",
      "metadata": {
        "id": "wLNqObCN6Yw6",
        "colab": {
          "base_uri": "https://localhost:8080/"
        },
        "outputId": "08a8fa3d-2040-4fe2-d585-dfe2e0aafb75"
      },
      "source": [
        "conteo_ratings = df['score'].value_counts()\n",
        "print(conteo_ratings)"
      ],
      "execution_count": null,
      "outputs": [
        {
          "output_type": "stream",
          "name": "stdout",
          "text": [
            "3    83500\n",
            "5    64261\n",
            "1    51850\n",
            "2    31650\n",
            "4    19239\n",
            "Name: score, dtype: int64\n"
          ]
        }
      ]
    },
    {
      "cell_type": "code",
      "source": [
        "conteo_sent = df['sentiment'].value_counts()\n",
        "print(conteo_sent)"
      ],
      "metadata": {
        "colab": {
          "base_uri": "https://localhost:8080/"
        },
        "id": "FfTjmaFWG-UL",
        "outputId": "f72cb470-13eb-4387-9d79-3b8778079c94"
      },
      "execution_count": null,
      "outputs": [
        {
          "output_type": "stream",
          "name": "stdout",
          "text": [
            "2    83500\n",
            "0    83500\n",
            "1    83500\n",
            "Name: sentiment, dtype: int64\n"
          ]
        }
      ]
    },
    {
      "cell_type": "markdown",
      "metadata": {
        "id": "41iZ7hM_6c9R"
      },
      "source": [
        "# PROCESAMIENTO DE NUESTROS DATOS"
      ]
    },
    {
      "cell_type": "markdown",
      "metadata": {
        "id": "my3PDXfk6kfx"
      },
      "source": [
        "Cargamos nuestro modelo/ usaremos el modelo beto"
      ]
    },
    {
      "cell_type": "code",
      "metadata": {
        "id": "h2pn8wsv6sH5"
      },
      "source": [
        "PRE_TRAINED_MODEL_NAME = 'bert-base-uncased'\n"
      ],
      "execution_count": null,
      "outputs": []
    },
    {
      "cell_type": "code",
      "metadata": {
        "id": "rgxNNZ3m67Cx",
        "colab": {
          "base_uri": "https://localhost:8080/",
          "height": 113,
          "referenced_widgets": [
            "a4e8206a70f74211836623385fc85f40",
            "049b1ba76d84482191f3a8c7ca8b6c9e",
            "b4b5c137c1ee4a498d58939a000734f9",
            "e6114cc97fad47c08c98aa6aae08dbd4",
            "0a4df8d4c0b64207a348f4c81c226b48",
            "87b68251d69f41028355f1324f1a106b",
            "bd8709feadb54209839e7a6597c9f018",
            "5ae1c329b65e4f92ac2f27ed4ebfadb9",
            "795fc0d720a247b79f25709a2be50542",
            "b9b9a2a9531a4248be27c8ad02d3a97c",
            "4cbc37d43ff140e7848bd15c770f3418",
            "edd4fdb3957245a8adbcc27a9484dbdc",
            "98b9a2fa791f4e66aac003de952df072",
            "303e7e2a81214ef3bbe7a60c1dcf8723",
            "a775f0ccbdbf4482bbbfc9d63cde0184",
            "eedacbb4c5a64717a29e3d0cdf136eb4",
            "6f3d67d859bc4f94a2f852e469b8d90c",
            "e6aaf4b3275248b894333c0f58ea3db1",
            "6172f95166954f758a7ca046b55905a1",
            "634982351454483e80921bb41c8c6534",
            "eb171c4d840147a7964ce905ebeee764",
            "208553706ccb43a789bcd533936daf76",
            "88aaddaf54a640a6b7dc6b44448b317f",
            "46d92cda97264e049d488e7efa0ccd9d",
            "f748e69766564ddd807a85de508cedf6",
            "66ba262587344651a65cdc77ef4d9785",
            "845d79d16c1545c2815af291e0355fde",
            "871dcd131d544eb1a0a138f25dcfbe3f",
            "6f10af44fbe54b94b10479d44a82366c",
            "a9935a7c232b4d00a8d637144fe7743e",
            "77009fdab36c426fbf3e21ef828cd25b",
            "938e2260efcf4db9bb147d6a5186e14a",
            "fd900ae92c274e78abfdc5c3a7e1ed3b"
          ]
        },
        "outputId": "fdb92250-cebb-4079-eeb6-43027d6028cf"
      },
      "source": [
        "tokenizer = BertTokenizer.from_pretrained(PRE_TRAINED_MODEL_NAME)"
      ],
      "execution_count": null,
      "outputs": [
        {
          "output_type": "display_data",
          "data": {
            "text/plain": [
              "Downloading (…)solve/main/vocab.txt:   0%|          | 0.00/232k [00:00<?, ?B/s]"
            ],
            "application/vnd.jupyter.widget-view+json": {
              "version_major": 2,
              "version_minor": 0,
              "model_id": "a4e8206a70f74211836623385fc85f40"
            }
          },
          "metadata": {}
        },
        {
          "output_type": "display_data",
          "data": {
            "text/plain": [
              "Downloading (…)okenizer_config.json:   0%|          | 0.00/28.0 [00:00<?, ?B/s]"
            ],
            "application/vnd.jupyter.widget-view+json": {
              "version_major": 2,
              "version_minor": 0,
              "model_id": "edd4fdb3957245a8adbcc27a9484dbdc"
            }
          },
          "metadata": {}
        },
        {
          "output_type": "display_data",
          "data": {
            "text/plain": [
              "Downloading (…)lve/main/config.json:   0%|          | 0.00/570 [00:00<?, ?B/s]"
            ],
            "application/vnd.jupyter.widget-view+json": {
              "version_major": 2,
              "version_minor": 0,
              "model_id": "88aaddaf54a640a6b7dc6b44448b317f"
            }
          },
          "metadata": {}
        }
      ]
    },
    {
      "cell_type": "markdown",
      "metadata": {
        "id": "btDsoJIs7AM_"
      },
      "source": []
    },
    {
      "cell_type": "code",
      "metadata": {
        "id": "X_2Qu7TK7BI7",
        "colab": {
          "base_uri": "https://localhost:8080/"
        },
        "outputId": "792805fd-efd2-4284-cb80-3803f4b33e09"
      },
      "source": [
        "sample_txt = 'THE ATTENTION WAS GOOD BUT IT DELAYED.'\n",
        "tokens = tokenizer.tokenize(sample_txt)\n",
        "token_ids = tokenizer.convert_tokens_to_ids(tokens)\n",
        "\n",
        "print(f' Sentence: {sample_txt}')\n",
        "print(f'   Tokens: {tokens}')\n",
        "print(f'Token IDs: {token_ids}')"
      ],
      "execution_count": null,
      "outputs": [
        {
          "output_type": "stream",
          "name": "stdout",
          "text": [
            " Sentence: THE ATTENTION WAS GOOD BUT IT DELAYED.\n",
            "   Tokens: ['the', 'attention', 'was', 'good', 'but', 'it', 'delayed', '.']\n",
            "Token IDs: [1996, 3086, 2001, 2204, 2021, 2009, 8394, 1012]\n"
          ]
        }
      ]
    },
    {
      "cell_type": "code",
      "metadata": {
        "id": "orPf4j-u7UM4",
        "colab": {
          "base_uri": "https://localhost:8080/"
        },
        "outputId": "6c1eda0d-16ce-444a-8ec9-1919f55cf2cd"
      },
      "source": [
        "tokenizer.sep_token, tokenizer.sep_token_id,tokenizer.cls_token, tokenizer.cls_token_id,tokenizer.pad_token, tokenizer.pad_token_id,tokenizer.unk_token, tokenizer.unk_token_id"
      ],
      "execution_count": null,
      "outputs": [
        {
          "output_type": "execute_result",
          "data": {
            "text/plain": [
              "('[SEP]', 102, '[CLS]', 101, '[PAD]', 0, '[UNK]', 100)"
            ]
          },
          "metadata": {},
          "execution_count": 39
        }
      ]
    },
    {
      "cell_type": "code",
      "metadata": {
        "id": "VUoQb_ck7l-9",
        "colab": {
          "base_uri": "https://localhost:8080/"
        },
        "outputId": "7d5ba32f-6a8f-4be9-b946-a6cd8ba7ee43"
      },
      "source": [
        "#necesitmoas tulizar la forma en como bert recibe nuestros reviews\n",
        "encoding = tokenizer.encode_plus(\n",
        "  sample_txt,\n",
        "  max_length=32,\n",
        "  truncation=True,\n",
        "  add_special_tokens=True, # Add '[CLS]' and '[SEP]'\n",
        "  return_token_type_ids=False,\n",
        "  pad_to_max_length=True,\n",
        "  return_attention_mask=True,\n",
        "  return_tensors='pt',  # Return PyTorch tensors\n",
        ")\n",
        "\n",
        "encoding.keys()"
      ],
      "execution_count": null,
      "outputs": [
        {
          "output_type": "execute_result",
          "data": {
            "text/plain": [
              "dict_keys(['input_ids', 'attention_mask'])"
            ]
          },
          "metadata": {},
          "execution_count": 40
        }
      ]
    },
    {
      "cell_type": "code",
      "metadata": {
        "id": "2yVKAYqB71WS",
        "colab": {
          "base_uri": "https://localhost:8080/"
        },
        "outputId": "b82542e0-7882-4bf0-e18e-0034aae2f46a"
      },
      "source": [
        "print(len(encoding['input_ids'][0]))\n",
        "encoding['input_ids'][0]"
      ],
      "execution_count": null,
      "outputs": [
        {
          "output_type": "stream",
          "name": "stdout",
          "text": [
            "32\n"
          ]
        },
        {
          "output_type": "execute_result",
          "data": {
            "text/plain": [
              "tensor([  101,  2771,  2053, 19908,  9686,  5348,  1061, 25176,  2139,  7304,\n",
              "         1012,   102,     0,     0,     0,     0,     0,     0,     0,     0,\n",
              "            0,     0,     0,     0,     0,     0,     0,     0,     0,     0,\n",
              "            0,     0])"
            ]
          },
          "metadata": {},
          "execution_count": 35
        }
      ]
    },
    {
      "cell_type": "code",
      "metadata": {
        "id": "6rzlQt2879sm",
        "colab": {
          "base_uri": "https://localhost:8080/"
        },
        "outputId": "28746966-809f-4382-f7cd-20fd216e3751"
      },
      "source": [
        "print(len(encoding['attention_mask'][0]))\n",
        "encoding['attention_mask']"
      ],
      "execution_count": null,
      "outputs": [
        {
          "output_type": "stream",
          "name": "stdout",
          "text": [
            "32\n"
          ]
        },
        {
          "output_type": "execute_result",
          "data": {
            "text/plain": [
              "tensor([[1, 1, 1, 1, 1, 1, 1, 1, 1, 1, 0, 0, 0, 0, 0, 0, 0, 0, 0, 0, 0, 0, 0, 0,\n",
              "         0, 0, 0, 0, 0, 0, 0, 0]])"
            ]
          },
          "metadata": {},
          "execution_count": 41
        }
      ]
    },
    {
      "cell_type": "code",
      "metadata": {
        "id": "41O4MavO8CL2",
        "colab": {
          "base_uri": "https://localhost:8080/"
        },
        "outputId": "63674230-14a4-4621-a23c-b95503136854"
      },
      "source": [
        "tokenizer.convert_ids_to_tokens(encoding['input_ids'][0])"
      ],
      "execution_count": null,
      "outputs": [
        {
          "output_type": "execute_result",
          "data": {
            "text/plain": [
              "['[CLS]',\n",
              " 'the',\n",
              " 'attention',\n",
              " 'was',\n",
              " 'good',\n",
              " 'but',\n",
              " 'it',\n",
              " 'delayed',\n",
              " '.',\n",
              " '[SEP]',\n",
              " '[PAD]',\n",
              " '[PAD]',\n",
              " '[PAD]',\n",
              " '[PAD]',\n",
              " '[PAD]',\n",
              " '[PAD]',\n",
              " '[PAD]',\n",
              " '[PAD]',\n",
              " '[PAD]',\n",
              " '[PAD]',\n",
              " '[PAD]',\n",
              " '[PAD]',\n",
              " '[PAD]',\n",
              " '[PAD]',\n",
              " '[PAD]',\n",
              " '[PAD]',\n",
              " '[PAD]',\n",
              " '[PAD]',\n",
              " '[PAD]',\n",
              " '[PAD]',\n",
              " '[PAD]',\n",
              " '[PAD]']"
            ]
          },
          "metadata": {},
          "execution_count": 42
        }
      ]
    },
    {
      "cell_type": "markdown",
      "metadata": {
        "id": "QdSSvUy08M95"
      },
      "source": [
        "Buscamos la mayor logintud dentro de nuestros reviews"
      ]
    },
    {
      "cell_type": "code",
      "metadata": {
        "id": "3M3E58Sd8CAT"
      },
      "source": [
        "token_lens = []\n",
        "\n",
        "for txt in df.content:\n",
        "  tokens = tokenizer.encode(txt, max_length=512,truncation=True)\n",
        "  token_lens.append(len(tokens))"
      ],
      "execution_count": null,
      "outputs": []
    },
    {
      "cell_type": "code",
      "metadata": {
        "id": "wjEhiM-P8SSd",
        "colab": {
          "base_uri": "https://localhost:8080/",
          "height": 879
        },
        "outputId": "d15a5cf5-b304-4780-e34f-3a69e30c0279"
      },
      "source": [
        "sns.distplot(token_lens)\n",
        "plt.xlim([0, 256]);\n",
        "plt.xlabel('Token count');"
      ],
      "execution_count": null,
      "outputs": [
        {
          "output_type": "stream",
          "name": "stderr",
          "text": [
            "<ipython-input-44-4dbe9bd8b56e>:1: UserWarning: \n",
            "\n",
            "`distplot` is a deprecated function and will be removed in seaborn v0.14.0.\n",
            "\n",
            "Please adapt your code to use either `displot` (a figure-level function with\n",
            "similar flexibility) or `histplot` (an axes-level function for histograms).\n",
            "\n",
            "For a guide to updating your code to use the new functions, please see\n",
            "https://gist.github.com/mwaskom/de44147ed2974457ad6372750bbe5751\n",
            "\n",
            "  sns.distplot(token_lens)\n"
          ]
        },
        {
          "output_type": "display_data",
          "data": {
            "text/plain": [
              "<Figure size 1200x800 with 1 Axes>"
            ],
            "image/png": "[encoded data removed]"
          },
          "metadata": {}
        }
      ]
    },
    {
      "cell_type": "code",
      "metadata": {
        "id": "yt4Bfd8R8UJt"
      },
      "source": [
        "MAX_LEN = 160"
      ],
      "execution_count": null,
      "outputs": []
    },
    {
      "cell_type": "code",
      "metadata": {
        "id": "JFlC90Kz8XPx"
      },
      "source": [
        "class GPReviewDataset(Dataset):\n",
        "\n",
        "  def __init__(self, reviews, targets, tokenizer, max_len):\n",
        "    self.reviews = reviews\n",
        "    self.targets = targets\n",
        "    self.tokenizer = tokenizer\n",
        "    self.max_len = max_len\n",
        "\n",
        "  def __len__(self):\n",
        "    return len(self.reviews)\n",
        "\n",
        "  def __getitem__(self, item):\n",
        "    review = str(self.reviews[item])\n",
        "    target = self.targets[item]\n",
        "\n",
        "    encoding = self.tokenizer.encode_plus(\n",
        "      review,\n",
        "      add_special_tokens=True,\n",
        "      max_length=self.max_len,\n",
        "      truncation=True,\n",
        "      return_token_type_ids=False,\n",
        "      pad_to_max_length=True,\n",
        "      return_attention_mask=True,\n",
        "      return_tensors='pt',\n",
        "    )\n",
        "\n",
        "    return {\n",
        "      'review_text': review,\n",
        "      'input_ids': encoding['input_ids'].flatten(),\n",
        "      'attention_mask': encoding['attention_mask'].flatten(),\n",
        "      'targets': torch.tensor(target, dtype=torch.long)\n",
        "    }"
      ],
      "execution_count": null,
      "outputs": []
    },
    {
      "cell_type": "code",
      "metadata": {
        "id": "aQNIH40W8cFJ"
      },
      "source": [
        "df_train, df_test = train_test_split(df, test_size=0.1, random_state=RANDOM_SEED)\n",
        "df_val, df_test = train_test_split(df_test, test_size=0.5, random_state=RANDOM_SEED)"
      ],
      "execution_count": null,
      "outputs": []
    },
    {
      "cell_type": "code",
      "metadata": {
        "id": "G5R4vDXI8hzG",
        "colab": {
          "base_uri": "https://localhost:8080/"
        },
        "outputId": "c3563f2c-edf4-47f9-f3a5-b502e6bde490"
      },
      "source": [
        "df_train.shape, df_val.shape, df_test.shape"
      ],
      "execution_count": null,
      "outputs": [
        {
          "output_type": "execute_result",
          "data": {
            "text/plain": [
              "((225450, 5), (12525, 5), (12525, 5))"
            ]
          },
          "metadata": {},
          "execution_count": 48
        }
      ]
    },
    {
      "cell_type": "code",
      "metadata": {
        "id": "w_MzN8da8qgF"
      },
      "source": [
        "def create_data_loader(df, tokenizer, max_len, batch_size):\n",
        "  ds = GPReviewDataset(\n",
        "    reviews=df.content.to_numpy(),\n",
        "    targets=df.sentiment.to_numpy(),\n",
        "    tokenizer=tokenizer,\n",
        "    max_len=max_len\n",
        "  )\n",
        "\n",
        "  return DataLoader(\n",
        "    ds,\n",
        "    batch_size=batch_size,\n",
        "    num_workers=4\n",
        "  )"
      ],
      "execution_count": null,
      "outputs": []
    },
    {
      "cell_type": "code",
      "metadata": {
        "id": "LuayLUra8sJm",
        "colab": {
          "base_uri": "https://localhost:8080/"
        },
        "outputId": "aba019a4-6c9b-4a0d-f412-0521ba1e46c8"
      },
      "source": [
        "BATCH_SIZE = 16\n",
        "\n",
        "train_data_loader = create_data_loader(df_train, tokenizer, MAX_LEN, BATCH_SIZE)\n",
        "val_data_loader = create_data_loader(df_val, tokenizer, MAX_LEN, BATCH_SIZE)\n",
        "test_data_loader = create_data_loader(df_test, tokenizer, MAX_LEN, BATCH_SIZE)"
      ],
      "execution_count": null,
      "outputs": [
        {
          "output_type": "stream",
          "name": "stderr",
          "text": [
            "/usr/local/lib/python3.10/dist-packages/torch/utils/data/dataloader.py:560: UserWarning: This DataLoader will create 4 worker processes in total. Our suggested max number of worker in current system is 2, which is smaller than what this DataLoader is going to create. Please be aware that excessive worker creation might get DataLoader running slow or even freeze, lower the worker number to avoid potential slowness/freeze if necessary.\n",
            "  warnings.warn(_create_warning_msg(\n"
          ]
        }
      ]
    },
    {
      "cell_type": "code",
      "metadata": {
        "id": "sNB_pn848v8n",
        "colab": {
          "base_uri": "https://localhost:8080/"
        },
        "outputId": "533c0e66-0c32-4c58-9e3c-4f9fb898e1da"
      },
      "source": [
        "data = next(iter(train_data_loader))\n",
        "data.keys()"
      ],
      "execution_count": null,
      "outputs": [
        {
          "output_type": "stream",
          "name": "stderr",
          "text": [
            "/usr/local/lib/python3.10/dist-packages/transformers/tokenization_utils_base.py:2393: FutureWarning: The `pad_to_max_length` argument is deprecated and will be removed in a future version, use `padding=True` or `padding='longest'` to pad to the longest sequence in the batch, or use `padding='max_length'` to pad to a max length. In this case, you can give a specific length with `max_length` (e.g. `max_length=45`) or leave max_length to None to pad to the maximal input size of the model (e.g. 512 for Bert).\n",
            "  warnings.warn(\n",
            "/usr/local/lib/python3.10/dist-packages/transformers/tokenization_utils_base.py:2393: FutureWarning: The `pad_to_max_length` argument is deprecated and will be removed in a future version, use `padding=True` or `padding='longest'` to pad to the longest sequence in the batch, or use `padding='max_length'` to pad to a max length. In this case, you can give a specific length with `max_length` (e.g. `max_length=45`) or leave max_length to None to pad to the maximal input size of the model (e.g. 512 for Bert).\n",
            "  warnings.warn(\n",
            "/usr/local/lib/python3.10/dist-packages/transformers/tokenization_utils_base.py:2393: FutureWarning: The `pad_to_max_length` argument is deprecated and will be removed in a future version, use `padding=True` or `padding='longest'` to pad to the longest sequence in the batch, or use `padding='max_length'` to pad to a max length. In this case, you can give a specific length with `max_length` (e.g. `max_length=45`) or leave max_length to None to pad to the maximal input size of the model (e.g. 512 for Bert).\n",
            "  warnings.warn(\n",
            "/usr/local/lib/python3.10/dist-packages/transformers/tokenization_utils_base.py:2393: FutureWarning: The `pad_to_max_length` argument is deprecated and will be removed in a future version, use `padding=True` or `padding='longest'` to pad to the longest sequence in the batch, or use `padding='max_length'` to pad to a max length. In this case, you can give a specific length with `max_length` (e.g. `max_length=45`) or leave max_length to None to pad to the maximal input size of the model (e.g. 512 for Bert).\n",
            "  warnings.warn(\n"
          ]
        },
        {
          "output_type": "execute_result",
          "data": {
            "text/plain": [
              "dict_keys(['review_text', 'input_ids', 'attention_mask', 'targets'])"
            ]
          },
          "metadata": {},
          "execution_count": 51
        }
      ]
    },
    {
      "cell_type": "code",
      "metadata": {
        "id": "-W_ptyG-8zJS",
        "colab": {
          "base_uri": "https://localhost:8080/"
        },
        "outputId": "ff6c8982-de60-4c46-ad48-d696a7b36fde"
      },
      "source": [
        "print(data['input_ids'].shape)\n",
        "print(data['attention_mask'].shape)\n",
        "print(data['targets'].shape)"
      ],
      "execution_count": null,
      "outputs": [
        {
          "output_type": "stream",
          "name": "stdout",
          "text": [
            "torch.Size([16, 160])\n",
            "torch.Size([16, 160])\n",
            "torch.Size([16])\n"
          ]
        }
      ]
    },
    {
      "cell_type": "markdown",
      "metadata": {
        "id": "psxMkDsb83rc"
      },
      "source": [
        "# ANALISIS DE SENTIMIENTO CON BERT"
      ]
    },
    {
      "cell_type": "code",
      "metadata": {
        "id": "Yy8uajCL81iy",
        "colab": {
          "base_uri": "https://localhost:8080/",
          "height": 49,
          "referenced_widgets": [
            "46ebe459058840db8353e0ca919f1c3b",
            "5f1ba60d0e70436586eacc9cc26f4d73",
            "fbdddd46d191482aaf8d82bf5ec1dc75",
            "9bb54cb2bc3a4a2dbb892772845400c4",
            "1811c23fd17544d5a36f4c1ed4a90125",
            "38c3db09d4f047f395ba49a9a26aa644",
            "845ede4bd5aa4675809dcdda4901c213",
            "a9646e7f39924786bd3d1f0fa98fe428",
            "887ea10c259740fb82af537135e0f970",
            "9b0fcf69359b4844a1694be05cb2d4a2",
            "f183dba8ea18478d9125dcafb8154315"
          ]
        },
        "outputId": "4154e137-f0cf-428a-f71a-217ceaf188c6"
      },
      "source": [
        "bert_model = BertModel.from_pretrained(PRE_TRAINED_MODEL_NAME)"
      ],
      "execution_count": null,
      "outputs": [
        {
          "output_type": "display_data",
          "data": {
            "text/plain": [
              "Downloading model.safetensors:   0%|          | 0.00/440M [00:00<?, ?B/s]"
            ],
            "application/vnd.jupyter.widget-view+json": {
              "version_major": 2,
              "version_minor": 0,
              "model_id": "46ebe459058840db8353e0ca919f1c3b"
            }
          },
          "metadata": {}
        }
      ]
    },
    {
      "cell_type": "code",
      "metadata": {
        "id": "_-1g51Le9cb3"
      },
      "source": [
        "bert_model = BertModel.from_pretrained(PRE_TRAINED_MODEL_NAME)\n",
        "last_hidden_state, pooled_output = bert_model(\n",
        "  input_ids=encoding['input_ids'],\n",
        "  attention_mask=encoding['attention_mask'],\n",
        "  return_dict = False\n",
        ")\n"
      ],
      "execution_count": null,
      "outputs": []
    },
    {
      "cell_type": "code",
      "source": [
        "print(type(encoding['input_ids']))\n",
        "print(type(encoding['attention_mask']))"
      ],
      "metadata": {
        "colab": {
          "base_uri": "https://localhost:8080/"
        },
        "id": "oWr6lsiONmpE",
        "outputId": "048d8e94-e6e9-43c4-cb60-2f06b91df847"
      },
      "execution_count": null,
      "outputs": [
        {
          "output_type": "stream",
          "name": "stdout",
          "text": [
            "<class 'torch.Tensor'>\n",
            "<class 'torch.Tensor'>\n"
          ]
        }
      ]
    },
    {
      "cell_type": "code",
      "metadata": {
        "id": "LA6TA40Q9eDy",
        "colab": {
          "base_uri": "https://localhost:8080/"
        },
        "outputId": "b301a1f0-ed7e-4a46-d6c4-973f5f55dfb1"
      },
      "source": [
        "print(last_hidden_state.shape)\n",
        "print(bert_model.config.hidden_size)\n",
        "print(pooled_output.shape)"
      ],
      "execution_count": null,
      "outputs": [
        {
          "output_type": "stream",
          "name": "stdout",
          "text": [
            "torch.Size([1, 32, 768])\n",
            "768\n",
            "torch.Size([1, 768])\n"
          ]
        }
      ]
    },
    {
      "cell_type": "markdown",
      "metadata": {
        "id": "FgqK7eF89Ylz"
      },
      "source": [
        "Creamos nuestra clase que sera la encargada de el mannejo\n"
      ]
    },
    {
      "cell_type": "code",
      "metadata": {
        "id": "SpuJOBw990fd"
      },
      "source": [
        "class SentimentClassifier(nn.Module):\n",
        "\n",
        "  def __init__(self, n_classes):\n",
        "    super(SentimentClassifier, self).__init__()\n",
        "    self.bert = BertModel.from_pretrained(PRE_TRAINED_MODEL_NAME)\n",
        "    self.drop = nn.Dropout(p=0.3)\n",
        "    self.out = nn.Linear(self.bert.config.hidden_size, n_classes)\n",
        "\n",
        "  def forward(self, input_ids, attention_mask):\n",
        "    _, pooled_output = self.bert(\n",
        "      input_ids=input_ids,\n",
        "      attention_mask=attention_mask,\n",
        "      return_dict = False\n",
        "    )\n",
        "    output = self.drop(pooled_output)\n",
        "    return self.out(output)"
      ],
      "execution_count": null,
      "outputs": []
    },
    {
      "cell_type": "code",
      "metadata": {
        "id": "YirY1-w196QG"
      },
      "source": [
        "model = SentimentClassifier(len(class_names))\n",
        "model = model.to(device)"
      ],
      "execution_count": null,
      "outputs": []
    },
    {
      "cell_type": "code",
      "metadata": {
        "id": "YvFNKIA6-Ht7",
        "colab": {
          "base_uri": "https://localhost:8080/"
        },
        "outputId": "40d63078-1ccd-45e5-af0b-fb1cfaf3780f"
      },
      "source": [
        "input_ids = data['input_ids'].to(device)\n",
        "attention_mask = data['attention_mask'].to(device)\n",
        "\n",
        "print(input_ids.shape)\n",
        "print(attention_mask.shape)\n"
      ],
      "execution_count": null,
      "outputs": [
        {
          "output_type": "stream",
          "name": "stdout",
          "text": [
            "torch.Size([16, 160])\n",
            "torch.Size([16, 160])\n"
          ]
        }
      ]
    },
    {
      "cell_type": "markdown",
      "metadata": {
        "id": "TshipypO-QEY"
      },
      "source": [
        "Obtenemos la probabilidades utilizando softmax en la salida"
      ]
    },
    {
      "cell_type": "code",
      "metadata": {
        "id": "uwFCisNw-QWR",
        "colab": {
          "base_uri": "https://localhost:8080/"
        },
        "outputId": "f0b97821-fe45-4699-d631-1ad297ae303f"
      },
      "source": [
        "F.softmax(model(input_ids, attention_mask), dim=1)"
      ],
      "execution_count": null,
      "outputs": [
        {
          "output_type": "execute_result",
          "data": {
            "text/plain": [
              "tensor([[0.2718, 0.4883, 0.2399],\n",
              "        [0.2712, 0.4451, 0.2837],\n",
              "        [0.3597, 0.3416, 0.2988],\n",
              "        [0.2112, 0.5337, 0.2551],\n",
              "        [0.2989, 0.4727, 0.2283],\n",
              "        [0.5153, 0.3188, 0.1658],\n",
              "        [0.2513, 0.4557, 0.2931],\n",
              "        [0.2619, 0.4024, 0.3357],\n",
              "        [0.3130, 0.4047, 0.2823],\n",
              "        [0.3829, 0.3366, 0.2805],\n",
              "        [0.4159, 0.3259, 0.2582],\n",
              "        [0.3262, 0.3517, 0.3221],\n",
              "        [0.4018, 0.2601, 0.3381],\n",
              "        [0.3748, 0.3708, 0.2544],\n",
              "        [0.3866, 0.3674, 0.2460],\n",
              "        [0.3510, 0.3827, 0.2663]], device='cuda:0', grad_fn=<SoftmaxBackward0>)"
            ]
          },
          "metadata": {},
          "execution_count": 76
        }
      ]
    },
    {
      "cell_type": "markdown",
      "metadata": {
        "id": "PMvTbbSo-bXR"
      },
      "source": [
        "**ENTRENAMIENTO**"
      ]
    },
    {
      "cell_type": "code",
      "metadata": {
        "id": "WV33nS-a-YbD",
        "colab": {
          "base_uri": "https://localhost:8080/"
        },
        "outputId": "97e9e429-0483-46ed-dc4d-2a49275dedac"
      },
      "source": [
        "EPOCHS = 4 # la documentacion señala que lo ideal es 3 a 4 epocas pero haremos las pruebas\n",
        "\n",
        "optimizer = AdamW(model.parameters(), lr=2e-5, correct_bias=False)\n",
        "total_steps = len(train_data_loader) * EPOCHS\n",
        "\n",
        "scheduler = get_linear_schedule_with_warmup(\n",
        "  optimizer,\n",
        "  num_warmup_steps=0,\n",
        "  num_training_steps=total_steps\n",
        ")\n",
        "\n",
        "loss_fn = nn.CrossEntropyLoss().to(device)"
      ],
      "execution_count": null,
      "outputs": [
        {
          "output_type": "stream",
          "name": "stderr",
          "text": [
            "/usr/local/lib/python3.10/dist-packages/transformers/optimization.py:411: FutureWarning: This implementation of AdamW is deprecated and will be removed in a future version. Use the PyTorch implementation torch.optim.AdamW instead, or set `no_deprecation_warning=True` to disable this warning\n",
            "  warnings.warn(\n"
          ]
        }
      ]
    },
    {
      "cell_type": "markdown",
      "metadata": {
        "id": "wP52ZYNR-s7Y"
      },
      "source": [
        "\n",
        "Se recomienda los siguientes datos segun la documentacion:\n",
        "1.   Batch size: 16, 32\n",
        "2.   Learning rate (Adam): 5e-5, 3e-5, 2e-5\n",
        "3.   Number of epochs: 2, 3, 4\n",
        "\n",
        "\n",
        "\n",
        "\n",
        "\n",
        "\n"
      ]
    },
    {
      "cell_type": "code",
      "metadata": {
        "id": "zv6x_Vol-mpN"
      },
      "source": [
        "def train_epoch(\n",
        "  model,\n",
        "  data_loader,\n",
        "  loss_fn,\n",
        "  optimizer,\n",
        "  device,\n",
        "  scheduler,\n",
        "  n_examples\n",
        "):\n",
        "  model = model.train()\n",
        "\n",
        "  losses = []\n",
        "  correct_predictions = 0\n",
        "\n",
        "  for d in data_loader:\n",
        "    input_ids = d[\"input_ids\"].to(device)\n",
        "    attention_mask = d[\"attention_mask\"].to(device)\n",
        "    targets = d[\"targets\"].to(device)\n",
        "\n",
        "    outputs = model(\n",
        "      input_ids=input_ids,\n",
        "      attention_mask=attention_mask\n",
        "    )\n",
        "\n",
        "    _, preds = torch.max(outputs, dim=1)\n",
        "    loss = loss_fn(outputs, targets)\n",
        "\n",
        "    correct_predictions += torch.sum(preds == targets)\n",
        "    losses.append(loss.item())\n",
        "\n",
        "    loss.backward()\n",
        "    nn.utils.clip_grad_norm_(model.parameters(), max_norm=1.0)\n",
        "    optimizer.step()\n",
        "    scheduler.step()\n",
        "    optimizer.zero_grad()\n",
        "\n",
        "  return correct_predictions.double() / n_examples, np.mean(losses)"
      ],
      "execution_count": null,
      "outputs": []
    },
    {
      "cell_type": "markdown",
      "metadata": {
        "id": "4H7wGxgB_K1G"
      },
      "source": [
        "Funcion para evaluar nuestro modelo"
      ]
    },
    {
      "cell_type": "code",
      "metadata": {
        "id": "Dvm6MBCa_IMk"
      },
      "source": [
        "def eval_model(model, data_loader, loss_fn, device, n_examples):\n",
        "  model = model.eval()\n",
        "\n",
        "  losses = []\n",
        "  correct_predictions = 0\n",
        "\n",
        "  with torch.no_grad():\n",
        "    for d in data_loader:\n",
        "      input_ids = d[\"input_ids\"].to(device)\n",
        "      attention_mask = d[\"attention_mask\"].to(device)\n",
        "      targets = d[\"targets\"].to(device)\n",
        "\n",
        "      outputs = model(\n",
        "        input_ids=input_ids,\n",
        "        attention_mask=attention_mask\n",
        "      )\n",
        "      _, preds = torch.max(outputs, dim=1)\n",
        "\n",
        "      loss = loss_fn(outputs, targets)\n",
        "\n",
        "      correct_predictions += torch.sum(preds == targets)\n",
        "      losses.append(loss.item())\n",
        "\n",
        "  return correct_predictions.double() / n_examples, np.mean(losses)"
      ],
      "execution_count": null,
      "outputs": []
    },
    {
      "cell_type": "code",
      "metadata": {
        "id": "zvYlXQ4s_SOF",
        "colab": {
          "base_uri": "https://localhost:8080/",
          "height": 647
        },
        "outputId": "8a3213a0-ef3d-401f-b885-e282bd919407"
      },
      "source": [
        "%%time\n",
        "\n",
        "history = defaultdict(list)\n",
        "best_accuracy = 0\n",
        "output_dir = './model_save/'\n",
        "\n",
        "if not os.path.exists(output_dir):\n",
        "    os.makedirs(output_dir)\n",
        "\n",
        "for epoch in range(EPOCHS):\n",
        "\n",
        "  print(f'Epoch {epoch + 1}/{EPOCHS}')\n",
        "  print('-' * 10)\n",
        "\n",
        "  train_acc, train_loss = train_epoch(\n",
        "    model,\n",
        "    train_data_loader,\n",
        "    loss_fn,\n",
        "    optimizer,\n",
        "    device,\n",
        "    scheduler,\n",
        "    len(df_train)\n",
        "  )\n",
        "\n",
        "  print(f'Train loss {train_loss} accuracy {train_acc}')\n",
        "\n",
        "  val_acc, val_loss = eval_model(\n",
        "    model,\n",
        "    val_data_loader,\n",
        "    loss_fn,\n",
        "    device,\n",
        "    len(df_val)\n",
        "  )\n",
        "\n",
        "  print(f'Val   loss {val_loss} accuracy {val_acc}')\n",
        "  print()\n",
        "\n",
        "  history['train_acc'].append(train_acc)\n",
        "  history['train_loss'].append(train_loss)\n",
        "  history['val_acc'].append(val_acc)\n",
        "  history['val_loss'].append(val_loss)\n",
        "\n",
        "  if val_acc > best_accuracy:\n",
        "    torch.save(model.state_dict(), output_dir+'best_model_state.bin')\n",
        "    best_accuracy = val_acc"
      ],
      "execution_count": null,
      "outputs": [
        {
          "output_type": "stream",
          "name": "stdout",
          "text": [
            "Epoch 1/4\n",
            "----------\n"
          ]
        },
        {
          "output_type": "stream",
          "name": "stderr",
          "text": [
            "/usr/local/lib/python3.10/dist-packages/torch/utils/data/dataloader.py:560: UserWarning: This DataLoader will create 4 worker processes in total. Our suggested max number of worker in current system is 2, which is smaller than what this DataLoader is going to create. Please be aware that excessive worker creation might get DataLoader running slow or even freeze, lower the worker number to avoid potential slowness/freeze if necessary.\n",
            "  warnings.warn(_create_warning_msg(\n",
            "/usr/local/lib/python3.10/dist-packages/transformers/tokenization_utils_base.py:2393: FutureWarning: The `pad_to_max_length` argument is deprecated and will be removed in a future version, use `padding=True` or `padding='longest'` to pad to the longest sequence in the batch, or use `padding='max_length'` to pad to a max length. In this case, you can give a specific length with `max_length` (e.g. `max_length=45`) or leave max_length to None to pad to the maximal input size of the model (e.g. 512 for Bert).\n",
            "  warnings.warn(\n",
            "/usr/local/lib/python3.10/dist-packages/transformers/tokenization_utils_base.py:2393: FutureWarning: The `pad_to_max_length` argument is deprecated and will be removed in a future version, use `padding=True` or `padding='longest'` to pad to the longest sequence in the batch, or use `padding='max_length'` to pad to a max length. In this case, you can give a specific length with `max_length` (e.g. `max_length=45`) or leave max_length to None to pad to the maximal input size of the model (e.g. 512 for Bert).\n",
            "  warnings.warn(\n",
            "/usr/local/lib/python3.10/dist-packages/transformers/tokenization_utils_base.py:2393: FutureWarning: The `pad_to_max_length` argument is deprecated and will be removed in a future version, use `padding=True` or `padding='longest'` to pad to the longest sequence in the batch, or use `padding='max_length'` to pad to a max length. In this case, you can give a specific length with `max_length` (e.g. `max_length=45`) or leave max_length to None to pad to the maximal input size of the model (e.g. 512 for Bert).\n",
            "  warnings.warn(\n",
            "/usr/local/lib/python3.10/dist-packages/transformers/tokenization_utils_base.py:2393: FutureWarning: The `pad_to_max_length` argument is deprecated and will be removed in a future version, use `padding=True` or `padding='longest'` to pad to the longest sequence in the batch, or use `padding='max_length'` to pad to a max length. In this case, you can give a specific length with `max_length` (e.g. `max_length=45`) or leave max_length to None to pad to the maximal input size of the model (e.g. 512 for Bert).\n",
            "  warnings.warn(\n"
          ]
        },
        {
          "output_type": "error",
          "ename": "KeyboardInterrupt",
          "evalue": "ignored",
          "traceback": [
            "\u001b[0;31m---------------------------------------------------------------------------\u001b[0m",
            "\u001b[0;31mKeyboardInterrupt\u001b[0m                         Traceback (most recent call last)",
            "\u001b[0;32m<timed exec>\u001b[0m in \u001b[0;36m<module>\u001b[0;34m\u001b[0m\n",
            "\u001b[0;32m<ipython-input-78-2fde7c4dd037>\u001b[0m in \u001b[0;36mtrain_epoch\u001b[0;34m(model, data_loader, loss_fn, optimizer, device, scheduler, n_examples)\u001b[0m\n\u001b[1;32m     30\u001b[0m \u001b[0;34m\u001b[0m\u001b[0m\n\u001b[1;32m     31\u001b[0m     \u001b[0mloss\u001b[0m\u001b[0;34m.\u001b[0m\u001b[0mbackward\u001b[0m\u001b[0;34m(\u001b[0m\u001b[0;34m)\u001b[0m\u001b[0;34m\u001b[0m\u001b[0;34m\u001b[0m\u001b[0m\n\u001b[0;32m---> 32\u001b[0;31m     \u001b[0mnn\u001b[0m\u001b[0;34m.\u001b[0m\u001b[0mutils\u001b[0m\u001b[0;34m.\u001b[0m\u001b[0mclip_grad_norm_\u001b[0m\u001b[0;34m(\u001b[0m\u001b[0mmodel\u001b[0m\u001b[0;34m.\u001b[0m\u001b[0mparameters\u001b[0m\u001b[0;34m(\u001b[0m\u001b[0;34m)\u001b[0m\u001b[0;34m,\u001b[0m \u001b[0mmax_norm\u001b[0m\u001b[0;34m=\u001b[0m\u001b[0;36m1.0\u001b[0m\u001b[0;34m)\u001b[0m\u001b[0;34m\u001b[0m\u001b[0;34m\u001b[0m\u001b[0m\n\u001b[0m\u001b[1;32m     33\u001b[0m     \u001b[0moptimizer\u001b[0m\u001b[0;34m.\u001b[0m\u001b[0mstep\u001b[0m\u001b[0;34m(\u001b[0m\u001b[0;34m)\u001b[0m\u001b[0;34m\u001b[0m\u001b[0;34m\u001b[0m\u001b[0m\n\u001b[1;32m     34\u001b[0m     \u001b[0mscheduler\u001b[0m\u001b[0;34m.\u001b[0m\u001b[0mstep\u001b[0m\u001b[0;34m(\u001b[0m\u001b[0;34m)\u001b[0m\u001b[0;34m\u001b[0m\u001b[0;34m\u001b[0m\u001b[0m\n",
            "\u001b[0;32m/usr/local/lib/python3.10/dist-packages/torch/nn/utils/clip_grad.py\u001b[0m in \u001b[0;36mclip_grad_norm_\u001b[0;34m(parameters, max_norm, norm_type, error_if_nonfinite, foreach)\u001b[0m\n\u001b[1;32m     74\u001b[0m     \u001b[0;32mfor\u001b[0m \u001b[0;34m(\u001b[0m\u001b[0;34m(\u001b[0m\u001b[0mdevice\u001b[0m\u001b[0;34m,\u001b[0m \u001b[0m_\u001b[0m\u001b[0;34m)\u001b[0m\u001b[0;34m,\u001b[0m \u001b[0;34m[\u001b[0m\u001b[0mgrads\u001b[0m\u001b[0;34m]\u001b[0m\u001b[0;34m)\u001b[0m \u001b[0;32min\u001b[0m \u001b[0mgrouped_grads\u001b[0m\u001b[0;34m.\u001b[0m\u001b[0mitems\u001b[0m\u001b[0;34m(\u001b[0m\u001b[0;34m)\u001b[0m\u001b[0;34m:\u001b[0m\u001b[0;34m\u001b[0m\u001b[0;34m\u001b[0m\u001b[0m\n\u001b[1;32m     75\u001b[0m         \u001b[0;32mif\u001b[0m \u001b[0;34m(\u001b[0m\u001b[0mforeach\u001b[0m \u001b[0;32mis\u001b[0m \u001b[0;32mNone\u001b[0m \u001b[0;32mor\u001b[0m \u001b[0mforeach\u001b[0m\u001b[0;34m)\u001b[0m \u001b[0;32mand\u001b[0m \u001b[0m_has_foreach_support\u001b[0m\u001b[0;34m(\u001b[0m\u001b[0mgrads\u001b[0m\u001b[0;34m,\u001b[0m \u001b[0mdevice\u001b[0m\u001b[0;34m=\u001b[0m\u001b[0mdevice\u001b[0m\u001b[0;34m)\u001b[0m\u001b[0;34m:\u001b[0m\u001b[0;34m\u001b[0m\u001b[0;34m\u001b[0m\u001b[0m\n\u001b[0;32m---> 76\u001b[0;31m             \u001b[0mtorch\u001b[0m\u001b[0;34m.\u001b[0m\u001b[0m_foreach_mul_\u001b[0m\u001b[0;34m(\u001b[0m\u001b[0mgrads\u001b[0m\u001b[0;34m,\u001b[0m \u001b[0mclip_coef_clamped\u001b[0m\u001b[0;34m.\u001b[0m\u001b[0mto\u001b[0m\u001b[0;34m(\u001b[0m\u001b[0mdevice\u001b[0m\u001b[0;34m)\u001b[0m\u001b[0;34m)\u001b[0m  \u001b[0;31m# type: ignore[call-overload]\u001b[0m\u001b[0;34m\u001b[0m\u001b[0;34m\u001b[0m\u001b[0m\n\u001b[0m\u001b[1;32m     77\u001b[0m         \u001b[0;32melif\u001b[0m \u001b[0mforeach\u001b[0m\u001b[0;34m:\u001b[0m\u001b[0;34m\u001b[0m\u001b[0;34m\u001b[0m\u001b[0m\n\u001b[1;32m     78\u001b[0m             \u001b[0;32mraise\u001b[0m \u001b[0mRuntimeError\u001b[0m\u001b[0;34m(\u001b[0m\u001b[0;34mf'foreach=True was passed, but can\\'t use the foreach API on {device.type} tensors'\u001b[0m\u001b[0;34m)\u001b[0m\u001b[0;34m\u001b[0m\u001b[0;34m\u001b[0m\u001b[0m\n",
            "\u001b[0;31mKeyboardInterrupt\u001b[0m: "
          ]
        }
      ]
    },
    {
      "cell_type": "markdown",
      "metadata": {
        "id": "Bm7_qXPw_qmh"
      },
      "source": [
        "Mostramos el resultados de nuestro entrenamiento"
      ]
    },
    {
      "cell_type": "code",
      "metadata": {
        "id": "c2j1TFmM_aQG",
        "colab": {
          "base_uri": "https://localhost:8080/",
          "height": 525
        },
        "outputId": "8e9ac248-09ed-4be0-cf3b-a62982718bae"
      },
      "source": [
        "plt.plot(history['train_acc'], label='Precisición de entrenamiento')\n",
        "plt.plot(history['val_acc'], label='Precesición de validación')\n",
        "\n",
        "plt.title('Historial de Entrenamiento')\n",
        "plt.ylabel('Precisión')\n",
        "plt.xlabel('Época')\n",
        "plt.legend()\n",
        "plt.ylim([0, 1]);"
      ],
      "execution_count": null,
      "outputs": [
        {
          "output_type": "display_data",
          "data": {
            "image/png": "[encoded data removed]",
            "text/plain": [
              "<Figure size 864x576 with 1 Axes>"
            ]
          },
          "metadata": {
            "tags": []
          }
        }
      ]
    },
    {
      "cell_type": "markdown",
      "metadata": {
        "id": "sBtRQJhTBUsg"
      },
      "source": [
        "Evaluamos nuestro modelo entrenado"
      ]
    },
    {
      "cell_type": "code",
      "metadata": {
        "id": "TujtwBT-A_cA",
        "colab": {
          "base_uri": "https://localhost:8080/",
          "height": 34
        },
        "outputId": "0ff584c2-fe44-446d-913b-825b612afe9f"
      },
      "source": [
        "test_acc, _ = eval_model(\n",
        "  model,\n",
        "  test_data_loader,\n",
        "  loss_fn,\n",
        "  device,\n",
        "  len(df_test)\n",
        ")\n",
        "\n",
        "test_acc.item()"
      ],
      "execution_count": null,
      "outputs": [
        {
          "output_type": "execute_result",
          "data": {
            "text/plain": [
              "0.8075"
            ]
          },
          "metadata": {
            "tags": []
          },
          "execution_count": 101
        }
      ]
    },
    {
      "cell_type": "markdown",
      "metadata": {
        "id": "zMPH0kEvBi-A"
      },
      "source": [
        "Creamos una funcion que nos ayude para predecir nuestro modelo"
      ]
    },
    {
      "cell_type": "code",
      "metadata": {
        "id": "6vKkekywBpAH"
      },
      "source": [
        "def get_predictions(model, data_loader):\n",
        "  model = model.eval()\n",
        "\n",
        "  review_texts = []\n",
        "  predictions = []\n",
        "  prediction_probs = []\n",
        "  real_values = []\n",
        "\n",
        "  with torch.no_grad():\n",
        "    for d in data_loader:\n",
        "\n",
        "      texts = d[\"review_text\"]\n",
        "      input_ids = d[\"input_ids\"].to(device)\n",
        "      attention_mask = d[\"attention_mask\"].to(device)\n",
        "      targets = d[\"targets\"].to(device)\n",
        "\n",
        "      outputs = model(\n",
        "        input_ids=input_ids,\n",
        "        attention_mask=attention_mask\n",
        "      )\n",
        "      _, preds = torch.max(outputs, dim=1)\n",
        "\n",
        "      probs = F.softmax(outputs, dim=1)\n",
        "\n",
        "      review_texts.extend(texts)\n",
        "      predictions.extend(preds)\n",
        "      prediction_probs.extend(probs)\n",
        "      real_values.extend(targets)\n",
        "\n",
        "  predictions = torch.stack(predictions).cpu()\n",
        "  prediction_probs = torch.stack(prediction_probs).cpu()\n",
        "  real_values = torch.stack(real_values).cpu()\n",
        "  return review_texts, predictions, prediction_probs, real_values"
      ],
      "execution_count": null,
      "outputs": []
    },
    {
      "cell_type": "code",
      "metadata": {
        "id": "g8KN39RCBv9A",
        "colab": {
          "base_uri": "https://localhost:8080/",
          "height": 874
        },
        "outputId": "62947104-735f-4979-a152-7827a1cd18e4"
      },
      "source": [
        "y_review_texts, y_pred, y_pred_probs, y_test = get_predictions(\n",
        "  model,\n",
        "  test_data_loader\n",
        ")\n",
        "print(y_test)\n",
        "print(y_pred_probs)\n",
        "print(classification_report(y_test, y_pred, target_names=class_names))"
      ],
      "execution_count": null,
      "outputs": [
        {
          "output_type": "stream",
          "text": [
            "tensor([2, 0, 0, 1, 1, 2, 2, 0, 2, 1, 1, 2, 2, 2, 2, 2, 0, 0, 0, 0, 0, 2, 0, 1,\n",
            "        2, 0, 0, 1, 0, 0, 1, 0, 2, 2, 0, 2, 1, 1, 1, 2, 0, 2, 2, 2, 0, 2, 2, 1,\n",
            "        1, 2, 1, 0, 0, 0, 0, 2, 1, 2, 1, 0, 2, 1, 0, 0, 2, 2, 0, 2, 2, 2, 1, 0,\n",
            "        2, 2, 2, 2, 1, 0, 2, 2, 2, 1, 0, 1, 1, 1, 2, 1, 1, 0, 0, 1, 0, 0, 1, 2,\n",
            "        2, 1, 0, 2, 2, 0, 2, 2, 1, 2, 1, 0, 0, 2, 2, 2, 0, 1, 0, 2, 2, 0, 0, 2,\n",
            "        0, 0, 1, 1, 2, 1, 1, 0, 0, 2, 0, 2, 0, 2, 2, 1, 2, 1, 1, 1, 1, 1, 0, 0,\n",
            "        2, 0, 2, 2, 0, 0, 1, 1, 0, 2, 2, 1, 1, 0, 0, 0, 2, 0, 0, 0, 2, 0, 2, 2,\n",
            "        0, 0, 2, 2, 0, 2, 2, 0, 1, 2, 0, 2, 0, 0, 1, 2, 0, 2, 1, 0, 2, 1, 2, 1,\n",
            "        2, 2, 0, 0, 0, 2, 0, 2, 2, 1, 0, 0, 2, 2, 1, 1, 0, 1, 2, 2, 1, 0, 1, 1,\n",
            "        2, 0, 1, 0, 2, 2, 2, 1, 1, 1, 0, 1, 1, 0, 0, 2, 0, 1, 2, 2, 2, 2, 0, 0,\n",
            "        0, 2, 0, 0, 0, 0, 0, 2, 0, 2, 0, 0, 2, 0, 2, 2, 0, 1, 0, 2, 1, 2, 0, 1,\n",
            "        0, 0, 0, 1, 1, 0, 2, 0, 1, 2, 2, 0, 2, 1, 2, 1, 2, 2, 2, 2, 1, 2, 2, 1,\n",
            "        0, 1, 0, 2, 1, 0, 2, 1, 2, 2, 0, 2, 1, 2, 2, 0, 0, 1, 2, 1, 2, 2, 2, 0,\n",
            "        1, 0, 2, 1, 2, 0, 1, 2, 0, 2, 0, 2, 1, 2, 2, 0, 0, 0, 1, 1, 0, 1, 2, 2,\n",
            "        2, 2, 2, 0, 0, 1, 1, 1, 1, 0, 2, 2, 0, 0, 2, 2, 2, 1, 2, 1, 0, 2, 2, 0,\n",
            "        0, 2, 0, 1, 0, 2, 1, 1, 2, 0, 1, 1, 1, 1, 0, 2, 1, 1, 2, 2, 0, 0, 1, 2,\n",
            "        0, 2, 2, 0, 1, 1, 1, 0, 2, 2, 2, 0, 2, 0, 1, 2, 0, 1, 1, 0, 1, 0, 1, 2,\n",
            "        0, 1, 1, 0, 0, 2, 0, 0, 2, 0, 0, 1, 2, 0, 1, 2, 2, 1, 2, 1, 1, 0, 1, 1,\n",
            "        0, 2, 1, 2, 2, 1, 0, 0, 0, 1, 2, 0, 2, 2, 0, 0, 0, 0, 2, 2, 0, 2, 1, 1,\n",
            "        1, 1, 2, 2, 1, 2, 1, 1, 2, 0, 0, 1, 1, 2, 2, 0, 2, 0, 0, 0, 2, 1, 2, 2,\n",
            "        0, 0, 1, 0, 1, 1, 0, 0, 0, 2, 0, 2, 0, 0, 0, 1, 0, 2, 0, 1, 2, 0, 1, 0,\n",
            "        0, 2, 2, 1, 0, 0, 2, 1, 0, 2, 2, 2, 0, 2, 0, 2, 2, 2, 0, 2, 2, 1, 1, 0,\n",
            "        1, 1, 2, 2, 1, 0, 0, 1, 1, 0, 1, 0, 0, 2, 0, 2, 0, 1, 1, 0, 2, 1, 1, 1,\n",
            "        1, 1, 2, 2, 2, 2, 1, 0, 2, 1, 2, 1, 0, 2, 1, 1, 0, 1, 0, 2, 1, 1, 1, 0,\n",
            "        0, 2, 0, 2, 2, 2, 2, 0, 2, 2, 0, 1, 1, 2, 2, 1, 0, 1, 1, 1, 0, 1, 0, 0,\n",
            "        1, 2, 1, 0, 1, 0, 0, 1, 0, 0, 2, 2, 0, 2, 0, 1, 2, 1, 0, 1, 2, 0, 2, 0,\n",
            "        2, 2, 2, 2, 2, 2, 2, 1, 2, 0, 2, 2, 0, 2, 2, 2, 1, 2, 2, 0, 1, 1, 1, 2,\n",
            "        2, 2, 1, 2, 1, 0, 1, 2, 0, 2, 1, 2, 1, 1, 1, 2, 1, 2, 2, 1, 1, 1, 0, 2,\n",
            "        2, 1, 1, 1, 0, 2, 1, 2, 1, 2, 1, 2, 1, 0, 0, 2, 2, 2, 0, 0, 2, 0, 0, 2,\n",
            "        0, 1, 0, 1, 0, 2, 2, 2, 2, 0, 0, 0, 0, 0, 2, 1, 0, 2, 0, 2, 0, 0, 2, 2,\n",
            "        2, 0, 0, 0, 1, 1, 2, 0, 1, 0, 0, 2, 0, 2, 1, 1, 2, 0, 2, 2, 2, 0, 1, 2,\n",
            "        2, 0, 0, 1, 1, 0, 0, 1, 0, 1, 0, 2, 0, 1, 1, 2, 2, 0, 2, 1, 0, 0, 1, 2,\n",
            "        2, 2, 2, 2, 1, 1, 1, 2, 2, 1, 0, 0, 2, 0, 0, 0, 0, 0, 2, 2, 1, 0, 0, 2,\n",
            "        2, 0, 2, 2, 0, 1, 2, 0])\n",
            "tensor([[5.9153e-05, 6.1300e-05, 9.9988e-01],\n",
            "        [4.4026e-05, 1.1492e-04, 9.9984e-01],\n",
            "        [9.9987e-01, 7.2983e-05, 6.0786e-05],\n",
            "        ...,\n",
            "        [5.1363e-05, 9.9987e-01, 7.9079e-05],\n",
            "        [1.7478e-02, 8.1537e-02, 9.0099e-01],\n",
            "        [9.9989e-01, 5.7219e-05, 5.0183e-05]])\n",
            "              precision    recall  f1-score   support\n",
            "\n",
            "    Negativo       0.86      0.85      0.85       274\n",
            "     Neutral       0.73      0.75      0.74       224\n",
            "    Positivo       0.82      0.81      0.82       302\n",
            "\n",
            "    accuracy                           0.81       800\n",
            "   macro avg       0.80      0.80      0.80       800\n",
            "weighted avg       0.81      0.81      0.81       800\n",
            "\n"
          ],
          "name": "stdout"
        }
      ]
    },
    {
      "cell_type": "markdown",
      "metadata": {
        "id": "sA0l9hJDB8GZ"
      },
      "source": [
        "Creamos una funcion para mostrar la matriz de confusion"
      ]
    },
    {
      "cell_type": "code",
      "metadata": {
        "id": "W7Yk82hoB4fy",
        "colab": {
          "base_uri": "https://localhost:8080/",
          "height": 534
        },
        "outputId": "50c56378-a960-4067-f49a-ede92eb7e2c7"
      },
      "source": [
        "def show_confusion_matrix(confusion_matrix):\n",
        "  hmap = sns.heatmap(confusion_matrix, annot=True, fmt=\"d\", cmap=\"Blues\")\n",
        "  hmap.yaxis.set_ticklabels(hmap.yaxis.get_ticklabels(), rotation=0, ha='right')\n",
        "  hmap.xaxis.set_ticklabels(hmap.xaxis.get_ticklabels(), rotation=30, ha='right')\n",
        "  plt.ylabel('Sentimiento verdadero')\n",
        "  plt.xlabel('Sentimiento Predecido');\n",
        "\n",
        "cm = confusion_matrix(y_test, y_pred)\n",
        "df_cm = pd.DataFrame(cm, index=class_names, columns=class_names)\n",
        "show_confusion_matrix(df_cm)"
      ],
      "execution_count": null,
      "outputs": [
        {
          "output_type": "display_data",
          "data": {
            "image/png": "[encoded data removed]",
            "text/plain": [
              "<Figure size 864x576 with 2 Axes>"
            ]
          },
          "metadata": {
            "tags": []
          }
        }
      ]
    },
    {
      "cell_type": "code",
      "metadata": {
        "id": "G1JmrextCRRN"
      },
      "source": [
        "idx = 2\n",
        "\n",
        "review_text = y_review_texts[idx]\n",
        "true_sentiment = y_test[idx]\n",
        "pred_df = pd.DataFrame({\n",
        "  'class_names': class_names,\n",
        "  'values': y_pred_probs[idx]\n",
        "})"
      ],
      "execution_count": null,
      "outputs": []
    },
    {
      "cell_type": "code",
      "metadata": {
        "id": "QIFsGu7eCS4s",
        "colab": {
          "base_uri": "https://localhost:8080/",
          "height": 187
        },
        "outputId": "40d3797a-49cd-47b1-ed10-ab408c58634f"
      },
      "source": [
        "print(\"\\n\".join(wrap(review_text)))\n",
        "print()\n",
        "print(f'True sentiment: {class_names[true_sentiment]}')"
      ],
      "execution_count": null,
      "outputs": [
        {
          "output_type": "stream",
          "text": [
            "Cuando comenze con brainly fueron hace 2 años y me funcionaba bien las\n",
            "respuestas coherentes y precisas pero cuando lo volvi a usarlo yo\n",
            "quería preguntar mi duda y cuando me dieron la respuesta era inútil no\n",
            "tenía ningún sentido \"solo contestan para ganar puntos y suban de\n",
            "rango\" revise el perfil del usuario que me contesto mi duda y me di\n",
            "con la sorpresa de que todas sus respuestas eran iguales y me enoje y\n",
            "quiero que le quiten la cuenta a Pandaarmy21 y a otros usuarios que\n",
            "hacen lo mismo.\n",
            "\n",
            "True sentiment: negative\n"
          ],
          "name": "stdout"
        }
      ]
    },
    {
      "cell_type": "markdown",
      "metadata": {
        "id": "KNpKTEPhDHOI"
      },
      "source": [
        "haremos una funcion para facilitar\n"
      ]
    },
    {
      "cell_type": "code",
      "metadata": {
        "id": "MBzoXVJ4C0Xd"
      },
      "source": [
        "review_text = \"deben mejorar no me permite guardar\""
      ],
      "execution_count": null,
      "outputs": []
    },
    {
      "cell_type": "code",
      "metadata": {
        "id": "ktnTJLzDDD3D"
      },
      "source": [
        "encoded_review = tokenizer.encode_plus(\n",
        "  review_text,\n",
        "  max_length=MAX_LEN,\n",
        "  add_special_tokens=True,\n",
        "  return_token_type_ids=False,\n",
        "  pad_to_max_length=True,\n",
        "  return_attention_mask=True,\n",
        "  return_tensors='pt',\n",
        ")"
      ],
      "execution_count": null,
      "outputs": []
    },
    {
      "cell_type": "code",
      "metadata": {
        "id": "cGWmlH1_DOra",
        "colab": {
          "base_uri": "https://localhost:8080/",
          "height": 51
        },
        "outputId": "987d0ea9-1ee0-4a51-8343-5410e5e5d9ff"
      },
      "source": [
        "input_ids = encoded_review['input_ids'].to(device)\n",
        "attention_mask = encoded_review['attention_mask'].to(device)\n",
        "\n",
        "output = model(input_ids, attention_mask)\n",
        "_, prediction = torch.max(output, dim=1)\n",
        "\n",
        "print(f'Review text: {review_text}')\n",
        "print(f'Sentiment  : {class_names[prediction]}')"
      ],
      "execution_count": null,
      "outputs": [
        {
          "output_type": "stream",
          "text": [
            "Review text: deben mejorar no me permite guardar\n",
            "Sentiment  : negative\n"
          ],
          "name": "stdout"
        }
      ]
    },
    {
      "cell_type": "markdown",
      "metadata": {
        "id": "eyXJT9k7DoFX"
      },
      "source": [
        "Guardamos nuestro modelo"
      ]
    },
    {
      "cell_type": "code",
      "metadata": {
        "id": "lfZyAcqODndd"
      },
      "source": [
        "from google.colab import drive\n"
      ],
      "execution_count": null,
      "outputs": []
    },
    {
      "cell_type": "markdown",
      "metadata": {
        "id": "v2OXnIjArt5J"
      },
      "source": [
        "Verificamos si nuestro modelo se guardo"
      ]
    },
    {
      "cell_type": "code",
      "metadata": {
        "id": "psNOhZGtimoT",
        "colab": {
          "base_uri": "https://localhost:8080/",
          "height": 34
        },
        "outputId": "ff737be8-2a5b-4370-e8e0-3d45569db1ce"
      },
      "source": [
        "#%cd /root/model_save/drive/\n",
        "%ls\n"
      ],
      "execution_count": null,
      "outputs": [
        {
          "output_type": "stream",
          "text": [
            "best_model_state.bin\n"
          ],
          "name": "stdout"
        }
      ]
    },
    {
      "cell_type": "code",
      "metadata": {
        "id": "Br0HaL5yFD3O",
        "colab": {
          "base_uri": "https://localhost:8080/",
          "height": 34
        },
        "outputId": "26e5b3fd-2017-413c-ad69-6deaf56718a3"
      },
      "source": [
        "#Guardamos el Tokenize\n",
        "tokenizer.save_pretrained(output_dir)\n"
      ],
      "execution_count": null,
      "outputs": [
        {
          "output_type": "stream",
          "text": [
            "Saving directory (./model_save/) should be a directory\n"
          ],
          "name": "stderr"
        }
      ]
    },
    {
      "cell_type": "code",
      "metadata": {
        "id": "ZBdeYCAeMlIP",
        "colab": {
          "base_uri": "https://localhost:8080/",
          "height": 34
        },
        "outputId": "4cd466c7-7782-4195-f649-acaa8c727c33"
      },
      "source": [
        "from google.colab import drive\n",
        "drive.mount('/content/gdrive')\n",
        "\n",
        "#!cp -r /root/model_save/best_model_state.bin \"./drive/My drive/Colab Notebooks\"\n"
      ],
      "execution_count": null,
      "outputs": [
        {
          "output_type": "stream",
          "text": [
            "Drive already mounted at /content/gdrive; to attempt to forcibly remount, call drive.mount(\"/content/gdrive\", force_remount=True).\n"
          ],
          "name": "stdout"
        }
      ]
    },
    {
      "cell_type": "code",
      "metadata": {
        "id": "ZhGqmPs8wieg"
      },
      "source": [
        "!cp -r /root/model_save/best_model_state.bin \"/content/gdrive/My Drive/Colab Notebooks\""
      ],
      "execution_count": null,
      "outputs": []
    },
    {
      "cell_type": "markdown",
      "metadata": {
        "id": "f9ES_gX6fUiD"
      },
      "source": [
        "CARGAMOS NUESTRO MODELO ENTRENADO"
      ]
    },
    {
      "cell_type": "code",
      "metadata": {
        "id": "tX7OPeZDe4T6",
        "colab": {
          "base_uri": "https://localhost:8080/",
          "height": 85
        },
        "outputId": "78a83179-d68a-41dd-a47e-a0deec0880c8"
      },
      "source": [
        "!gdown --id 1nEP1pkj3kMLHg-OwIluSHfgsDEXkqmdO\n"
      ],
      "execution_count": null,
      "outputs": [
        {
          "output_type": "stream",
          "text": [
            "Downloading...\n",
            "From: https://drive.google.com/uc?id=1nEP1pkj3kMLHg-OwIluSHfgsDEXkqmdO\n",
            "To: /root/model_save/drive/best_model_state.bin\n",
            "439MB [00:02, 193MB/s]\n"
          ],
          "name": "stdout"
        }
      ]
    },
    {
      "cell_type": "code",
      "metadata": {
        "id": "CyDpXXNnfwa9"
      },
      "source": [
        "model = SentimentClassifier(len(class_names))\n",
        "model.load_state_dict(torch.load('best_model_state.bin'))\n",
        "model = model.to(device)\n"
      ],
      "execution_count": null,
      "outputs": []
    },
    {
      "cell_type": "code",
      "metadata": {
        "id": "kBvBVPLYjTkf",
        "colab": {
          "base_uri": "https://localhost:8080/",
          "height": 1000
        },
        "outputId": "2371b0ad-b9b7-4a94-d941-748c10b1b337"
      },
      "source": [
        "test_data_loader = create_data_loader(df_test, tokenizer, MAX_LEN, BATCH_SIZE)\n",
        "\n",
        "\n",
        "y_review_texts, y_pred, y_pred_probs, y_test = get_predictions(\n",
        "  model,\n",
        "  test_data_loader\n",
        ")\n",
        "print(y_test)\n",
        "print(y_pred_probs)\n",
        "\n",
        "print(classification_report(y_test, y_pred, target_names=class_names))"
      ],
      "execution_count": null,
      "outputs": [
        {
          "output_type": "stream",
          "text": [
            "tensor([0, 0, 2, 0, 1, 1, 1, 2, 2, 0, 2, 0, 2, 1, 1, 0, 2, 1, 2, 1, 2, 0, 0, 1,\n",
            "        0, 0, 1, 2, 1, 0, 1, 2, 1, 1, 0, 2, 0, 2, 0, 1, 2, 2, 1, 0, 1, 0, 2, 1,\n",
            "        2, 1, 2, 0, 1, 2, 2, 0, 1, 1, 1, 2, 2, 2, 1, 1, 0, 1, 1, 1, 1, 2, 1, 1,\n",
            "        2, 1, 0, 1, 0, 2, 1, 0, 0, 1, 2, 1, 0, 2, 2, 2, 0, 1, 0, 2, 2, 1, 0, 0,\n",
            "        2, 0, 1, 0, 1, 1, 0, 1, 2, 2, 2, 2, 2, 0, 2, 0, 1, 2, 0, 0, 2, 0, 0, 0])\n",
            "tensor([[9.9958e-01, 1.9918e-04, 2.2337e-04],\n",
            "        [9.9229e-01, 4.8571e-03, 2.8523e-03],\n",
            "        [1.3134e-03, 1.0103e-03, 9.9768e-01],\n",
            "        [9.6280e-01, 1.1847e-02, 2.5357e-02],\n",
            "        [4.6364e-04, 9.9883e-01, 7.0224e-04],\n",
            "        [4.0012e-04, 9.9862e-01, 9.7823e-04],\n",
            "        [4.1607e-04, 9.9929e-01, 2.9123e-04],\n",
            "        [7.0574e-04, 9.9808e-01, 1.2142e-03],\n",
            "        [7.8669e-04, 1.5907e-03, 9.9762e-01],\n",
            "        [9.9844e-01, 6.0735e-04, 9.5532e-04],\n",
            "        [6.5907e-03, 5.2910e-01, 4.6430e-01],\n",
            "        [9.9944e-01, 2.6159e-04, 2.9825e-04],\n",
            "        [9.9762e-01, 1.9149e-03, 4.6485e-04],\n",
            "        [3.0072e-04, 9.9811e-01, 1.5870e-03],\n",
            "        [9.6433e-01, 2.7878e-02, 7.7955e-03],\n",
            "        [9.9924e-01, 3.6866e-04, 3.8708e-04],\n",
            "        [4.3622e-04, 1.1389e-03, 9.9842e-01],\n",
            "        [2.2486e-03, 9.0820e-01, 8.9550e-02],\n",
            "        [8.8878e-04, 1.0113e-03, 9.9810e-01],\n",
            "        [6.3523e-04, 1.3112e-03, 9.9805e-01],\n",
            "        [1.2430e-03, 9.1088e-04, 9.9785e-01],\n",
            "        [9.4028e-01, 2.1436e-02, 3.8287e-02],\n",
            "        [9.9952e-01, 2.1172e-04, 2.6947e-04],\n",
            "        [3.2443e-04, 9.9894e-01, 7.3488e-04],\n",
            "        [9.9951e-01, 2.5410e-04, 2.3738e-04],\n",
            "        [9.9924e-01, 4.8446e-04, 2.7556e-04],\n",
            "        [2.4246e-04, 9.9917e-01, 5.8380e-04],\n",
            "        [3.8498e-04, 3.5125e-03, 9.9610e-01],\n",
            "        [5.8166e-04, 9.9906e-01, 3.5742e-04],\n",
            "        [9.9945e-01, 2.6421e-04, 2.8422e-04],\n",
            "        [3.7740e-04, 9.9902e-01, 6.0376e-04],\n",
            "        [9.7173e-03, 4.6052e-02, 9.4423e-01],\n",
            "        [1.9995e-04, 9.9922e-01, 5.7520e-04],\n",
            "        [2.8627e-04, 9.9853e-01, 1.1880e-03],\n",
            "        [3.3919e-01, 2.9296e-01, 3.6785e-01],\n",
            "        [4.3925e-04, 1.1089e-03, 9.9845e-01],\n",
            "        [7.5617e-03, 7.4526e-03, 9.8499e-01],\n",
            "        [3.8194e-04, 2.2558e-03, 9.9736e-01],\n",
            "        [9.9940e-01, 3.2344e-04, 2.7225e-04],\n",
            "        [6.3523e-04, 1.3112e-03, 9.9805e-01],\n",
            "        [7.5912e-04, 1.8095e-02, 9.8115e-01],\n",
            "        [7.3569e-04, 1.1548e-03, 9.9811e-01],\n",
            "        [2.5818e-04, 9.9867e-01, 1.0690e-03],\n",
            "        [9.5330e-01, 4.4932e-02, 1.7643e-03],\n",
            "        [2.4661e-04, 9.9787e-01, 1.8787e-03],\n",
            "        [9.9943e-01, 2.1152e-04, 3.5378e-04],\n",
            "        [3.3002e-04, 4.2509e-03, 9.9542e-01],\n",
            "        [5.0306e-04, 9.9895e-01, 5.4720e-04],\n",
            "        [4.5414e-04, 1.1457e-03, 9.9840e-01],\n",
            "        [3.0950e-04, 9.9935e-01, 3.4136e-04],\n",
            "        [7.4191e-04, 7.7576e-04, 9.9848e-01],\n",
            "        [9.9946e-01, 3.0144e-04, 2.3719e-04],\n",
            "        [3.4012e-04, 9.9916e-01, 4.9892e-04],\n",
            "        [4.3905e-03, 8.6779e-02, 9.0883e-01],\n",
            "        [3.7598e-04, 1.3787e-03, 9.9825e-01],\n",
            "        [9.9956e-01, 1.6748e-04, 2.7184e-04],\n",
            "        [3.8088e-04, 9.9822e-01, 1.4037e-03],\n",
            "        [2.8149e-04, 9.9882e-01, 8.9477e-04],\n",
            "        [5.6491e-04, 9.9905e-01, 3.8931e-04],\n",
            "        [5.1702e-04, 8.7497e-04, 9.9861e-01],\n",
            "        [5.7937e-04, 1.0557e-03, 9.9836e-01],\n",
            "        [1.7728e-03, 2.0053e-03, 9.9622e-01],\n",
            "        [8.2546e-01, 6.0596e-02, 1.1394e-01],\n",
            "        [2.8024e-04, 9.9919e-01, 5.2858e-04],\n",
            "        [5.0159e-02, 9.3996e-01, 9.8768e-03],\n",
            "        [9.6433e-01, 2.7878e-02, 7.7955e-03],\n",
            "        [2.0480e-03, 3.4202e-02, 9.6375e-01],\n",
            "        [7.2916e-04, 9.9892e-01, 3.5229e-04],\n",
            "        [9.0514e-03, 2.3959e-03, 9.8855e-01],\n",
            "        [4.8692e-04, 9.9716e-01, 2.3568e-03],\n",
            "        [2.2877e-04, 9.9923e-01, 5.4525e-04],\n",
            "        [3.0758e-04, 9.9910e-01, 5.8991e-04],\n",
            "        [8.2205e-04, 9.5398e-04, 9.9822e-01],\n",
            "        [3.4510e-04, 9.9917e-01, 4.8117e-04],\n",
            "        [9.9957e-01, 2.0895e-04, 2.2273e-04],\n",
            "        [4.5517e-04, 9.9906e-01, 4.8645e-04],\n",
            "        [2.6842e-01, 3.1002e-01, 4.2156e-01],\n",
            "        [9.9937e-01, 3.2580e-04, 3.0800e-04],\n",
            "        [8.7300e-01, 5.7350e-02, 6.9653e-02],\n",
            "        [9.9955e-01, 2.3159e-04, 2.2275e-04],\n",
            "        [4.6419e-02, 9.4294e-01, 1.0638e-02],\n",
            "        [3.9594e-04, 9.9907e-01, 5.3619e-04],\n",
            "        [4.0444e-04, 1.4685e-03, 9.9813e-01],\n",
            "        [3.0566e-04, 9.9898e-01, 7.1056e-04],\n",
            "        [9.9953e-01, 2.5415e-04, 2.1833e-04],\n",
            "        [8.6096e-03, 2.2396e-01, 7.6743e-01],\n",
            "        [3.9424e-02, 2.8875e-01, 6.7182e-01],\n",
            "        [8.1156e-04, 5.0039e-02, 9.4915e-01],\n",
            "        [9.9701e-01, 2.2183e-03, 7.6717e-04],\n",
            "        [2.8483e-04, 9.9915e-01, 5.6576e-04],\n",
            "        [5.0285e-02, 9.4736e-01, 2.3504e-03],\n",
            "        [1.0151e-03, 6.0871e-03, 9.9290e-01],\n",
            "        [1.7477e-03, 5.8981e-03, 9.9235e-01],\n",
            "        [1.5800e-03, 9.9746e-01, 9.6110e-04],\n",
            "        [9.9942e-01, 2.5570e-04, 3.2243e-04],\n",
            "        [9.9958e-01, 1.7299e-04, 2.4890e-04],\n",
            "        [4.1738e-04, 1.1131e-03, 9.9847e-01],\n",
            "        [8.5201e-04, 9.3372e-04, 9.9821e-01],\n",
            "        [3.5553e-04, 9.9919e-01, 4.5550e-04],\n",
            "        [9.9953e-01, 2.1191e-04, 2.5763e-04],\n",
            "        [6.5870e-04, 9.9712e-01, 2.2263e-03],\n",
            "        [3.7428e-04, 9.9908e-01, 5.4761e-04],\n",
            "        [5.8671e-01, 4.0966e-01, 3.6354e-03],\n",
            "        [4.1353e-04, 9.9619e-01, 3.3986e-03],\n",
            "        [3.9424e-02, 2.8875e-01, 6.7182e-01],\n",
            "        [8.9210e-02, 2.5225e-01, 6.5854e-01],\n",
            "        [4.4784e-04, 1.1505e-03, 9.9840e-01],\n",
            "        [9.4648e-04, 1.5510e-03, 9.9750e-01],\n",
            "        [1.6895e-02, 7.2450e-02, 9.1065e-01],\n",
            "        [6.0877e-03, 7.7073e-01, 2.2318e-01],\n",
            "        [3.6635e-04, 2.7588e-03, 9.9687e-01],\n",
            "        [9.9954e-01, 1.8628e-04, 2.7381e-04],\n",
            "        [2.6555e-04, 9.9898e-01, 7.5298e-04],\n",
            "        [1.4395e-02, 1.0219e-01, 8.8341e-01],\n",
            "        [9.9956e-01, 1.8856e-04, 2.5535e-04],\n",
            "        [9.9952e-01, 2.3274e-04, 2.4717e-04],\n",
            "        [5.5417e-04, 1.1873e-03, 9.9826e-01],\n",
            "        [9.9949e-01, 2.7788e-04, 2.3551e-04],\n",
            "        [9.9957e-01, 1.7600e-04, 2.5845e-04],\n",
            "        [9.9959e-01, 1.7482e-04, 2.3788e-04]])\n",
            "              precision    recall  f1-score   support\n",
            "\n",
            "    negative       0.83      0.79      0.81        38\n",
            "     neutral       0.83      0.81      0.82        42\n",
            "    positive       0.81      0.88      0.84        40\n",
            "\n",
            "    accuracy                           0.82       120\n",
            "   macro avg       0.83      0.82      0.82       120\n",
            "weighted avg       0.83      0.82      0.82       120\n",
            "\n"
          ],
          "name": "stdout"
        }
      ]
    },
    {
      "cell_type": "code",
      "metadata": {
        "id": "Vbsr5qkiT_Dc"
      },
      "source": [],
      "execution_count": null,
      "outputs": []
    }
  ]
}